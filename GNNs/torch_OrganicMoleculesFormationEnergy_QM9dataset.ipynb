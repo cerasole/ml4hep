{
  "nbformat": 4,
  "nbformat_minor": 0,
  "metadata": {
    "colab": {
      "provenance": [],
      "authorship_tag": "ABX9TyNPsPVYT6ByiGPKsDoh9n6f",
      "include_colab_link": true
    },
    "kernelspec": {
      "name": "python3",
      "display_name": "Python 3"
    },
    "language_info": {
      "name": "python"
    },
    "widgets": {
      "application/vnd.jupyter.widget-state+json": {
        "62d6c75676d74bdf8e79a881e34ce510": {
          "model_module": "@jupyter-widgets/controls",
          "model_name": "HBoxModel",
          "model_module_version": "1.5.0",
          "state": {
            "_dom_classes": [],
            "_model_module": "@jupyter-widgets/controls",
            "_model_module_version": "1.5.0",
            "_model_name": "HBoxModel",
            "_view_count": null,
            "_view_module": "@jupyter-widgets/controls",
            "_view_module_version": "1.5.0",
            "_view_name": "HBoxView",
            "box_style": "",
            "children": [
              "IPY_MODEL_154aab920f0445b585789176983b413e",
              "IPY_MODEL_7e2d3133ddc14ae8b3da96bb5da342c9",
              "IPY_MODEL_248b60eac0d640ecac35accf87d6e761"
            ],
            "layout": "IPY_MODEL_5037f83d4b1e4af3964cf9429fb62902"
          }
        },
        "154aab920f0445b585789176983b413e": {
          "model_module": "@jupyter-widgets/controls",
          "model_name": "HTMLModel",
          "model_module_version": "1.5.0",
          "state": {
            "_dom_classes": [],
            "_model_module": "@jupyter-widgets/controls",
            "_model_module_version": "1.5.0",
            "_model_name": "HTMLModel",
            "_view_count": null,
            "_view_module": "@jupyter-widgets/controls",
            "_view_module_version": "1.5.0",
            "_view_name": "HTMLView",
            "description": "",
            "description_tooltip": null,
            "layout": "IPY_MODEL_89135f1463b84794beaa1c650490e3f9",
            "placeholder": "​",
            "style": "IPY_MODEL_6681a7ba5fd842a48299f7cc3f59984b",
            "value": "100%"
          }
        },
        "7e2d3133ddc14ae8b3da96bb5da342c9": {
          "model_module": "@jupyter-widgets/controls",
          "model_name": "FloatProgressModel",
          "model_module_version": "1.5.0",
          "state": {
            "_dom_classes": [],
            "_model_module": "@jupyter-widgets/controls",
            "_model_module_version": "1.5.0",
            "_model_name": "FloatProgressModel",
            "_view_count": null,
            "_view_module": "@jupyter-widgets/controls",
            "_view_module_version": "1.5.0",
            "_view_name": "ProgressView",
            "bar_style": "success",
            "description": "",
            "description_tooltip": null,
            "layout": "IPY_MODEL_34bb3d57c15b4ea3b2d5cb2ab6a33151",
            "max": 15,
            "min": 0,
            "orientation": "horizontal",
            "style": "IPY_MODEL_9f2086ac4f284e32bb9b0347cfeb8973",
            "value": 15
          }
        },
        "248b60eac0d640ecac35accf87d6e761": {
          "model_module": "@jupyter-widgets/controls",
          "model_name": "HTMLModel",
          "model_module_version": "1.5.0",
          "state": {
            "_dom_classes": [],
            "_model_module": "@jupyter-widgets/controls",
            "_model_module_version": "1.5.0",
            "_model_name": "HTMLModel",
            "_view_count": null,
            "_view_module": "@jupyter-widgets/controls",
            "_view_module_version": "1.5.0",
            "_view_name": "HTMLView",
            "description": "",
            "description_tooltip": null,
            "layout": "IPY_MODEL_9770485dd2f2432592c3ed45fbb69776",
            "placeholder": "​",
            "style": "IPY_MODEL_48758e67b33e4449bade48a6ea20aef9",
            "value": " 15/15 [03:06&lt;00:00, 10.46s/it]"
          }
        },
        "5037f83d4b1e4af3964cf9429fb62902": {
          "model_module": "@jupyter-widgets/base",
          "model_name": "LayoutModel",
          "model_module_version": "1.2.0",
          "state": {
            "_model_module": "@jupyter-widgets/base",
            "_model_module_version": "1.2.0",
            "_model_name": "LayoutModel",
            "_view_count": null,
            "_view_module": "@jupyter-widgets/base",
            "_view_module_version": "1.2.0",
            "_view_name": "LayoutView",
            "align_content": null,
            "align_items": null,
            "align_self": null,
            "border": null,
            "bottom": null,
            "display": null,
            "flex": null,
            "flex_flow": null,
            "grid_area": null,
            "grid_auto_columns": null,
            "grid_auto_flow": null,
            "grid_auto_rows": null,
            "grid_column": null,
            "grid_gap": null,
            "grid_row": null,
            "grid_template_areas": null,
            "grid_template_columns": null,
            "grid_template_rows": null,
            "height": null,
            "justify_content": null,
            "justify_items": null,
            "left": null,
            "margin": null,
            "max_height": null,
            "max_width": null,
            "min_height": null,
            "min_width": null,
            "object_fit": null,
            "object_position": null,
            "order": null,
            "overflow": null,
            "overflow_x": null,
            "overflow_y": null,
            "padding": null,
            "right": null,
            "top": null,
            "visibility": null,
            "width": null
          }
        },
        "89135f1463b84794beaa1c650490e3f9": {
          "model_module": "@jupyter-widgets/base",
          "model_name": "LayoutModel",
          "model_module_version": "1.2.0",
          "state": {
            "_model_module": "@jupyter-widgets/base",
            "_model_module_version": "1.2.0",
            "_model_name": "LayoutModel",
            "_view_count": null,
            "_view_module": "@jupyter-widgets/base",
            "_view_module_version": "1.2.0",
            "_view_name": "LayoutView",
            "align_content": null,
            "align_items": null,
            "align_self": null,
            "border": null,
            "bottom": null,
            "display": null,
            "flex": null,
            "flex_flow": null,
            "grid_area": null,
            "grid_auto_columns": null,
            "grid_auto_flow": null,
            "grid_auto_rows": null,
            "grid_column": null,
            "grid_gap": null,
            "grid_row": null,
            "grid_template_areas": null,
            "grid_template_columns": null,
            "grid_template_rows": null,
            "height": null,
            "justify_content": null,
            "justify_items": null,
            "left": null,
            "margin": null,
            "max_height": null,
            "max_width": null,
            "min_height": null,
            "min_width": null,
            "object_fit": null,
            "object_position": null,
            "order": null,
            "overflow": null,
            "overflow_x": null,
            "overflow_y": null,
            "padding": null,
            "right": null,
            "top": null,
            "visibility": null,
            "width": null
          }
        },
        "6681a7ba5fd842a48299f7cc3f59984b": {
          "model_module": "@jupyter-widgets/controls",
          "model_name": "DescriptionStyleModel",
          "model_module_version": "1.5.0",
          "state": {
            "_model_module": "@jupyter-widgets/controls",
            "_model_module_version": "1.5.0",
            "_model_name": "DescriptionStyleModel",
            "_view_count": null,
            "_view_module": "@jupyter-widgets/base",
            "_view_module_version": "1.2.0",
            "_view_name": "StyleView",
            "description_width": ""
          }
        },
        "34bb3d57c15b4ea3b2d5cb2ab6a33151": {
          "model_module": "@jupyter-widgets/base",
          "model_name": "LayoutModel",
          "model_module_version": "1.2.0",
          "state": {
            "_model_module": "@jupyter-widgets/base",
            "_model_module_version": "1.2.0",
            "_model_name": "LayoutModel",
            "_view_count": null,
            "_view_module": "@jupyter-widgets/base",
            "_view_module_version": "1.2.0",
            "_view_name": "LayoutView",
            "align_content": null,
            "align_items": null,
            "align_self": null,
            "border": null,
            "bottom": null,
            "display": null,
            "flex": null,
            "flex_flow": null,
            "grid_area": null,
            "grid_auto_columns": null,
            "grid_auto_flow": null,
            "grid_auto_rows": null,
            "grid_column": null,
            "grid_gap": null,
            "grid_row": null,
            "grid_template_areas": null,
            "grid_template_columns": null,
            "grid_template_rows": null,
            "height": null,
            "justify_content": null,
            "justify_items": null,
            "left": null,
            "margin": null,
            "max_height": null,
            "max_width": null,
            "min_height": null,
            "min_width": null,
            "object_fit": null,
            "object_position": null,
            "order": null,
            "overflow": null,
            "overflow_x": null,
            "overflow_y": null,
            "padding": null,
            "right": null,
            "top": null,
            "visibility": null,
            "width": null
          }
        },
        "9f2086ac4f284e32bb9b0347cfeb8973": {
          "model_module": "@jupyter-widgets/controls",
          "model_name": "ProgressStyleModel",
          "model_module_version": "1.5.0",
          "state": {
            "_model_module": "@jupyter-widgets/controls",
            "_model_module_version": "1.5.0",
            "_model_name": "ProgressStyleModel",
            "_view_count": null,
            "_view_module": "@jupyter-widgets/base",
            "_view_module_version": "1.2.0",
            "_view_name": "StyleView",
            "bar_color": null,
            "description_width": ""
          }
        },
        "9770485dd2f2432592c3ed45fbb69776": {
          "model_module": "@jupyter-widgets/base",
          "model_name": "LayoutModel",
          "model_module_version": "1.2.0",
          "state": {
            "_model_module": "@jupyter-widgets/base",
            "_model_module_version": "1.2.0",
            "_model_name": "LayoutModel",
            "_view_count": null,
            "_view_module": "@jupyter-widgets/base",
            "_view_module_version": "1.2.0",
            "_view_name": "LayoutView",
            "align_content": null,
            "align_items": null,
            "align_self": null,
            "border": null,
            "bottom": null,
            "display": null,
            "flex": null,
            "flex_flow": null,
            "grid_area": null,
            "grid_auto_columns": null,
            "grid_auto_flow": null,
            "grid_auto_rows": null,
            "grid_column": null,
            "grid_gap": null,
            "grid_row": null,
            "grid_template_areas": null,
            "grid_template_columns": null,
            "grid_template_rows": null,
            "height": null,
            "justify_content": null,
            "justify_items": null,
            "left": null,
            "margin": null,
            "max_height": null,
            "max_width": null,
            "min_height": null,
            "min_width": null,
            "object_fit": null,
            "object_position": null,
            "order": null,
            "overflow": null,
            "overflow_x": null,
            "overflow_y": null,
            "padding": null,
            "right": null,
            "top": null,
            "visibility": null,
            "width": null
          }
        },
        "48758e67b33e4449bade48a6ea20aef9": {
          "model_module": "@jupyter-widgets/controls",
          "model_name": "DescriptionStyleModel",
          "model_module_version": "1.5.0",
          "state": {
            "_model_module": "@jupyter-widgets/controls",
            "_model_module_version": "1.5.0",
            "_model_name": "DescriptionStyleModel",
            "_view_count": null,
            "_view_module": "@jupyter-widgets/base",
            "_view_module_version": "1.2.0",
            "_view_name": "StyleView",
            "description_width": ""
          }
        },
        "d3adb59dbddc4640bfe419d943eaff45": {
          "model_module": "@jupyter-widgets/controls",
          "model_name": "HBoxModel",
          "model_module_version": "1.5.0",
          "state": {
            "_dom_classes": [],
            "_model_module": "@jupyter-widgets/controls",
            "_model_module_version": "1.5.0",
            "_model_name": "HBoxModel",
            "_view_count": null,
            "_view_module": "@jupyter-widgets/controls",
            "_view_module_version": "1.5.0",
            "_view_name": "HBoxView",
            "box_style": "",
            "children": [
              "IPY_MODEL_860f239221054d9099cd626c93ceac2a",
              "IPY_MODEL_067f3a16ae3c4a46887682de7434083d",
              "IPY_MODEL_2a463a54637f4c6893734cf35f67e3dc"
            ],
            "layout": "IPY_MODEL_9eaa7f9562974edb94a90a6d535988b4"
          }
        },
        "860f239221054d9099cd626c93ceac2a": {
          "model_module": "@jupyter-widgets/controls",
          "model_name": "HTMLModel",
          "model_module_version": "1.5.0",
          "state": {
            "_dom_classes": [],
            "_model_module": "@jupyter-widgets/controls",
            "_model_module_version": "1.5.0",
            "_model_name": "HTMLModel",
            "_view_count": null,
            "_view_module": "@jupyter-widgets/controls",
            "_view_module_version": "1.5.0",
            "_view_name": "HTMLView",
            "description": "",
            "description_tooltip": null,
            "layout": "IPY_MODEL_321076a29056428cbd878a284158c3f3",
            "placeholder": "​",
            "style": "IPY_MODEL_ff70e06215ab42af989de49602167bc5",
            "value": "100%"
          }
        },
        "067f3a16ae3c4a46887682de7434083d": {
          "model_module": "@jupyter-widgets/controls",
          "model_name": "FloatProgressModel",
          "model_module_version": "1.5.0",
          "state": {
            "_dom_classes": [],
            "_model_module": "@jupyter-widgets/controls",
            "_model_module_version": "1.5.0",
            "_model_name": "FloatProgressModel",
            "_view_count": null,
            "_view_module": "@jupyter-widgets/controls",
            "_view_module_version": "1.5.0",
            "_view_name": "ProgressView",
            "bar_style": "success",
            "description": "",
            "description_tooltip": null,
            "layout": "IPY_MODEL_82dbbcb2e6124a66a2bb51b701836493",
            "max": 15,
            "min": 0,
            "orientation": "horizontal",
            "style": "IPY_MODEL_a0b2a3d6b1d9423382336a4dea7b307a",
            "value": 15
          }
        },
        "2a463a54637f4c6893734cf35f67e3dc": {
          "model_module": "@jupyter-widgets/controls",
          "model_name": "HTMLModel",
          "model_module_version": "1.5.0",
          "state": {
            "_dom_classes": [],
            "_model_module": "@jupyter-widgets/controls",
            "_model_module_version": "1.5.0",
            "_model_name": "HTMLModel",
            "_view_count": null,
            "_view_module": "@jupyter-widgets/controls",
            "_view_module_version": "1.5.0",
            "_view_name": "HTMLView",
            "description": "",
            "description_tooltip": null,
            "layout": "IPY_MODEL_c5560aa6a32941c28c8121bd248288ca",
            "placeholder": "​",
            "style": "IPY_MODEL_3eda1b71b0e7400f98b93c0d642d2f09",
            "value": " 15/15 [02:57&lt;00:00, 10.65s/it]"
          }
        },
        "9eaa7f9562974edb94a90a6d535988b4": {
          "model_module": "@jupyter-widgets/base",
          "model_name": "LayoutModel",
          "model_module_version": "1.2.0",
          "state": {
            "_model_module": "@jupyter-widgets/base",
            "_model_module_version": "1.2.0",
            "_model_name": "LayoutModel",
            "_view_count": null,
            "_view_module": "@jupyter-widgets/base",
            "_view_module_version": "1.2.0",
            "_view_name": "LayoutView",
            "align_content": null,
            "align_items": null,
            "align_self": null,
            "border": null,
            "bottom": null,
            "display": null,
            "flex": null,
            "flex_flow": null,
            "grid_area": null,
            "grid_auto_columns": null,
            "grid_auto_flow": null,
            "grid_auto_rows": null,
            "grid_column": null,
            "grid_gap": null,
            "grid_row": null,
            "grid_template_areas": null,
            "grid_template_columns": null,
            "grid_template_rows": null,
            "height": null,
            "justify_content": null,
            "justify_items": null,
            "left": null,
            "margin": null,
            "max_height": null,
            "max_width": null,
            "min_height": null,
            "min_width": null,
            "object_fit": null,
            "object_position": null,
            "order": null,
            "overflow": null,
            "overflow_x": null,
            "overflow_y": null,
            "padding": null,
            "right": null,
            "top": null,
            "visibility": null,
            "width": null
          }
        },
        "321076a29056428cbd878a284158c3f3": {
          "model_module": "@jupyter-widgets/base",
          "model_name": "LayoutModel",
          "model_module_version": "1.2.0",
          "state": {
            "_model_module": "@jupyter-widgets/base",
            "_model_module_version": "1.2.0",
            "_model_name": "LayoutModel",
            "_view_count": null,
            "_view_module": "@jupyter-widgets/base",
            "_view_module_version": "1.2.0",
            "_view_name": "LayoutView",
            "align_content": null,
            "align_items": null,
            "align_self": null,
            "border": null,
            "bottom": null,
            "display": null,
            "flex": null,
            "flex_flow": null,
            "grid_area": null,
            "grid_auto_columns": null,
            "grid_auto_flow": null,
            "grid_auto_rows": null,
            "grid_column": null,
            "grid_gap": null,
            "grid_row": null,
            "grid_template_areas": null,
            "grid_template_columns": null,
            "grid_template_rows": null,
            "height": null,
            "justify_content": null,
            "justify_items": null,
            "left": null,
            "margin": null,
            "max_height": null,
            "max_width": null,
            "min_height": null,
            "min_width": null,
            "object_fit": null,
            "object_position": null,
            "order": null,
            "overflow": null,
            "overflow_x": null,
            "overflow_y": null,
            "padding": null,
            "right": null,
            "top": null,
            "visibility": null,
            "width": null
          }
        },
        "ff70e06215ab42af989de49602167bc5": {
          "model_module": "@jupyter-widgets/controls",
          "model_name": "DescriptionStyleModel",
          "model_module_version": "1.5.0",
          "state": {
            "_model_module": "@jupyter-widgets/controls",
            "_model_module_version": "1.5.0",
            "_model_name": "DescriptionStyleModel",
            "_view_count": null,
            "_view_module": "@jupyter-widgets/base",
            "_view_module_version": "1.2.0",
            "_view_name": "StyleView",
            "description_width": ""
          }
        },
        "82dbbcb2e6124a66a2bb51b701836493": {
          "model_module": "@jupyter-widgets/base",
          "model_name": "LayoutModel",
          "model_module_version": "1.2.0",
          "state": {
            "_model_module": "@jupyter-widgets/base",
            "_model_module_version": "1.2.0",
            "_model_name": "LayoutModel",
            "_view_count": null,
            "_view_module": "@jupyter-widgets/base",
            "_view_module_version": "1.2.0",
            "_view_name": "LayoutView",
            "align_content": null,
            "align_items": null,
            "align_self": null,
            "border": null,
            "bottom": null,
            "display": null,
            "flex": null,
            "flex_flow": null,
            "grid_area": null,
            "grid_auto_columns": null,
            "grid_auto_flow": null,
            "grid_auto_rows": null,
            "grid_column": null,
            "grid_gap": null,
            "grid_row": null,
            "grid_template_areas": null,
            "grid_template_columns": null,
            "grid_template_rows": null,
            "height": null,
            "justify_content": null,
            "justify_items": null,
            "left": null,
            "margin": null,
            "max_height": null,
            "max_width": null,
            "min_height": null,
            "min_width": null,
            "object_fit": null,
            "object_position": null,
            "order": null,
            "overflow": null,
            "overflow_x": null,
            "overflow_y": null,
            "padding": null,
            "right": null,
            "top": null,
            "visibility": null,
            "width": null
          }
        },
        "a0b2a3d6b1d9423382336a4dea7b307a": {
          "model_module": "@jupyter-widgets/controls",
          "model_name": "ProgressStyleModel",
          "model_module_version": "1.5.0",
          "state": {
            "_model_module": "@jupyter-widgets/controls",
            "_model_module_version": "1.5.0",
            "_model_name": "ProgressStyleModel",
            "_view_count": null,
            "_view_module": "@jupyter-widgets/base",
            "_view_module_version": "1.2.0",
            "_view_name": "StyleView",
            "bar_color": null,
            "description_width": ""
          }
        },
        "c5560aa6a32941c28c8121bd248288ca": {
          "model_module": "@jupyter-widgets/base",
          "model_name": "LayoutModel",
          "model_module_version": "1.2.0",
          "state": {
            "_model_module": "@jupyter-widgets/base",
            "_model_module_version": "1.2.0",
            "_model_name": "LayoutModel",
            "_view_count": null,
            "_view_module": "@jupyter-widgets/base",
            "_view_module_version": "1.2.0",
            "_view_name": "LayoutView",
            "align_content": null,
            "align_items": null,
            "align_self": null,
            "border": null,
            "bottom": null,
            "display": null,
            "flex": null,
            "flex_flow": null,
            "grid_area": null,
            "grid_auto_columns": null,
            "grid_auto_flow": null,
            "grid_auto_rows": null,
            "grid_column": null,
            "grid_gap": null,
            "grid_row": null,
            "grid_template_areas": null,
            "grid_template_columns": null,
            "grid_template_rows": null,
            "height": null,
            "justify_content": null,
            "justify_items": null,
            "left": null,
            "margin": null,
            "max_height": null,
            "max_width": null,
            "min_height": null,
            "min_width": null,
            "object_fit": null,
            "object_position": null,
            "order": null,
            "overflow": null,
            "overflow_x": null,
            "overflow_y": null,
            "padding": null,
            "right": null,
            "top": null,
            "visibility": null,
            "width": null
          }
        },
        "3eda1b71b0e7400f98b93c0d642d2f09": {
          "model_module": "@jupyter-widgets/controls",
          "model_name": "DescriptionStyleModel",
          "model_module_version": "1.5.0",
          "state": {
            "_model_module": "@jupyter-widgets/controls",
            "_model_module_version": "1.5.0",
            "_model_name": "DescriptionStyleModel",
            "_view_count": null,
            "_view_module": "@jupyter-widgets/base",
            "_view_module_version": "1.2.0",
            "_view_name": "StyleView",
            "description_width": ""
          }
        }
      }
    }
  },
  "cells": [
    {
      "cell_type": "markdown",
      "metadata": {
        "id": "view-in-github",
        "colab_type": "text"
      },
      "source": [
        "<a href=\"https://colab.research.google.com/github/cerasole/ml4hep/blob/main/GNNs/torch_OrganicMoleculesFormationEnergy_QM9dataset.ipynb\" target=\"_parent\"><img src=\"https://colab.research.google.com/assets/colab-badge.svg\" alt=\"Open In Colab\"/></a>"
      ]
    },
    {
      "cell_type": "markdown",
      "source": [
        "# Graph Neural Networks\n",
        "\n",
        "The preliminary code on graphs is instead in https://pytorch-geometric.readthedocs.io/en/latest/notes/introduction.html\n",
        "\n",
        "The code about the preprocessing, model and training/testing is at\n",
        "https://github.com/pyg-team/pytorch_geometric/blob/master/examples/qm9_nn_conv.py"
      ],
      "metadata": {
        "id": "rHCOACXB9-ut"
      }
    },
    {
      "cell_type": "code",
      "execution_count": 1,
      "metadata": {
        "colab": {
          "base_uri": "https://localhost:8080/"
        },
        "id": "WC8tvLgG97Jz",
        "outputId": "30ca8144-51b8-48d7-fb8a-7dbacf632e10"
      },
      "outputs": [
        {
          "output_type": "stream",
          "name": "stdout",
          "text": [
            "2.4.0+cu121\n",
            "\u001b[2K     \u001b[90m━━━━━━━━━━━━━━━━━━━━━━━━━━━━━━━━━━━━━━━━\u001b[0m \u001b[32m10.9/10.9 MB\u001b[0m \u001b[31m50.1 MB/s\u001b[0m eta \u001b[36m0:00:00\u001b[0m\n",
            "\u001b[?25h  Installing build dependencies ... \u001b[?25l\u001b[?25hdone\n",
            "  Getting requirements to build wheel ... \u001b[?25l\u001b[?25hdone\n",
            "  Preparing metadata (pyproject.toml) ... \u001b[?25l\u001b[?25hdone\n",
            "  Building wheel for torch-geometric (pyproject.toml) ... \u001b[?25l\u001b[?25hdone\n"
          ]
        }
      ],
      "source": [
        "import os\n",
        "import torch\n",
        "os.environ['TORCH'] = torch.__version__\n",
        "print(torch.__version__)\n",
        "!pip install -q torch-scatter -f https://data.pyg.org/whl/torch-${TORCH}.html\n",
        "!pip install -q git+https://github.com/pyg-team/pytorch_geometric.git"
      ]
    },
    {
      "cell_type": "code",
      "source": [
        "!apt install libgraphviz-dev\n",
        "!pip install pygraphviz"
      ],
      "metadata": {
        "colab": {
          "base_uri": "https://localhost:8080/"
        },
        "id": "pmeFm-yC_qS7",
        "outputId": "4b2bb998-9eb6-45da-dd70-1bcf8956079d"
      },
      "execution_count": 2,
      "outputs": [
        {
          "output_type": "stream",
          "name": "stdout",
          "text": [
            "Reading package lists... Done\n",
            "Building dependency tree... Done\n",
            "Reading state information... Done\n",
            "The following additional packages will be installed:\n",
            "  libgail-common libgail18 libgtk2.0-0 libgtk2.0-bin libgtk2.0-common libgvc6-plugins-gtk\n",
            "  librsvg2-common libxdot4\n",
            "Suggested packages:\n",
            "  gvfs\n",
            "The following NEW packages will be installed:\n",
            "  libgail-common libgail18 libgraphviz-dev libgtk2.0-0 libgtk2.0-bin libgtk2.0-common\n",
            "  libgvc6-plugins-gtk librsvg2-common libxdot4\n",
            "0 upgraded, 9 newly installed, 0 to remove and 49 not upgraded.\n",
            "Need to get 2,434 kB of archives.\n",
            "After this operation, 7,681 kB of additional disk space will be used.\n",
            "Get:1 http://archive.ubuntu.com/ubuntu jammy-updates/main amd64 libgtk2.0-common all 2.24.33-2ubuntu2.1 [125 kB]\n",
            "Get:2 http://archive.ubuntu.com/ubuntu jammy-updates/main amd64 libgtk2.0-0 amd64 2.24.33-2ubuntu2.1 [2,038 kB]\n",
            "Get:3 http://archive.ubuntu.com/ubuntu jammy-updates/main amd64 libgail18 amd64 2.24.33-2ubuntu2.1 [15.9 kB]\n",
            "Get:4 http://archive.ubuntu.com/ubuntu jammy-updates/main amd64 libgail-common amd64 2.24.33-2ubuntu2.1 [132 kB]\n",
            "Get:5 http://archive.ubuntu.com/ubuntu jammy-updates/universe amd64 libxdot4 amd64 2.42.2-6ubuntu0.1 [16.4 kB]\n",
            "Get:6 http://archive.ubuntu.com/ubuntu jammy-updates/universe amd64 libgvc6-plugins-gtk amd64 2.42.2-6ubuntu0.1 [22.5 kB]\n",
            "Get:7 http://archive.ubuntu.com/ubuntu jammy-updates/universe amd64 libgraphviz-dev amd64 2.42.2-6ubuntu0.1 [58.5 kB]\n",
            "Get:8 http://archive.ubuntu.com/ubuntu jammy-updates/main amd64 libgtk2.0-bin amd64 2.24.33-2ubuntu2.1 [7,936 B]\n",
            "Get:9 http://archive.ubuntu.com/ubuntu jammy-updates/main amd64 librsvg2-common amd64 2.52.5+dfsg-3ubuntu0.2 [17.7 kB]\n",
            "Fetched 2,434 kB in 1s (2,518 kB/s)\n",
            "Selecting previously unselected package libgtk2.0-common.\n",
            "(Reading database ... 123595 files and directories currently installed.)\n",
            "Preparing to unpack .../0-libgtk2.0-common_2.24.33-2ubuntu2.1_all.deb ...\n",
            "Unpacking libgtk2.0-common (2.24.33-2ubuntu2.1) ...\n",
            "Selecting previously unselected package libgtk2.0-0:amd64.\n",
            "Preparing to unpack .../1-libgtk2.0-0_2.24.33-2ubuntu2.1_amd64.deb ...\n",
            "Unpacking libgtk2.0-0:amd64 (2.24.33-2ubuntu2.1) ...\n",
            "Selecting previously unselected package libgail18:amd64.\n",
            "Preparing to unpack .../2-libgail18_2.24.33-2ubuntu2.1_amd64.deb ...\n",
            "Unpacking libgail18:amd64 (2.24.33-2ubuntu2.1) ...\n",
            "Selecting previously unselected package libgail-common:amd64.\n",
            "Preparing to unpack .../3-libgail-common_2.24.33-2ubuntu2.1_amd64.deb ...\n",
            "Unpacking libgail-common:amd64 (2.24.33-2ubuntu2.1) ...\n",
            "Selecting previously unselected package libxdot4:amd64.\n",
            "Preparing to unpack .../4-libxdot4_2.42.2-6ubuntu0.1_amd64.deb ...\n",
            "Unpacking libxdot4:amd64 (2.42.2-6ubuntu0.1) ...\n",
            "Selecting previously unselected package libgvc6-plugins-gtk.\n",
            "Preparing to unpack .../5-libgvc6-plugins-gtk_2.42.2-6ubuntu0.1_amd64.deb ...\n",
            "Unpacking libgvc6-plugins-gtk (2.42.2-6ubuntu0.1) ...\n",
            "Selecting previously unselected package libgraphviz-dev:amd64.\n",
            "Preparing to unpack .../6-libgraphviz-dev_2.42.2-6ubuntu0.1_amd64.deb ...\n",
            "Unpacking libgraphviz-dev:amd64 (2.42.2-6ubuntu0.1) ...\n",
            "Selecting previously unselected package libgtk2.0-bin.\n",
            "Preparing to unpack .../7-libgtk2.0-bin_2.24.33-2ubuntu2.1_amd64.deb ...\n",
            "Unpacking libgtk2.0-bin (2.24.33-2ubuntu2.1) ...\n",
            "Selecting previously unselected package librsvg2-common:amd64.\n",
            "Preparing to unpack .../8-librsvg2-common_2.52.5+dfsg-3ubuntu0.2_amd64.deb ...\n",
            "Unpacking librsvg2-common:amd64 (2.52.5+dfsg-3ubuntu0.2) ...\n",
            "Setting up libxdot4:amd64 (2.42.2-6ubuntu0.1) ...\n",
            "Setting up librsvg2-common:amd64 (2.52.5+dfsg-3ubuntu0.2) ...\n",
            "Setting up libgtk2.0-common (2.24.33-2ubuntu2.1) ...\n",
            "Setting up libgtk2.0-0:amd64 (2.24.33-2ubuntu2.1) ...\n",
            "Setting up libgvc6-plugins-gtk (2.42.2-6ubuntu0.1) ...\n",
            "Setting up libgail18:amd64 (2.24.33-2ubuntu2.1) ...\n",
            "Setting up libgtk2.0-bin (2.24.33-2ubuntu2.1) ...\n",
            "Setting up libgail-common:amd64 (2.24.33-2ubuntu2.1) ...\n",
            "Setting up libgraphviz-dev:amd64 (2.42.2-6ubuntu0.1) ...\n",
            "Processing triggers for libc-bin (2.35-0ubuntu3.4) ...\n",
            "/sbin/ldconfig.real: /usr/local/lib/libtbbbind_2_0.so.3 is not a symbolic link\n",
            "\n",
            "/sbin/ldconfig.real: /usr/local/lib/libur_adapter_level_zero.so.0 is not a symbolic link\n",
            "\n",
            "/sbin/ldconfig.real: /usr/local/lib/libtbbbind_2_5.so.3 is not a symbolic link\n",
            "\n",
            "/sbin/ldconfig.real: /usr/local/lib/libtbbbind.so.3 is not a symbolic link\n",
            "\n",
            "/sbin/ldconfig.real: /usr/local/lib/libtbbmalloc_proxy.so.2 is not a symbolic link\n",
            "\n",
            "/sbin/ldconfig.real: /usr/local/lib/libur_adapter_opencl.so.0 is not a symbolic link\n",
            "\n",
            "/sbin/ldconfig.real: /usr/local/lib/libur_loader.so.0 is not a symbolic link\n",
            "\n",
            "/sbin/ldconfig.real: /usr/local/lib/libtbb.so.12 is not a symbolic link\n",
            "\n",
            "/sbin/ldconfig.real: /usr/local/lib/libtbbmalloc.so.2 is not a symbolic link\n",
            "\n",
            "Processing triggers for man-db (2.10.2-1) ...\n",
            "Processing triggers for libgdk-pixbuf-2.0-0:amd64 (2.42.8+dfsg-1ubuntu0.3) ...\n",
            "Collecting pygraphviz\n",
            "  Downloading pygraphviz-1.13.tar.gz (104 kB)\n",
            "\u001b[2K     \u001b[90m━━━━━━━━━━━━━━━━━━━━━━━━━━━━━━━━━━━━━━━━\u001b[0m \u001b[32m104.6/104.6 kB\u001b[0m \u001b[31m4.6 MB/s\u001b[0m eta \u001b[36m0:00:00\u001b[0m\n",
            "\u001b[?25h  Installing build dependencies ... \u001b[?25l\u001b[?25hdone\n",
            "  Getting requirements to build wheel ... \u001b[?25l\u001b[?25hdone\n",
            "  Preparing metadata (pyproject.toml) ... \u001b[?25l\u001b[?25hdone\n",
            "Building wheels for collected packages: pygraphviz\n",
            "  Building wheel for pygraphviz (pyproject.toml) ... \u001b[?25l\u001b[?25hdone\n",
            "  Created wheel for pygraphviz: filename=pygraphviz-1.13-cp310-cp310-linux_x86_64.whl size=168500 sha256=b5811e32f46807b6bfaa32c267ff3e7627ae0cfc3a25c9495820b28a92bcfce2\n",
            "  Stored in directory: /root/.cache/pip/wheels/c5/96/10/6c25add1fffc368b1927252bf73b63fcb938de8f4486e23691\n",
            "Successfully built pygraphviz\n",
            "Installing collected packages: pygraphviz\n",
            "Successfully installed pygraphviz-1.13\n"
          ]
        }
      ]
    },
    {
      "cell_type": "code",
      "source": [
        "import pathlib\n",
        "\n",
        "import torch\n",
        "import torch.nn.functional as F\n",
        "from torch.nn import Linear, ReLU, Sequential\n",
        "import networkx as nx\n",
        "\n",
        "import torch_geometric\n",
        "import torch_geometric.transforms as T\n",
        "from torch_geometric.datasets import QM9\n",
        "from torch_geometric.loader import DataLoader\n",
        "from torch_geometric.nn import NNConv, Set2Set, GCNConv\n",
        "from torch_geometric.utils import remove_self_loops, to_networkx\n",
        "\n",
        "import matplotlib.pyplot as plt\n",
        "from IPython.display import Image\n",
        "from tqdm.auto import trange"
      ],
      "metadata": {
        "id": "LIJjlmkj_wrd"
      },
      "execution_count": 3,
      "outputs": []
    },
    {
      "cell_type": "code",
      "source": [
        "dataset_path = pathlib.Path('data', 'QM9')\n",
        "dataset_path"
      ],
      "metadata": {
        "colab": {
          "base_uri": "https://localhost:8080/"
        },
        "id": "m0ovIKDp_59x",
        "outputId": "cd11a5e8-1074-446b-a705-bd796bb755ee"
      },
      "execution_count": 9,
      "outputs": [
        {
          "output_type": "execute_result",
          "data": {
            "text/plain": [
              "PosixPath('data/QM9')"
            ]
          },
          "metadata": {},
          "execution_count": 9
        }
      ]
    },
    {
      "cell_type": "code",
      "source": [
        "raw_dataset = QM9(dataset_path)"
      ],
      "metadata": {
        "id": "g9WGxne9AKq3"
      },
      "execution_count": 53,
      "outputs": []
    },
    {
      "cell_type": "code",
      "source": [
        "raw_dataset, raw_dataset[0]"
      ],
      "metadata": {
        "colab": {
          "base_uri": "https://localhost:8080/"
        },
        "id": "oFS_lT5GArR2",
        "outputId": "86007cc3-2b78-4473-eb62-c1981ec64f2b"
      },
      "execution_count": 54,
      "outputs": [
        {
          "output_type": "execute_result",
          "data": {
            "text/plain": [
              "(QM9(130831),\n",
              " Data(x=[5, 11], edge_index=[2, 8], edge_attr=[8, 4], y=[1, 19], pos=[5, 3], idx=[1], name='gdb_1', z=[5]))"
            ]
          },
          "metadata": {},
          "execution_count": 54
        }
      ]
    },
    {
      "cell_type": "code",
      "source": [
        "type(raw_dataset)"
      ],
      "metadata": {
        "colab": {
          "base_uri": "https://localhost:8080/",
          "height": 204
        },
        "id": "SArKUQ-fAylX",
        "outputId": "495dcd5c-3bf8-48ae-e1c0-2d83e43cfd4a"
      },
      "execution_count": 14,
      "outputs": [
        {
          "output_type": "execute_result",
          "data": {
            "text/plain": [
              "torch_geometric.datasets.qm9.QM9"
            ],
            "text/html": [
              "<div style=\"max-width:800px; border: 1px solid var(--colab-border-color);\"><style>\n",
              "      pre.function-repr-contents {\n",
              "        overflow-x: auto;\n",
              "        padding: 8px 12px;\n",
              "        max-height: 500px;\n",
              "      }\n",
              "\n",
              "      pre.function-repr-contents.function-repr-contents-collapsed {\n",
              "        cursor: pointer;\n",
              "        max-height: 100px;\n",
              "      }\n",
              "    </style>\n",
              "    <pre style=\"white-space: initial; background:\n",
              "         var(--colab-secondary-surface-color); padding: 8px 12px;\n",
              "         border-bottom: 1px solid var(--colab-border-color);\"><b>torch_geometric.datasets.qm9.QM9</b><br/>def __init__(root: str, transform: Optional[Callable]=None, pre_transform: Optional[Callable]=None, pre_filter: Optional[Callable]=None, force_reload: bool=False) -&gt; None</pre><pre class=\"function-repr-contents function-repr-contents-collapsed\" style=\"\"><a class=\"filepath\" style=\"display:none\" href=\"#\">/usr/local/lib/python3.10/dist-packages/torch_geometric/datasets/qm9.py</a>The QM9 dataset from the `&quot;MoleculeNet: A Benchmark for Molecular\n",
              "Machine Learning&quot; &lt;https://arxiv.org/abs/1703.00564&gt;`_ paper, consisting of\n",
              "about 130,000 molecules with 19 regression targets.\n",
              "Each molecule includes complete spatial information for the single low\n",
              "energy conformation of the atoms in the molecule.\n",
              "In addition, we provide the atom features from the `&quot;Neural Message\n",
              "Passing for Quantum Chemistry&quot; &lt;https://arxiv.org/abs/1704.01212&gt;`_ paper.\n",
              "\n",
              "+--------+----------------------------------+-----------------------------------------------------------------------------------+---------------------------------------------+\n",
              "| Target | Property                         | Description                                                                       | Unit                                        |\n",
              "+========+==================================+===================================================================================+=============================================+\n",
              "| 0      | :math:`\\mu`                      | Dipole moment                                                                     | :math:`\\textrm{D}`                          |\n",
              "+--------+----------------------------------+-----------------------------------------------------------------------------------+---------------------------------------------+\n",
              "| 1      | :math:`\\alpha`                   | Isotropic polarizability                                                          | :math:`{a_0}^3`                             |\n",
              "+--------+----------------------------------+-----------------------------------------------------------------------------------+---------------------------------------------+\n",
              "| 2      | :math:`\\epsilon_{\\textrm{HOMO}}` | Highest occupied molecular orbital energy                                         | :math:`\\textrm{eV}`                         |\n",
              "+--------+----------------------------------+-----------------------------------------------------------------------------------+---------------------------------------------+\n",
              "| 3      | :math:`\\epsilon_{\\textrm{LUMO}}` | Lowest unoccupied molecular orbital energy                                        | :math:`\\textrm{eV}`                         |\n",
              "+--------+----------------------------------+-----------------------------------------------------------------------------------+---------------------------------------------+\n",
              "| 4      | :math:`\\Delta \\epsilon`          | Gap between :math:`\\epsilon_{\\textrm{HOMO}}` and :math:`\\epsilon_{\\textrm{LUMO}}` | :math:`\\textrm{eV}`                         |\n",
              "+--------+----------------------------------+-----------------------------------------------------------------------------------+---------------------------------------------+\n",
              "| 5      | :math:`\\langle R^2 \\rangle`      | Electronic spatial extent                                                         | :math:`{a_0}^2`                             |\n",
              "+--------+----------------------------------+-----------------------------------------------------------------------------------+---------------------------------------------+\n",
              "| 6      | :math:`\\textrm{ZPVE}`            | Zero point vibrational energy                                                     | :math:`\\textrm{eV}`                         |\n",
              "+--------+----------------------------------+-----------------------------------------------------------------------------------+---------------------------------------------+\n",
              "| 7      | :math:`U_0`                      | Internal energy at 0K                                                             | :math:`\\textrm{eV}`                         |\n",
              "+--------+----------------------------------+-----------------------------------------------------------------------------------+---------------------------------------------+\n",
              "| 8      | :math:`U`                        | Internal energy at 298.15K                                                        | :math:`\\textrm{eV}`                         |\n",
              "+--------+----------------------------------+-----------------------------------------------------------------------------------+---------------------------------------------+\n",
              "| 9      | :math:`H`                        | Enthalpy at 298.15K                                                               | :math:`\\textrm{eV}`                         |\n",
              "+--------+----------------------------------+-----------------------------------------------------------------------------------+---------------------------------------------+\n",
              "| 10     | :math:`G`                        | Free energy at 298.15K                                                            | :math:`\\textrm{eV}`                         |\n",
              "+--------+----------------------------------+-----------------------------------------------------------------------------------+---------------------------------------------+\n",
              "| 11     | :math:`c_{\\textrm{v}}`           | Heat capavity at 298.15K                                                          | :math:`\\frac{\\textrm{cal}}{\\textrm{mol K}}` |\n",
              "+--------+----------------------------------+-----------------------------------------------------------------------------------+---------------------------------------------+\n",
              "| 12     | :math:`U_0^{\\textrm{ATOM}}`      | Atomization energy at 0K                                                          | :math:`\\textrm{eV}`                         |\n",
              "+--------+----------------------------------+-----------------------------------------------------------------------------------+---------------------------------------------+\n",
              "| 13     | :math:`U^{\\textrm{ATOM}}`        | Atomization energy at 298.15K                                                     | :math:`\\textrm{eV}`                         |\n",
              "+--------+----------------------------------+-----------------------------------------------------------------------------------+---------------------------------------------+\n",
              "| 14     | :math:`H^{\\textrm{ATOM}}`        | Atomization enthalpy at 298.15K                                                   | :math:`\\textrm{eV}`                         |\n",
              "+--------+----------------------------------+-----------------------------------------------------------------------------------+---------------------------------------------+\n",
              "| 15     | :math:`G^{\\textrm{ATOM}}`        | Atomization free energy at 298.15K                                                | :math:`\\textrm{eV}`                         |\n",
              "+--------+----------------------------------+-----------------------------------------------------------------------------------+---------------------------------------------+\n",
              "| 16     | :math:`A`                        | Rotational constant                                                               | :math:`\\textrm{GHz}`                        |\n",
              "+--------+----------------------------------+-----------------------------------------------------------------------------------+---------------------------------------------+\n",
              "| 17     | :math:`B`                        | Rotational constant                                                               | :math:`\\textrm{GHz}`                        |\n",
              "+--------+----------------------------------+-----------------------------------------------------------------------------------+---------------------------------------------+\n",
              "| 18     | :math:`C`                        | Rotational constant                                                               | :math:`\\textrm{GHz}`                        |\n",
              "+--------+----------------------------------+-----------------------------------------------------------------------------------+---------------------------------------------+\n",
              "\n",
              ".. note::\n",
              "\n",
              "    We also provide a pre-processed version of the dataset in case\n",
              "    :class:`rdkit` is not installed. The pre-processed version matches with\n",
              "    the manually processed version as outlined in :meth:`process`.\n",
              "\n",
              "Args:\n",
              "    root (str): Root directory where the dataset should be saved.\n",
              "    transform (callable, optional): A function/transform that takes in an\n",
              "        :obj:`torch_geometric.data.Data` object and returns a transformed\n",
              "        version. The data object will be transformed before every access.\n",
              "        (default: :obj:`None`)\n",
              "    pre_transform (callable, optional): A function/transform that takes in\n",
              "        an :obj:`torch_geometric.data.Data` object and returns a\n",
              "        transformed version. The data object will be transformed before\n",
              "        being saved to disk. (default: :obj:`None`)\n",
              "    pre_filter (callable, optional): A function that takes in an\n",
              "        :obj:`torch_geometric.data.Data` object and returns a boolean\n",
              "        value, indicating whether the data object should be included in the\n",
              "        final dataset. (default: :obj:`None`)\n",
              "    force_reload (bool, optional): Whether to re-process the dataset.\n",
              "        (default: :obj:`False`)\n",
              "\n",
              "**STATS:**\n",
              "\n",
              ".. list-table::\n",
              "    :widths: 10 10 10 10 10\n",
              "    :header-rows: 1\n",
              "\n",
              "    * - #graphs\n",
              "      - #nodes\n",
              "      - #edges\n",
              "      - #features\n",
              "      - #tasks\n",
              "    * - 130,831\n",
              "      - ~18.0\n",
              "      - ~37.3\n",
              "      - 11\n",
              "      - 19</pre>\n",
              "      <script>\n",
              "      if (google.colab.kernel.accessAllowed && google.colab.files && google.colab.files.view) {\n",
              "        for (const element of document.querySelectorAll('.filepath')) {\n",
              "          element.style.display = 'block'\n",
              "          element.onclick = (event) => {\n",
              "            event.preventDefault();\n",
              "            event.stopPropagation();\n",
              "            google.colab.files.view(element.textContent, 49);\n",
              "          };\n",
              "        }\n",
              "      }\n",
              "      for (const element of document.querySelectorAll('.function-repr-contents')) {\n",
              "        element.onclick = (event) => {\n",
              "          event.preventDefault();\n",
              "          event.stopPropagation();\n",
              "          element.classList.toggle('function-repr-contents-collapsed');\n",
              "        };\n",
              "      }\n",
              "      </script>\n",
              "      </div>"
            ]
          },
          "metadata": {},
          "execution_count": 14
        }
      ]
    },
    {
      "cell_type": "code",
      "source": [
        "def draw_graph(graph: torch_geometric.data.data.Data) -> Image:\n",
        "    \"\"\"\n",
        "    Plots a molecule from QM9 dataset. Node labels are atomic numbers.\n",
        "    Edge lengths and node positions are arbitrary.\n",
        "    \"\"\"\n",
        "    graph_nx = to_networkx(graph,\n",
        "                           to_undirected=True)\n",
        "    graph_graphviz = nx.nx_agraph.to_agraph(graph_nx)\n",
        "    for node, type_ in zip(graph_graphviz.iternodes(), graph.z.detach().numpy()):\n",
        "        node.attr['label'] = str(type_)\n",
        "    return Image(graph_graphviz.draw(format='png', prog=\"neato\"))\n",
        "\n",
        "draw_graph(raw_dataset[0])  ### The number in the graph is the atomic number!!!"
      ],
      "metadata": {
        "colab": {
          "base_uri": "https://localhost:8080/",
          "height": 253
        },
        "id": "kFjVBb6sA8iR",
        "outputId": "f9caf161-b3da-4368-9582-c36e19c8fc06"
      },
      "execution_count": 17,
      "outputs": [
        {
          "output_type": "execute_result",
          "data": {
            "image/png": "[encoded data removed]",
            "text/plain": [
              "<IPython.core.display.Image object>"
            ]
          },
          "metadata": {},
          "execution_count": 17
        }
      ]
    },
    {
      "cell_type": "code",
      "source": [
        "draw_graph(raw_dataset[1]) ### The number in the graph is the atomic number!!!"
      ],
      "metadata": {
        "colab": {
          "base_uri": "https://localhost:8080/",
          "height": 251
        },
        "id": "Bycmvly5BHhz",
        "outputId": "4e85cc5a-485f-4cd9-c566-61395b114c07"
      },
      "execution_count": 18,
      "outputs": [
        {
          "output_type": "execute_result",
          "data": {
            "image/png": "[encoded data removed]",
            "text/plain": [
              "<IPython.core.display.Image object>"
            ]
          },
          "metadata": {},
          "execution_count": 18
        }
      ]
    },
    {
      "cell_type": "code",
      "source": [
        "draw_graph(raw_dataset[10000])"
      ],
      "metadata": {
        "colab": {
          "base_uri": "https://localhost:8080/",
          "height": 563
        },
        "id": "Rn0Fa02eBLaL",
        "outputId": "2c5bd84d-a65e-482d-ea88-31bfe15e08d6"
      },
      "execution_count": 19,
      "outputs": [
        {
          "output_type": "execute_result",
          "data": {
            "image/png": "[encoded data removed]",
            "text/plain": [
              "<IPython.core.display.Image object>"
            ]
          },
          "metadata": {},
          "execution_count": 19
        }
      ]
    },
    {
      "cell_type": "code",
      "source": [
        "raw_dataset.y  # the features!"
      ],
      "metadata": {
        "colab": {
          "base_uri": "https://localhost:8080/"
        },
        "id": "yfGqpztXBYM_",
        "outputId": "fcf61fc2-4ae8-4688-d897-fc52712f80db"
      },
      "execution_count": 20,
      "outputs": [
        {
          "output_type": "execute_result",
          "data": {
            "text/plain": [
              "tensor([[  0.0000,  13.2100, -10.5499,  ..., 157.7118, 157.7100, 157.7070],\n",
              "        [  1.6256,   9.4600,  -6.9933,  ..., 293.6097, 293.5411, 191.3940],\n",
              "        [  1.8511,   6.3100,  -7.9675,  ..., 799.5881, 437.9039, 282.9455],\n",
              "        ...,\n",
              "        [  1.2480,  73.6000,  -6.0763,  ...,   3.6712,   2.1431,   1.8950],\n",
              "        [  1.9576,  77.4000,  -5.7743,  ...,   3.5285,   2.1513,   1.8658],\n",
              "        [  0.8626,  69.4800,  -6.3022,  ...,   3.6402,   2.2176,   1.9379]])"
            ]
          },
          "metadata": {},
          "execution_count": 20
        }
      ]
    },
    {
      "cell_type": "code",
      "source": [
        "raw_dataset.y[:,7]  # formation energy"
      ],
      "metadata": {
        "colab": {
          "base_uri": "https://localhost:8080/"
        },
        "id": "3FaZujvkBdkZ",
        "outputId": "94ac834f-2ba1-47d8-b1ef-72d760eb34f1"
      },
      "execution_count": 21,
      "outputs": [
        {
          "output_type": "execute_result",
          "data": {
            "text/plain": [
              "tensor([ -1101.4878,  -1538.1477,  -2079.0779,  ..., -10360.8418,\n",
              "         -9924.5469, -10901.7803])"
            ]
          },
          "metadata": {},
          "execution_count": 21
        }
      ]
    },
    {
      "cell_type": "code",
      "source": [
        "TARGET_Y = 7\n",
        "\n",
        "class SelectTarget(object):\n",
        "    def __init__(self, target_column: int):\n",
        "        self.target_column = target_column\n",
        "\n",
        "    def __call__(self, data: torch.Tensor) -> torch.Tensor:\n",
        "        data.y = data.y[:, self.target_column]\n",
        "        return data\n",
        ""
      ],
      "metadata": {
        "id": "s8RU3Cu3Bm46"
      },
      "execution_count": 82,
      "outputs": []
    },
    {
      "cell_type": "code",
      "source": [
        "draw_graph(raw_dataset[0])  ### The number in the graph is the atomic number!!!"
      ],
      "metadata": {
        "colab": {
          "base_uri": "https://localhost:8080/",
          "height": 253
        },
        "id": "wgbK8SSIB_Hs",
        "outputId": "c5c9897e-af24-423f-b0d4-911375cfbb69"
      },
      "execution_count": 23,
      "outputs": [
        {
          "output_type": "execute_result",
          "data": {
            "image/png": "[encoded data removed]",
            "text/plain": [
              "<IPython.core.display.Image object>"
            ]
          },
          "metadata": {},
          "execution_count": 23
        }
      ]
    },
    {
      "cell_type": "code",
      "source": [
        "raw_dataset[0].x\n",
        "# data.x: Node feature matrix with shape [num_nodes, num_node_features]\n",
        "# - [0:5] contain one-hot encoded atom types\n",
        "# - 5 is the atomic number\n",
        "# - 6 is boolean indicator whether the atom is aromatic\n",
        "# - [7:10] conain one-hot encoded hybridization type"
      ],
      "metadata": {
        "colab": {
          "base_uri": "https://localhost:8080/"
        },
        "id": "KsFgILLdCOSu",
        "outputId": "ab606d50-12b8-49c8-c55a-76e7426821b7"
      },
      "execution_count": 24,
      "outputs": [
        {
          "output_type": "execute_result",
          "data": {
            "text/plain": [
              "tensor([[0., 1., 0., 0., 0., 6., 0., 0., 0., 0., 4.],\n",
              "        [1., 0., 0., 0., 0., 1., 0., 0., 0., 0., 0.],\n",
              "        [1., 0., 0., 0., 0., 1., 0., 0., 0., 0., 0.],\n",
              "        [1., 0., 0., 0., 0., 1., 0., 0., 0., 0., 0.],\n",
              "        [1., 0., 0., 0., 0., 1., 0., 0., 0., 0., 0.]])"
            ]
          },
          "metadata": {},
          "execution_count": 24
        }
      ]
    },
    {
      "cell_type": "code",
      "source": [
        "raw_dataset[0].y"
      ],
      "metadata": {
        "colab": {
          "base_uri": "https://localhost:8080/"
        },
        "id": "J7kPbu76Coh-",
        "outputId": "581d7fbd-3674-4415-b1d3-638728de57c9"
      },
      "execution_count": 26,
      "outputs": [
        {
          "output_type": "execute_result",
          "data": {
            "text/plain": [
              "tensor([[    0.0000,    13.2100,   -10.5499,     3.1865,    13.7363,    35.3641,\n",
              "             1.2177, -1101.4878, -1101.4098, -1101.3840, -1102.0229,     6.4690,\n",
              "           -17.1722,   -17.2868,   -17.3897,   -16.1519,   157.7118,   157.7100,\n",
              "           157.7070]])"
            ]
          },
          "metadata": {},
          "execution_count": 26
        }
      ]
    },
    {
      "cell_type": "code",
      "source": [
        "raw_dataset[0].pos"
      ],
      "metadata": {
        "colab": {
          "base_uri": "https://localhost:8080/"
        },
        "id": "WO-uwFRiCxac",
        "outputId": "bde96355-4acc-46a9-a28b-8d53878a9a0c"
      },
      "execution_count": 27,
      "outputs": [
        {
          "output_type": "execute_result",
          "data": {
            "text/plain": [
              "tensor([[-1.2700e-02,  1.0858e+00,  8.0000e-03],\n",
              "        [ 2.2000e-03, -6.0000e-03,  2.0000e-03],\n",
              "        [ 1.0117e+00,  1.4638e+00,  3.0000e-04],\n",
              "        [-5.4080e-01,  1.4475e+00, -8.7660e-01],\n",
              "        [-5.2380e-01,  1.4379e+00,  9.0640e-01]])"
            ]
          },
          "metadata": {},
          "execution_count": 27
        }
      ]
    },
    {
      "cell_type": "code",
      "source": [
        "fig = plt.figure()\n",
        "ax = plt.axes(projection='3d')\n",
        "ax.scatter(*raw_dataset[0].pos.T);"
      ],
      "metadata": {
        "colab": {
          "base_uri": "https://localhost:8080/",
          "height": 415
        },
        "id": "d5huP1b0Dfie",
        "outputId": "0f619b4d-7a03-4543-db60-71a2e32366b2"
      },
      "execution_count": 28,
      "outputs": [
        {
          "output_type": "display_data",
          "data": {
            "text/plain": [
              "<Figure size 640x480 with 1 Axes>"
            ],
            "image/png": "[encoded data removed]"
          },
          "metadata": {}
        }
      ]
    },
    {
      "cell_type": "code",
      "source": [
        "raw_dataset[0].z  # --> Atomic number of the atoms : this is CH4"
      ],
      "metadata": {
        "colab": {
          "base_uri": "https://localhost:8080/"
        },
        "id": "63TKBiLzDxmk",
        "outputId": "cea3cb71-0cdb-4096-ac85-f822826bd4c2"
      },
      "execution_count": 29,
      "outputs": [
        {
          "output_type": "execute_result",
          "data": {
            "text/plain": [
              "tensor([6, 1, 1, 1, 1])"
            ]
          },
          "metadata": {},
          "execution_count": 29
        }
      ]
    },
    {
      "cell_type": "markdown",
      "source": [
        "## Preprocessing"
      ],
      "metadata": {
        "id": "77hFWG4rHDgm"
      }
    },
    {
      "cell_type": "code",
      "source": [
        "import torch_geometric.transforms as T\n",
        "transform = T.Compose([SelectTarget(TARGET_Y), T.Distance(norm=False)])\n",
        "\n",
        "# transformation of the input data.\n",
        "# - SelectTarget selects the target column and torch_geometric.transforms.\n",
        "# - Distance appends Euclidean distance between pos vectors to the edge attributes."
      ],
      "metadata": {
        "id": "ugdiDT_WEXo8"
      },
      "execution_count": 83,
      "outputs": []
    },
    {
      "cell_type": "code",
      "source": [
        "st = SelectTarget(TARGET_Y)"
      ],
      "metadata": {
        "id": "0Q2STxCLHZGn"
      },
      "execution_count": 46,
      "outputs": []
    },
    {
      "cell_type": "code",
      "source": [
        "raw_dataset.y"
      ],
      "metadata": {
        "colab": {
          "base_uri": "https://localhost:8080/"
        },
        "id": "XIa8kdcXIHDV",
        "outputId": "7390087d-bde1-4c0c-d4f4-0ec12cea6a15"
      },
      "execution_count": 55,
      "outputs": [
        {
          "output_type": "execute_result",
          "data": {
            "text/plain": [
              "tensor([[  0.0000,  13.2100, -10.5499,  ..., 157.7118, 157.7100, 157.7070],\n",
              "        [  1.6256,   9.4600,  -6.9933,  ..., 293.6097, 293.5411, 191.3940],\n",
              "        [  1.8511,   6.3100,  -7.9675,  ..., 799.5881, 437.9039, 282.9455],\n",
              "        ...,\n",
              "        [  1.2480,  73.6000,  -6.0763,  ...,   3.6712,   2.1431,   1.8950],\n",
              "        [  1.9576,  77.4000,  -5.7743,  ...,   3.5285,   2.1513,   1.8658],\n",
              "        [  0.8626,  69.4800,  -6.3022,  ...,   3.6402,   2.2176,   1.9379]])"
            ]
          },
          "metadata": {},
          "execution_count": 55
        }
      ]
    },
    {
      "cell_type": "code",
      "source": [
        "st(raw_dataset)"
      ],
      "metadata": {
        "colab": {
          "base_uri": "https://localhost:8080/"
        },
        "id": "KpaGTs1VIpul",
        "outputId": "828a2b33-dd1a-4386-ede8-bc2886a2058d"
      },
      "execution_count": 57,
      "outputs": [
        {
          "output_type": "execute_result",
          "data": {
            "text/plain": [
              "tensor([ -1101.4878,  -1538.1477,  -2079.0779,  ..., -10360.8418,\n",
              "         -9924.5469, -10901.7803])"
            ]
          },
          "metadata": {},
          "execution_count": 57
        }
      ]
    },
    {
      "cell_type": "code",
      "source": [
        "T.Distance(norm=False)(raw_dataset)"
      ],
      "metadata": {
        "colab": {
          "base_uri": "https://localhost:8080/"
        },
        "id": "_HN_VVBoI6Pb",
        "outputId": "4fde9e5a-98b6-4547-d46a-18e1f9e853fd"
      },
      "execution_count": 59,
      "outputs": [
        {
          "output_type": "execute_result",
          "data": {
            "text/plain": [
              "QM9(130831)"
            ]
          },
          "metadata": {},
          "execution_count": 59
        }
      ]
    },
    {
      "cell_type": "code",
      "source": [],
      "metadata": {
        "colab": {
          "base_uri": "https://localhost:8080/"
        },
        "id": "O1cdbnQpJQPx",
        "outputId": "5538ec78-4316-4f40-d116-b9199c087966"
      },
      "execution_count": 61,
      "outputs": [
        {
          "output_type": "execute_result",
          "data": {
            "text/plain": [
              "tensor([[  0.0000,  13.2100, -10.5499,  ..., 157.7118, 157.7100, 157.7070],\n",
              "        [  1.6256,   9.4600,  -6.9933,  ..., 293.6097, 293.5411, 191.3940],\n",
              "        [  1.8511,   6.3100,  -7.9675,  ..., 799.5881, 437.9039, 282.9455],\n",
              "        ...,\n",
              "        [  1.2480,  73.6000,  -6.0763,  ...,   3.6712,   2.1431,   1.8950],\n",
              "        [  1.9576,  77.4000,  -5.7743,  ...,   3.5285,   2.1513,   1.8658],\n",
              "        [  0.8626,  69.4800,  -6.3022,  ...,   3.6402,   2.2176,   1.9379]])"
            ]
          },
          "metadata": {},
          "execution_count": 61
        }
      ]
    },
    {
      "cell_type": "markdown",
      "source": [
        "Before, we have uploaded the raw dataset, now we upload a processed one"
      ],
      "metadata": {
        "id": "W4VyuWIeJa33"
      }
    },
    {
      "cell_type": "code",
      "source": [
        "torch.manual_seed(42)\n",
        "dataset = QM9(dataset_path, transform=transform).shuffle()"
      ],
      "metadata": {
        "id": "mMuzvuSmJWkM"
      },
      "execution_count": 110,
      "outputs": []
    },
    {
      "cell_type": "code",
      "source": [
        "mean = dataset.data.y.mean(dim = 0, keepdim = True)\n",
        "std = dataset.data.y.std(dim = 0, keepdim = True)\n",
        "dataset.data.y = (dataset.data.y - mean) / std\n",
        "mean, std = mean[:, TARGET_Y].item(), std[:, TARGET_Y].item()"
      ],
      "metadata": {
        "colab": {
          "base_uri": "https://localhost:8080/"
        },
        "id": "eemh40VqJlAE",
        "outputId": "976f8c1f-044c-4a74-e889-3dcabe549ce4"
      },
      "execution_count": 111,
      "outputs": [
        {
          "output_type": "stream",
          "name": "stderr",
          "text": [
            "/usr/local/lib/python3.10/dist-packages/torch_geometric/data/in_memory_dataset.py:300: UserWarning: It is not recommended to directly access the internal storage format `data` of an 'InMemoryDataset'. The given 'InMemoryDataset' only references a subset of examples of the full dataset, but 'data' will contain information of the full dataset. If you are absolutely certain what you are doing, access the internal storage via `InMemoryDataset._data` instead to suppress this warning. Alternatively, you can access stacked individual attributes of every graph via `dataset.{attr_name}`.\n",
            "  warnings.warn(msg)\n"
          ]
        }
      ]
    },
    {
      "cell_type": "code",
      "source": [
        "len(dataset)"
      ],
      "metadata": {
        "colab": {
          "base_uri": "https://localhost:8080/"
        },
        "id": "a4HDyi8fJ1c6",
        "outputId": "dd662440-e6d4-402b-cf10-b40266ec3ee6"
      },
      "execution_count": 68,
      "outputs": [
        {
          "output_type": "execute_result",
          "data": {
            "text/plain": [
              "130831"
            ]
          },
          "metadata": {},
          "execution_count": 68
        }
      ]
    },
    {
      "cell_type": "code",
      "source": [
        "test_dataset = dataset[:10000]\n",
        "val_dataset = dataset[10000:20000]\n",
        "train_dataset = dataset[20000:40000]"
      ],
      "metadata": {
        "id": "WWhrJamXJ_zT"
      },
      "execution_count": 112,
      "outputs": []
    },
    {
      "cell_type": "code",
      "source": [
        "# Create pytorch objects for handling the data\n",
        "test_loader = DataLoader(test_dataset, batch_size=128, shuffle=False)\n",
        "val_loader = DataLoader(val_dataset, batch_size=128, shuffle=False)\n",
        "train_loader = DataLoader(train_dataset, batch_size=128, shuffle=True)"
      ],
      "metadata": {
        "id": "EkRePWUEKFM8"
      },
      "execution_count": 113,
      "outputs": []
    },
    {
      "cell_type": "markdown",
      "source": [
        "A base GNN for molecules."
      ],
      "metadata": {
        "id": "J315X5VHKJ27"
      }
    },
    {
      "cell_type": "code",
      "source": [
        "class SlimeNet (torch.nn.Module):\n",
        "    def __init__ (self, hidden_dim: int):\n",
        "        super().__init__()\n",
        "        self.lin0 = torch.nn.Linear(dataset.num_features, hidden_dim)\n",
        "        self.conv = GCNConv(hidden_dim, hidden_dim)\n",
        "        self.set2set = Set2Set(hidden_dim, processing_steps = 1)\n",
        "        self.lin1 = torch.nn.Linear(2*hidden_dim, hidden_dim)\n",
        "        self.lin2 = torch.nn.Linear(hidden_dim, 1)\n",
        "        return\n",
        "\n",
        "    def forward (self, data):\n",
        "        # Nothing special, just a sequece of transformations\n",
        "        # But pay attention to the API signatures of the graph layers\n",
        "        # Apply a linear layer+ReLu to the featues of each node independenly\n",
        "        out = F.relu(self.lin0(data.x))\n",
        "        # Apply a graph convolution\n",
        "        out = F.relu(self.conv(out, data.edge_index))\n",
        "        # Apply a Set2Set pooling operation from\n",
        "        # \"Order Matters: Sequence to sequence for sets\"\n",
        "        # https://arxiv.org/abs/1511.06391 paper\n",
        "        out = self.set2set(out, data.batch)\n",
        "        # And a classic fully-connected head\n",
        "        out = F.relu(self.lin1(out))\n",
        "        out = self.lin2(out)\n",
        "        return out.view(-1)"
      ],
      "metadata": {
        "id": "WLZ4etpKKJUg"
      },
      "execution_count": 114,
      "outputs": []
    },
    {
      "cell_type": "code",
      "source": [
        "device = torch.device('cuda' if torch.cuda.is_available() else 'cpu')"
      ],
      "metadata": {
        "id": "vQeJFZffLVka"
      },
      "execution_count": 73,
      "outputs": []
    },
    {
      "cell_type": "code",
      "source": [
        "def evaluate_model (model, epochs = 15):\n",
        "  model = model.to(device)\n",
        "  optimizer = torch.optim.Adam(model.parameters(), lr = 0.001)\n",
        "  scheduler = torch.optim.lr_scheduler.ReduceLROnPlateau(optimizer,\n",
        "                                                         mode = \"min\",\n",
        "                                                         factor = 0.7,\n",
        "                                                         patience = 5,\n",
        "                                                         min_lr = 1e-5)\n",
        "\n",
        "  def train (epoch):\n",
        "    model.train()\n",
        "    loss_all = 0\n",
        "    for data in train_loader:\n",
        "      data = data.to(device)\n",
        "      optimizer.zero_grad()\n",
        "      loss = F.mse_loss(model(data), data.y)\n",
        "      loss.backward()\n",
        "      loss_all += loss.item() * data.num_graphs\n",
        "      optimizer.step()\n",
        "    return loss_all / len(train_loader.dataset)\n",
        "\n",
        "  def test (loader):\n",
        "    model.eval()\n",
        "    error = 0\n",
        "    for data in loader:\n",
        "      data = data.to(device)\n",
        "      error += (model(data)*std - data.y*std).abs().sum().item() # MAE = Mean Absolute Value\n",
        "    return error / len(loader.dataset)\n",
        "\n",
        "  best_val_error = None\n",
        "  for epoch in trange(epochs):\n",
        "        lr = scheduler.optimizer.param_groups[0]['lr']\n",
        "        loss = train(epoch)\n",
        "        val_error = test(val_loader)\n",
        "        scheduler.step(val_error)\n",
        "\n",
        "        if best_val_error is None or val_error <= best_val_error:\n",
        "            test_error = test(test_loader)\n",
        "            best_val_error = val_error\n",
        "\n",
        "        print(f'Epoch: {epoch:03d}, LR: {lr:7f}, Loss: {loss:.7f}, '\n",
        "              f'Val MAE: {val_error:.7f}, Test MAE: {test_error:.7f}')\n"
      ],
      "metadata": {
        "id": "mFZmb7T7MOjU"
      },
      "execution_count": 117,
      "outputs": []
    },
    {
      "cell_type": "code",
      "source": [
        "evaluate_model(SlimeNet(16))"
      ],
      "metadata": {
        "colab": {
          "base_uri": "https://localhost:8080/",
          "height": 309,
          "referenced_widgets": [
            "62d6c75676d74bdf8e79a881e34ce510",
            "154aab920f0445b585789176983b413e",
            "7e2d3133ddc14ae8b3da96bb5da342c9",
            "248b60eac0d640ecac35accf87d6e761",
            "5037f83d4b1e4af3964cf9429fb62902",
            "89135f1463b84794beaa1c650490e3f9",
            "6681a7ba5fd842a48299f7cc3f59984b",
            "34bb3d57c15b4ea3b2d5cb2ab6a33151",
            "9f2086ac4f284e32bb9b0347cfeb8973",
            "9770485dd2f2432592c3ed45fbb69776",
            "48758e67b33e4449bade48a6ea20aef9"
          ]
        },
        "id": "PRs2q-g6M50n",
        "outputId": "f9482f55-17b9-4418-bfca-abc47d533d24"
      },
      "execution_count": 118,
      "outputs": [
        {
          "output_type": "display_data",
          "data": {
            "text/plain": [
              "  0%|          | 0/15 [00:00<?, ?it/s]"
            ],
            "application/vnd.jupyter.widget-view+json": {
              "version_major": 2,
              "version_minor": 0,
              "model_id": "62d6c75676d74bdf8e79a881e34ce510"
            }
          },
          "metadata": {}
        },
        {
          "output_type": "stream",
          "name": "stdout",
          "text": [
            "Epoch: 000, LR: 0.001000, Loss: 0.9110288, Val MAE: 630.4476451, Test MAE: 641.6348348\n",
            "Epoch: 001, LR: 0.001000, Loss: 0.5404422, Val MAE: 520.2654851, Test MAE: 529.8124465\n",
            "Epoch: 002, LR: 0.001000, Loss: 0.4559221, Val MAE: 509.2865655, Test MAE: 519.2470790\n",
            "Epoch: 003, LR: 0.001000, Loss: 0.4220531, Val MAE: 476.3400029, Test MAE: 486.3437336\n",
            "Epoch: 004, LR: 0.001000, Loss: 0.4028106, Val MAE: 451.3020460, Test MAE: 462.0412992\n",
            "Epoch: 005, LR: 0.001000, Loss: 0.3931480, Val MAE: 450.9344129, Test MAE: 461.1072859\n",
            "Epoch: 006, LR: 0.001000, Loss: 0.3868305, Val MAE: 372.1884602, Test MAE: 383.3468015\n",
            "Epoch: 007, LR: 0.001000, Loss: 0.3825691, Val MAE: 549.3518054, Test MAE: 383.3468015\n",
            "Epoch: 008, LR: 0.001000, Loss: 0.3802492, Val MAE: 387.1366868, Test MAE: 383.3468015\n",
            "Epoch: 009, LR: 0.001000, Loss: 0.3777285, Val MAE: 425.1426750, Test MAE: 383.3468015\n",
            "Epoch: 010, LR: 0.001000, Loss: 0.3772233, Val MAE: 518.7171215, Test MAE: 383.3468015\n",
            "Epoch: 011, LR: 0.001000, Loss: 0.3775664, Val MAE: 410.8992262, Test MAE: 383.3468015\n",
            "Epoch: 012, LR: 0.001000, Loss: 0.3782721, Val MAE: 478.0876010, Test MAE: 383.3468015\n",
            "Epoch: 013, LR: 0.000700, Loss: 0.3749874, Val MAE: 437.5654543, Test MAE: 383.3468015\n",
            "Epoch: 014, LR: 0.000700, Loss: 0.3744140, Val MAE: 436.9969714, Test MAE: 383.3468015\n"
          ]
        }
      ]
    },
    {
      "cell_type": "code",
      "source": [
        "evaluate_model(SlimeNet(32))"
      ],
      "metadata": {
        "colab": {
          "base_uri": "https://localhost:8080/",
          "height": 309,
          "referenced_widgets": [
            "d3adb59dbddc4640bfe419d943eaff45",
            "860f239221054d9099cd626c93ceac2a",
            "067f3a16ae3c4a46887682de7434083d",
            "2a463a54637f4c6893734cf35f67e3dc",
            "9eaa7f9562974edb94a90a6d535988b4",
            "321076a29056428cbd878a284158c3f3",
            "ff70e06215ab42af989de49602167bc5",
            "82dbbcb2e6124a66a2bb51b701836493",
            "a0b2a3d6b1d9423382336a4dea7b307a",
            "c5560aa6a32941c28c8121bd248288ca",
            "3eda1b71b0e7400f98b93c0d642d2f09"
          ]
        },
        "id": "S6P9xnTBSfT4",
        "outputId": "bebb94d7-3944-4f1a-af9b-2ccf491bbe9e"
      },
      "execution_count": 120,
      "outputs": [
        {
          "output_type": "display_data",
          "data": {
            "text/plain": [
              "  0%|          | 0/15 [00:00<?, ?it/s]"
            ],
            "application/vnd.jupyter.widget-view+json": {
              "version_major": 2,
              "version_minor": 0,
              "model_id": "d3adb59dbddc4640bfe419d943eaff45"
            }
          },
          "metadata": {}
        },
        {
          "output_type": "stream",
          "name": "stdout",
          "text": [
            "Epoch: 000, LR: 0.001000, Loss: 0.8442500, Val MAE: 583.3686895, Test MAE: 592.8441222\n",
            "Epoch: 001, LR: 0.001000, Loss: 0.5097483, Val MAE: 476.0487523, Test MAE: 485.6018891\n",
            "Epoch: 002, LR: 0.001000, Loss: 0.4189401, Val MAE: 420.6810439, Test MAE: 431.2648958\n",
            "Epoch: 003, LR: 0.001000, Loss: 0.3925229, Val MAE: 465.0525190, Test MAE: 431.2648958\n",
            "Epoch: 004, LR: 0.001000, Loss: 0.3854741, Val MAE: 470.1225577, Test MAE: 431.2648958\n",
            "Epoch: 005, LR: 0.001000, Loss: 0.3815470, Val MAE: 396.5417066, Test MAE: 407.5131520\n",
            "Epoch: 006, LR: 0.001000, Loss: 0.3780129, Val MAE: 413.3301561, Test MAE: 407.5131520\n",
            "Epoch: 007, LR: 0.001000, Loss: 0.3782604, Val MAE: 393.6557235, Test MAE: 404.5313252\n",
            "Epoch: 008, LR: 0.001000, Loss: 0.3748502, Val MAE: 391.0245760, Test MAE: 401.6025842\n",
            "Epoch: 009, LR: 0.001000, Loss: 0.3748664, Val MAE: 422.3077537, Test MAE: 401.6025842\n",
            "Epoch: 010, LR: 0.001000, Loss: 0.3711531, Val MAE: 381.6058570, Test MAE: 391.7364624\n",
            "Epoch: 011, LR: 0.001000, Loss: 0.3726909, Val MAE: 389.5466490, Test MAE: 391.7364624\n",
            "Epoch: 012, LR: 0.001000, Loss: 0.3694573, Val MAE: 423.9901615, Test MAE: 391.7364624\n",
            "Epoch: 013, LR: 0.001000, Loss: 0.3733819, Val MAE: 422.3343165, Test MAE: 391.7364624\n",
            "Epoch: 014, LR: 0.001000, Loss: 0.3701874, Val MAE: 412.2766521, Test MAE: 391.7364624\n"
          ]
        }
      ]
    }
  ]
}