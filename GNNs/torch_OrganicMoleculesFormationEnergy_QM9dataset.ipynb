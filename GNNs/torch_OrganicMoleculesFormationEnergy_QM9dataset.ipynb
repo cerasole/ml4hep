{
  "nbformat": 4,
  "nbformat_minor": 0,
  "metadata": {
    "colab": {
      "provenance": [],
      "gpuType": "T4",
      "authorship_tag": "ABX9TyMT8WaJvcNjg0/9NEH6gOoX",
      "include_colab_link": true
    },
    "kernelspec": {
      "name": "python3",
      "display_name": "Python 3"
    },
    "language_info": {
      "name": "python"
    },
    "widgets": {
      "application/vnd.jupyter.widget-state+json": {
        "e7bb840a1f4e43908db5271c1c20f80d": {
          "model_module": "@jupyter-widgets/controls",
          "model_name": "HBoxModel",
          "model_module_version": "1.5.0",
          "state": {
            "_dom_classes": [],
            "_model_module": "@jupyter-widgets/controls",
            "_model_module_version": "1.5.0",
            "_model_name": "HBoxModel",
            "_view_count": null,
            "_view_module": "@jupyter-widgets/controls",
            "_view_module_version": "1.5.0",
            "_view_name": "HBoxView",
            "box_style": "",
            "children": [
              "IPY_MODEL_312535e5cf5e43d19151713bea46b78b",
              "IPY_MODEL_425b0b96e4ad4b45907de8b2746c461f",
              "IPY_MODEL_1978c4a12b21449f9efde74877ebdea2"
            ],
            "layout": "IPY_MODEL_e1b33db1937940c99e75e59c80f6ef05"
          }
        },
        "312535e5cf5e43d19151713bea46b78b": {
          "model_module": "@jupyter-widgets/controls",
          "model_name": "HTMLModel",
          "model_module_version": "1.5.0",
          "state": {
            "_dom_classes": [],
            "_model_module": "@jupyter-widgets/controls",
            "_model_module_version": "1.5.0",
            "_model_name": "HTMLModel",
            "_view_count": null,
            "_view_module": "@jupyter-widgets/controls",
            "_view_module_version": "1.5.0",
            "_view_name": "HTMLView",
            "description": "",
            "description_tooltip": null,
            "layout": "IPY_MODEL_1d3066c091b84fc88a273d27397507a4",
            "placeholder": "​",
            "style": "IPY_MODEL_55442ec8768042cd9e0edfa9c3e8bee6",
            "value": "100%"
          }
        },
        "425b0b96e4ad4b45907de8b2746c461f": {
          "model_module": "@jupyter-widgets/controls",
          "model_name": "FloatProgressModel",
          "model_module_version": "1.5.0",
          "state": {
            "_dom_classes": [],
            "_model_module": "@jupyter-widgets/controls",
            "_model_module_version": "1.5.0",
            "_model_name": "FloatProgressModel",
            "_view_count": null,
            "_view_module": "@jupyter-widgets/controls",
            "_view_module_version": "1.5.0",
            "_view_name": "ProgressView",
            "bar_style": "success",
            "description": "",
            "description_tooltip": null,
            "layout": "IPY_MODEL_617fe8c8ff014f6b8110ba480744f40f",
            "max": 15,
            "min": 0,
            "orientation": "horizontal",
            "style": "IPY_MODEL_549840b597694f3dbf7056d85bcade40",
            "value": 15
          }
        },
        "1978c4a12b21449f9efde74877ebdea2": {
          "model_module": "@jupyter-widgets/controls",
          "model_name": "HTMLModel",
          "model_module_version": "1.5.0",
          "state": {
            "_dom_classes": [],
            "_model_module": "@jupyter-widgets/controls",
            "_model_module_version": "1.5.0",
            "_model_name": "HTMLModel",
            "_view_count": null,
            "_view_module": "@jupyter-widgets/controls",
            "_view_module_version": "1.5.0",
            "_view_name": "HTMLView",
            "description": "",
            "description_tooltip": null,
            "layout": "IPY_MODEL_fb10b114038f460f9482d79788816bcd",
            "placeholder": "​",
            "style": "IPY_MODEL_b5718d87a80648de83c81f9af932c3b3",
            "value": " 15/15 [03:06&lt;00:00, 10.03s/it]"
          }
        },
        "e1b33db1937940c99e75e59c80f6ef05": {
          "model_module": "@jupyter-widgets/base",
          "model_name": "LayoutModel",
          "model_module_version": "1.2.0",
          "state": {
            "_model_module": "@jupyter-widgets/base",
            "_model_module_version": "1.2.0",
            "_model_name": "LayoutModel",
            "_view_count": null,
            "_view_module": "@jupyter-widgets/base",
            "_view_module_version": "1.2.0",
            "_view_name": "LayoutView",
            "align_content": null,
            "align_items": null,
            "align_self": null,
            "border": null,
            "bottom": null,
            "display": null,
            "flex": null,
            "flex_flow": null,
            "grid_area": null,
            "grid_auto_columns": null,
            "grid_auto_flow": null,
            "grid_auto_rows": null,
            "grid_column": null,
            "grid_gap": null,
            "grid_row": null,
            "grid_template_areas": null,
            "grid_template_columns": null,
            "grid_template_rows": null,
            "height": null,
            "justify_content": null,
            "justify_items": null,
            "left": null,
            "margin": null,
            "max_height": null,
            "max_width": null,
            "min_height": null,
            "min_width": null,
            "object_fit": null,
            "object_position": null,
            "order": null,
            "overflow": null,
            "overflow_x": null,
            "overflow_y": null,
            "padding": null,
            "right": null,
            "top": null,
            "visibility": null,
            "width": null
          }
        },
        "1d3066c091b84fc88a273d27397507a4": {
          "model_module": "@jupyter-widgets/base",
          "model_name": "LayoutModel",
          "model_module_version": "1.2.0",
          "state": {
            "_model_module": "@jupyter-widgets/base",
            "_model_module_version": "1.2.0",
            "_model_name": "LayoutModel",
            "_view_count": null,
            "_view_module": "@jupyter-widgets/base",
            "_view_module_version": "1.2.0",
            "_view_name": "LayoutView",
            "align_content": null,
            "align_items": null,
            "align_self": null,
            "border": null,
            "bottom": null,
            "display": null,
            "flex": null,
            "flex_flow": null,
            "grid_area": null,
            "grid_auto_columns": null,
            "grid_auto_flow": null,
            "grid_auto_rows": null,
            "grid_column": null,
            "grid_gap": null,
            "grid_row": null,
            "grid_template_areas": null,
            "grid_template_columns": null,
            "grid_template_rows": null,
            "height": null,
            "justify_content": null,
            "justify_items": null,
            "left": null,
            "margin": null,
            "max_height": null,
            "max_width": null,
            "min_height": null,
            "min_width": null,
            "object_fit": null,
            "object_position": null,
            "order": null,
            "overflow": null,
            "overflow_x": null,
            "overflow_y": null,
            "padding": null,
            "right": null,
            "top": null,
            "visibility": null,
            "width": null
          }
        },
        "55442ec8768042cd9e0edfa9c3e8bee6": {
          "model_module": "@jupyter-widgets/controls",
          "model_name": "DescriptionStyleModel",
          "model_module_version": "1.5.0",
          "state": {
            "_model_module": "@jupyter-widgets/controls",
            "_model_module_version": "1.5.0",
            "_model_name": "DescriptionStyleModel",
            "_view_count": null,
            "_view_module": "@jupyter-widgets/base",
            "_view_module_version": "1.2.0",
            "_view_name": "StyleView",
            "description_width": ""
          }
        },
        "617fe8c8ff014f6b8110ba480744f40f": {
          "model_module": "@jupyter-widgets/base",
          "model_name": "LayoutModel",
          "model_module_version": "1.2.0",
          "state": {
            "_model_module": "@jupyter-widgets/base",
            "_model_module_version": "1.2.0",
            "_model_name": "LayoutModel",
            "_view_count": null,
            "_view_module": "@jupyter-widgets/base",
            "_view_module_version": "1.2.0",
            "_view_name": "LayoutView",
            "align_content": null,
            "align_items": null,
            "align_self": null,
            "border": null,
            "bottom": null,
            "display": null,
            "flex": null,
            "flex_flow": null,
            "grid_area": null,
            "grid_auto_columns": null,
            "grid_auto_flow": null,
            "grid_auto_rows": null,
            "grid_column": null,
            "grid_gap": null,
            "grid_row": null,
            "grid_template_areas": null,
            "grid_template_columns": null,
            "grid_template_rows": null,
            "height": null,
            "justify_content": null,
            "justify_items": null,
            "left": null,
            "margin": null,
            "max_height": null,
            "max_width": null,
            "min_height": null,
            "min_width": null,
            "object_fit": null,
            "object_position": null,
            "order": null,
            "overflow": null,
            "overflow_x": null,
            "overflow_y": null,
            "padding": null,
            "right": null,
            "top": null,
            "visibility": null,
            "width": null
          }
        },
        "549840b597694f3dbf7056d85bcade40": {
          "model_module": "@jupyter-widgets/controls",
          "model_name": "ProgressStyleModel",
          "model_module_version": "1.5.0",
          "state": {
            "_model_module": "@jupyter-widgets/controls",
            "_model_module_version": "1.5.0",
            "_model_name": "ProgressStyleModel",
            "_view_count": null,
            "_view_module": "@jupyter-widgets/base",
            "_view_module_version": "1.2.0",
            "_view_name": "StyleView",
            "bar_color": null,
            "description_width": ""
          }
        },
        "fb10b114038f460f9482d79788816bcd": {
          "model_module": "@jupyter-widgets/base",
          "model_name": "LayoutModel",
          "model_module_version": "1.2.0",
          "state": {
            "_model_module": "@jupyter-widgets/base",
            "_model_module_version": "1.2.0",
            "_model_name": "LayoutModel",
            "_view_count": null,
            "_view_module": "@jupyter-widgets/base",
            "_view_module_version": "1.2.0",
            "_view_name": "LayoutView",
            "align_content": null,
            "align_items": null,
            "align_self": null,
            "border": null,
            "bottom": null,
            "display": null,
            "flex": null,
            "flex_flow": null,
            "grid_area": null,
            "grid_auto_columns": null,
            "grid_auto_flow": null,
            "grid_auto_rows": null,
            "grid_column": null,
            "grid_gap": null,
            "grid_row": null,
            "grid_template_areas": null,
            "grid_template_columns": null,
            "grid_template_rows": null,
            "height": null,
            "justify_content": null,
            "justify_items": null,
            "left": null,
            "margin": null,
            "max_height": null,
            "max_width": null,
            "min_height": null,
            "min_width": null,
            "object_fit": null,
            "object_position": null,
            "order": null,
            "overflow": null,
            "overflow_x": null,
            "overflow_y": null,
            "padding": null,
            "right": null,
            "top": null,
            "visibility": null,
            "width": null
          }
        },
        "b5718d87a80648de83c81f9af932c3b3": {
          "model_module": "@jupyter-widgets/controls",
          "model_name": "DescriptionStyleModel",
          "model_module_version": "1.5.0",
          "state": {
            "_model_module": "@jupyter-widgets/controls",
            "_model_module_version": "1.5.0",
            "_model_name": "DescriptionStyleModel",
            "_view_count": null,
            "_view_module": "@jupyter-widgets/base",
            "_view_module_version": "1.2.0",
            "_view_name": "StyleView",
            "description_width": ""
          }
        },
        "ab051e9f83dd485492413c5d1178c40d": {
          "model_module": "@jupyter-widgets/controls",
          "model_name": "HBoxModel",
          "model_module_version": "1.5.0",
          "state": {
            "_dom_classes": [],
            "_model_module": "@jupyter-widgets/controls",
            "_model_module_version": "1.5.0",
            "_model_name": "HBoxModel",
            "_view_count": null,
            "_view_module": "@jupyter-widgets/controls",
            "_view_module_version": "1.5.0",
            "_view_name": "HBoxView",
            "box_style": "",
            "children": [
              "IPY_MODEL_a5b24f90a580480595b16b7f64fd9da2",
              "IPY_MODEL_2b4109bca5fd48f49242df4b0f7f5622",
              "IPY_MODEL_27db9f6b4390480aad0407b6b84d3963"
            ],
            "layout": "IPY_MODEL_54ef405a0019454cab64174e0e0930c9"
          }
        },
        "a5b24f90a580480595b16b7f64fd9da2": {
          "model_module": "@jupyter-widgets/controls",
          "model_name": "HTMLModel",
          "model_module_version": "1.5.0",
          "state": {
            "_dom_classes": [],
            "_model_module": "@jupyter-widgets/controls",
            "_model_module_version": "1.5.0",
            "_model_name": "HTMLModel",
            "_view_count": null,
            "_view_module": "@jupyter-widgets/controls",
            "_view_module_version": "1.5.0",
            "_view_name": "HTMLView",
            "description": "",
            "description_tooltip": null,
            "layout": "IPY_MODEL_8c37a07e95c84acc9a656a1e54dc3bfa",
            "placeholder": "​",
            "style": "IPY_MODEL_90f1e852f7814fd088b8136668402d64",
            "value": "100%"
          }
        },
        "2b4109bca5fd48f49242df4b0f7f5622": {
          "model_module": "@jupyter-widgets/controls",
          "model_name": "FloatProgressModel",
          "model_module_version": "1.5.0",
          "state": {
            "_dom_classes": [],
            "_model_module": "@jupyter-widgets/controls",
            "_model_module_version": "1.5.0",
            "_model_name": "FloatProgressModel",
            "_view_count": null,
            "_view_module": "@jupyter-widgets/controls",
            "_view_module_version": "1.5.0",
            "_view_name": "ProgressView",
            "bar_style": "success",
            "description": "",
            "description_tooltip": null,
            "layout": "IPY_MODEL_8b5954ab5eb94ce58f4cf34cc17eacf7",
            "max": 15,
            "min": 0,
            "orientation": "horizontal",
            "style": "IPY_MODEL_4925dc6cacf34488b6c76544a8039816",
            "value": 15
          }
        },
        "27db9f6b4390480aad0407b6b84d3963": {
          "model_module": "@jupyter-widgets/controls",
          "model_name": "HTMLModel",
          "model_module_version": "1.5.0",
          "state": {
            "_dom_classes": [],
            "_model_module": "@jupyter-widgets/controls",
            "_model_module_version": "1.5.0",
            "_model_name": "HTMLModel",
            "_view_count": null,
            "_view_module": "@jupyter-widgets/controls",
            "_view_module_version": "1.5.0",
            "_view_name": "HTMLView",
            "description": "",
            "description_tooltip": null,
            "layout": "IPY_MODEL_e1d2387b6da54ede8391f3647fc2c8bf",
            "placeholder": "​",
            "style": "IPY_MODEL_2a718423c6ce4f55808d0b2555c9332c",
            "value": " 15/15 [03:07&lt;00:00, 11.79s/it]"
          }
        },
        "54ef405a0019454cab64174e0e0930c9": {
          "model_module": "@jupyter-widgets/base",
          "model_name": "LayoutModel",
          "model_module_version": "1.2.0",
          "state": {
            "_model_module": "@jupyter-widgets/base",
            "_model_module_version": "1.2.0",
            "_model_name": "LayoutModel",
            "_view_count": null,
            "_view_module": "@jupyter-widgets/base",
            "_view_module_version": "1.2.0",
            "_view_name": "LayoutView",
            "align_content": null,
            "align_items": null,
            "align_self": null,
            "border": null,
            "bottom": null,
            "display": null,
            "flex": null,
            "flex_flow": null,
            "grid_area": null,
            "grid_auto_columns": null,
            "grid_auto_flow": null,
            "grid_auto_rows": null,
            "grid_column": null,
            "grid_gap": null,
            "grid_row": null,
            "grid_template_areas": null,
            "grid_template_columns": null,
            "grid_template_rows": null,
            "height": null,
            "justify_content": null,
            "justify_items": null,
            "left": null,
            "margin": null,
            "max_height": null,
            "max_width": null,
            "min_height": null,
            "min_width": null,
            "object_fit": null,
            "object_position": null,
            "order": null,
            "overflow": null,
            "overflow_x": null,
            "overflow_y": null,
            "padding": null,
            "right": null,
            "top": null,
            "visibility": null,
            "width": null
          }
        },
        "8c37a07e95c84acc9a656a1e54dc3bfa": {
          "model_module": "@jupyter-widgets/base",
          "model_name": "LayoutModel",
          "model_module_version": "1.2.0",
          "state": {
            "_model_module": "@jupyter-widgets/base",
            "_model_module_version": "1.2.0",
            "_model_name": "LayoutModel",
            "_view_count": null,
            "_view_module": "@jupyter-widgets/base",
            "_view_module_version": "1.2.0",
            "_view_name": "LayoutView",
            "align_content": null,
            "align_items": null,
            "align_self": null,
            "border": null,
            "bottom": null,
            "display": null,
            "flex": null,
            "flex_flow": null,
            "grid_area": null,
            "grid_auto_columns": null,
            "grid_auto_flow": null,
            "grid_auto_rows": null,
            "grid_column": null,
            "grid_gap": null,
            "grid_row": null,
            "grid_template_areas": null,
            "grid_template_columns": null,
            "grid_template_rows": null,
            "height": null,
            "justify_content": null,
            "justify_items": null,
            "left": null,
            "margin": null,
            "max_height": null,
            "max_width": null,
            "min_height": null,
            "min_width": null,
            "object_fit": null,
            "object_position": null,
            "order": null,
            "overflow": null,
            "overflow_x": null,
            "overflow_y": null,
            "padding": null,
            "right": null,
            "top": null,
            "visibility": null,
            "width": null
          }
        },
        "90f1e852f7814fd088b8136668402d64": {
          "model_module": "@jupyter-widgets/controls",
          "model_name": "DescriptionStyleModel",
          "model_module_version": "1.5.0",
          "state": {
            "_model_module": "@jupyter-widgets/controls",
            "_model_module_version": "1.5.0",
            "_model_name": "DescriptionStyleModel",
            "_view_count": null,
            "_view_module": "@jupyter-widgets/base",
            "_view_module_version": "1.2.0",
            "_view_name": "StyleView",
            "description_width": ""
          }
        },
        "8b5954ab5eb94ce58f4cf34cc17eacf7": {
          "model_module": "@jupyter-widgets/base",
          "model_name": "LayoutModel",
          "model_module_version": "1.2.0",
          "state": {
            "_model_module": "@jupyter-widgets/base",
            "_model_module_version": "1.2.0",
            "_model_name": "LayoutModel",
            "_view_count": null,
            "_view_module": "@jupyter-widgets/base",
            "_view_module_version": "1.2.0",
            "_view_name": "LayoutView",
            "align_content": null,
            "align_items": null,
            "align_self": null,
            "border": null,
            "bottom": null,
            "display": null,
            "flex": null,
            "flex_flow": null,
            "grid_area": null,
            "grid_auto_columns": null,
            "grid_auto_flow": null,
            "grid_auto_rows": null,
            "grid_column": null,
            "grid_gap": null,
            "grid_row": null,
            "grid_template_areas": null,
            "grid_template_columns": null,
            "grid_template_rows": null,
            "height": null,
            "justify_content": null,
            "justify_items": null,
            "left": null,
            "margin": null,
            "max_height": null,
            "max_width": null,
            "min_height": null,
            "min_width": null,
            "object_fit": null,
            "object_position": null,
            "order": null,
            "overflow": null,
            "overflow_x": null,
            "overflow_y": null,
            "padding": null,
            "right": null,
            "top": null,
            "visibility": null,
            "width": null
          }
        },
        "4925dc6cacf34488b6c76544a8039816": {
          "model_module": "@jupyter-widgets/controls",
          "model_name": "ProgressStyleModel",
          "model_module_version": "1.5.0",
          "state": {
            "_model_module": "@jupyter-widgets/controls",
            "_model_module_version": "1.5.0",
            "_model_name": "ProgressStyleModel",
            "_view_count": null,
            "_view_module": "@jupyter-widgets/base",
            "_view_module_version": "1.2.0",
            "_view_name": "StyleView",
            "bar_color": null,
            "description_width": ""
          }
        },
        "e1d2387b6da54ede8391f3647fc2c8bf": {
          "model_module": "@jupyter-widgets/base",
          "model_name": "LayoutModel",
          "model_module_version": "1.2.0",
          "state": {
            "_model_module": "@jupyter-widgets/base",
            "_model_module_version": "1.2.0",
            "_model_name": "LayoutModel",
            "_view_count": null,
            "_view_module": "@jupyter-widgets/base",
            "_view_module_version": "1.2.0",
            "_view_name": "LayoutView",
            "align_content": null,
            "align_items": null,
            "align_self": null,
            "border": null,
            "bottom": null,
            "display": null,
            "flex": null,
            "flex_flow": null,
            "grid_area": null,
            "grid_auto_columns": null,
            "grid_auto_flow": null,
            "grid_auto_rows": null,
            "grid_column": null,
            "grid_gap": null,
            "grid_row": null,
            "grid_template_areas": null,
            "grid_template_columns": null,
            "grid_template_rows": null,
            "height": null,
            "justify_content": null,
            "justify_items": null,
            "left": null,
            "margin": null,
            "max_height": null,
            "max_width": null,
            "min_height": null,
            "min_width": null,
            "object_fit": null,
            "object_position": null,
            "order": null,
            "overflow": null,
            "overflow_x": null,
            "overflow_y": null,
            "padding": null,
            "right": null,
            "top": null,
            "visibility": null,
            "width": null
          }
        },
        "2a718423c6ce4f55808d0b2555c9332c": {
          "model_module": "@jupyter-widgets/controls",
          "model_name": "DescriptionStyleModel",
          "model_module_version": "1.5.0",
          "state": {
            "_model_module": "@jupyter-widgets/controls",
            "_model_module_version": "1.5.0",
            "_model_name": "DescriptionStyleModel",
            "_view_count": null,
            "_view_module": "@jupyter-widgets/base",
            "_view_module_version": "1.2.0",
            "_view_name": "StyleView",
            "description_width": ""
          }
        },
        "a9edfc194af340469d862c9a7d7db609": {
          "model_module": "@jupyter-widgets/controls",
          "model_name": "HBoxModel",
          "model_module_version": "1.5.0",
          "state": {
            "_dom_classes": [],
            "_model_module": "@jupyter-widgets/controls",
            "_model_module_version": "1.5.0",
            "_model_name": "HBoxModel",
            "_view_count": null,
            "_view_module": "@jupyter-widgets/controls",
            "_view_module_version": "1.5.0",
            "_view_name": "HBoxView",
            "box_style": "",
            "children": [
              "IPY_MODEL_9283f9d0733046c38fb73a30b162b28a",
              "IPY_MODEL_402323bee94c4339b223501d517723a3",
              "IPY_MODEL_e3ac32693cab4548be0a1f9b46e7198b"
            ],
            "layout": "IPY_MODEL_2d4bdba2940c4c05ad50a7397c38e744"
          }
        },
        "9283f9d0733046c38fb73a30b162b28a": {
          "model_module": "@jupyter-widgets/controls",
          "model_name": "HTMLModel",
          "model_module_version": "1.5.0",
          "state": {
            "_dom_classes": [],
            "_model_module": "@jupyter-widgets/controls",
            "_model_module_version": "1.5.0",
            "_model_name": "HTMLModel",
            "_view_count": null,
            "_view_module": "@jupyter-widgets/controls",
            "_view_module_version": "1.5.0",
            "_view_name": "HTMLView",
            "description": "",
            "description_tooltip": null,
            "layout": "IPY_MODEL_230270f30f044a42bd053b0eaebe95a0",
            "placeholder": "​",
            "style": "IPY_MODEL_c490e5af1bee40a98c824cf6238dac3e",
            "value": "100%"
          }
        },
        "402323bee94c4339b223501d517723a3": {
          "model_module": "@jupyter-widgets/controls",
          "model_name": "FloatProgressModel",
          "model_module_version": "1.5.0",
          "state": {
            "_dom_classes": [],
            "_model_module": "@jupyter-widgets/controls",
            "_model_module_version": "1.5.0",
            "_model_name": "FloatProgressModel",
            "_view_count": null,
            "_view_module": "@jupyter-widgets/controls",
            "_view_module_version": "1.5.0",
            "_view_name": "ProgressView",
            "bar_style": "success",
            "description": "",
            "description_tooltip": null,
            "layout": "IPY_MODEL_1009d6c670c74e0b977b167100a00404",
            "max": 15,
            "min": 0,
            "orientation": "horizontal",
            "style": "IPY_MODEL_cf7b9e12bdba4f7282c622e019c76d5d",
            "value": 15
          }
        },
        "e3ac32693cab4548be0a1f9b46e7198b": {
          "model_module": "@jupyter-widgets/controls",
          "model_name": "HTMLModel",
          "model_module_version": "1.5.0",
          "state": {
            "_dom_classes": [],
            "_model_module": "@jupyter-widgets/controls",
            "_model_module_version": "1.5.0",
            "_model_name": "HTMLModel",
            "_view_count": null,
            "_view_module": "@jupyter-widgets/controls",
            "_view_module_version": "1.5.0",
            "_view_name": "HTMLView",
            "description": "",
            "description_tooltip": null,
            "layout": "IPY_MODEL_d094e3f57b0c4e4a8a171e0c46f83023",
            "placeholder": "​",
            "style": "IPY_MODEL_8d1d49386a304bceab5f239f2c0027ec",
            "value": " 15/15 [07:19&lt;00:00, 26.95s/it]"
          }
        },
        "2d4bdba2940c4c05ad50a7397c38e744": {
          "model_module": "@jupyter-widgets/base",
          "model_name": "LayoutModel",
          "model_module_version": "1.2.0",
          "state": {
            "_model_module": "@jupyter-widgets/base",
            "_model_module_version": "1.2.0",
            "_model_name": "LayoutModel",
            "_view_count": null,
            "_view_module": "@jupyter-widgets/base",
            "_view_module_version": "1.2.0",
            "_view_name": "LayoutView",
            "align_content": null,
            "align_items": null,
            "align_self": null,
            "border": null,
            "bottom": null,
            "display": null,
            "flex": null,
            "flex_flow": null,
            "grid_area": null,
            "grid_auto_columns": null,
            "grid_auto_flow": null,
            "grid_auto_rows": null,
            "grid_column": null,
            "grid_gap": null,
            "grid_row": null,
            "grid_template_areas": null,
            "grid_template_columns": null,
            "grid_template_rows": null,
            "height": null,
            "justify_content": null,
            "justify_items": null,
            "left": null,
            "margin": null,
            "max_height": null,
            "max_width": null,
            "min_height": null,
            "min_width": null,
            "object_fit": null,
            "object_position": null,
            "order": null,
            "overflow": null,
            "overflow_x": null,
            "overflow_y": null,
            "padding": null,
            "right": null,
            "top": null,
            "visibility": null,
            "width": null
          }
        },
        "230270f30f044a42bd053b0eaebe95a0": {
          "model_module": "@jupyter-widgets/base",
          "model_name": "LayoutModel",
          "model_module_version": "1.2.0",
          "state": {
            "_model_module": "@jupyter-widgets/base",
            "_model_module_version": "1.2.0",
            "_model_name": "LayoutModel",
            "_view_count": null,
            "_view_module": "@jupyter-widgets/base",
            "_view_module_version": "1.2.0",
            "_view_name": "LayoutView",
            "align_content": null,
            "align_items": null,
            "align_self": null,
            "border": null,
            "bottom": null,
            "display": null,
            "flex": null,
            "flex_flow": null,
            "grid_area": null,
            "grid_auto_columns": null,
            "grid_auto_flow": null,
            "grid_auto_rows": null,
            "grid_column": null,
            "grid_gap": null,
            "grid_row": null,
            "grid_template_areas": null,
            "grid_template_columns": null,
            "grid_template_rows": null,
            "height": null,
            "justify_content": null,
            "justify_items": null,
            "left": null,
            "margin": null,
            "max_height": null,
            "max_width": null,
            "min_height": null,
            "min_width": null,
            "object_fit": null,
            "object_position": null,
            "order": null,
            "overflow": null,
            "overflow_x": null,
            "overflow_y": null,
            "padding": null,
            "right": null,
            "top": null,
            "visibility": null,
            "width": null
          }
        },
        "c490e5af1bee40a98c824cf6238dac3e": {
          "model_module": "@jupyter-widgets/controls",
          "model_name": "DescriptionStyleModel",
          "model_module_version": "1.5.0",
          "state": {
            "_model_module": "@jupyter-widgets/controls",
            "_model_module_version": "1.5.0",
            "_model_name": "DescriptionStyleModel",
            "_view_count": null,
            "_view_module": "@jupyter-widgets/base",
            "_view_module_version": "1.2.0",
            "_view_name": "StyleView",
            "description_width": ""
          }
        },
        "1009d6c670c74e0b977b167100a00404": {
          "model_module": "@jupyter-widgets/base",
          "model_name": "LayoutModel",
          "model_module_version": "1.2.0",
          "state": {
            "_model_module": "@jupyter-widgets/base",
            "_model_module_version": "1.2.0",
            "_model_name": "LayoutModel",
            "_view_count": null,
            "_view_module": "@jupyter-widgets/base",
            "_view_module_version": "1.2.0",
            "_view_name": "LayoutView",
            "align_content": null,
            "align_items": null,
            "align_self": null,
            "border": null,
            "bottom": null,
            "display": null,
            "flex": null,
            "flex_flow": null,
            "grid_area": null,
            "grid_auto_columns": null,
            "grid_auto_flow": null,
            "grid_auto_rows": null,
            "grid_column": null,
            "grid_gap": null,
            "grid_row": null,
            "grid_template_areas": null,
            "grid_template_columns": null,
            "grid_template_rows": null,
            "height": null,
            "justify_content": null,
            "justify_items": null,
            "left": null,
            "margin": null,
            "max_height": null,
            "max_width": null,
            "min_height": null,
            "min_width": null,
            "object_fit": null,
            "object_position": null,
            "order": null,
            "overflow": null,
            "overflow_x": null,
            "overflow_y": null,
            "padding": null,
            "right": null,
            "top": null,
            "visibility": null,
            "width": null
          }
        },
        "cf7b9e12bdba4f7282c622e019c76d5d": {
          "model_module": "@jupyter-widgets/controls",
          "model_name": "ProgressStyleModel",
          "model_module_version": "1.5.0",
          "state": {
            "_model_module": "@jupyter-widgets/controls",
            "_model_module_version": "1.5.0",
            "_model_name": "ProgressStyleModel",
            "_view_count": null,
            "_view_module": "@jupyter-widgets/base",
            "_view_module_version": "1.2.0",
            "_view_name": "StyleView",
            "bar_color": null,
            "description_width": ""
          }
        },
        "d094e3f57b0c4e4a8a171e0c46f83023": {
          "model_module": "@jupyter-widgets/base",
          "model_name": "LayoutModel",
          "model_module_version": "1.2.0",
          "state": {
            "_model_module": "@jupyter-widgets/base",
            "_model_module_version": "1.2.0",
            "_model_name": "LayoutModel",
            "_view_count": null,
            "_view_module": "@jupyter-widgets/base",
            "_view_module_version": "1.2.0",
            "_view_name": "LayoutView",
            "align_content": null,
            "align_items": null,
            "align_self": null,
            "border": null,
            "bottom": null,
            "display": null,
            "flex": null,
            "flex_flow": null,
            "grid_area": null,
            "grid_auto_columns": null,
            "grid_auto_flow": null,
            "grid_auto_rows": null,
            "grid_column": null,
            "grid_gap": null,
            "grid_row": null,
            "grid_template_areas": null,
            "grid_template_columns": null,
            "grid_template_rows": null,
            "height": null,
            "justify_content": null,
            "justify_items": null,
            "left": null,
            "margin": null,
            "max_height": null,
            "max_width": null,
            "min_height": null,
            "min_width": null,
            "object_fit": null,
            "object_position": null,
            "order": null,
            "overflow": null,
            "overflow_x": null,
            "overflow_y": null,
            "padding": null,
            "right": null,
            "top": null,
            "visibility": null,
            "width": null
          }
        },
        "8d1d49386a304bceab5f239f2c0027ec": {
          "model_module": "@jupyter-widgets/controls",
          "model_name": "DescriptionStyleModel",
          "model_module_version": "1.5.0",
          "state": {
            "_model_module": "@jupyter-widgets/controls",
            "_model_module_version": "1.5.0",
            "_model_name": "DescriptionStyleModel",
            "_view_count": null,
            "_view_module": "@jupyter-widgets/base",
            "_view_module_version": "1.2.0",
            "_view_name": "StyleView",
            "description_width": ""
          }
        },
        "1cfc58a1e19c4187b59d09e76551e24e": {
          "model_module": "@jupyter-widgets/controls",
          "model_name": "HBoxModel",
          "model_module_version": "1.5.0",
          "state": {
            "_dom_classes": [],
            "_model_module": "@jupyter-widgets/controls",
            "_model_module_version": "1.5.0",
            "_model_name": "HBoxModel",
            "_view_count": null,
            "_view_module": "@jupyter-widgets/controls",
            "_view_module_version": "1.5.0",
            "_view_name": "HBoxView",
            "box_style": "",
            "children": [
              "IPY_MODEL_139407f9205d41af969f393b12844433",
              "IPY_MODEL_4f8414a02baa42908c5f01befee94923",
              "IPY_MODEL_8b9564e4319e4a7497dc3d2ddd50040c"
            ],
            "layout": "IPY_MODEL_77f83080c08a49e18d3ce2d525d171af"
          }
        },
        "139407f9205d41af969f393b12844433": {
          "model_module": "@jupyter-widgets/controls",
          "model_name": "HTMLModel",
          "model_module_version": "1.5.0",
          "state": {
            "_dom_classes": [],
            "_model_module": "@jupyter-widgets/controls",
            "_model_module_version": "1.5.0",
            "_model_name": "HTMLModel",
            "_view_count": null,
            "_view_module": "@jupyter-widgets/controls",
            "_view_module_version": "1.5.0",
            "_view_name": "HTMLView",
            "description": "",
            "description_tooltip": null,
            "layout": "IPY_MODEL_defea17b383d479a9b32534d68ccdc5b",
            "placeholder": "​",
            "style": "IPY_MODEL_45b8ae85b468466c8106d792f5c6ea2c",
            "value": "100%"
          }
        },
        "4f8414a02baa42908c5f01befee94923": {
          "model_module": "@jupyter-widgets/controls",
          "model_name": "FloatProgressModel",
          "model_module_version": "1.5.0",
          "state": {
            "_dom_classes": [],
            "_model_module": "@jupyter-widgets/controls",
            "_model_module_version": "1.5.0",
            "_model_name": "FloatProgressModel",
            "_view_count": null,
            "_view_module": "@jupyter-widgets/controls",
            "_view_module_version": "1.5.0",
            "_view_name": "ProgressView",
            "bar_style": "success",
            "description": "",
            "description_tooltip": null,
            "layout": "IPY_MODEL_2b6195b23aa0482d820eb8e45e8a9925",
            "max": 15,
            "min": 0,
            "orientation": "horizontal",
            "style": "IPY_MODEL_f70fb10f1a4a4986b083ee68e88751c0",
            "value": 15
          }
        },
        "8b9564e4319e4a7497dc3d2ddd50040c": {
          "model_module": "@jupyter-widgets/controls",
          "model_name": "HTMLModel",
          "model_module_version": "1.5.0",
          "state": {
            "_dom_classes": [],
            "_model_module": "@jupyter-widgets/controls",
            "_model_module_version": "1.5.0",
            "_model_name": "HTMLModel",
            "_view_count": null,
            "_view_module": "@jupyter-widgets/controls",
            "_view_module_version": "1.5.0",
            "_view_name": "HTMLView",
            "description": "",
            "description_tooltip": null,
            "layout": "IPY_MODEL_3fbf919dd81f4550bea001094ec2c4e9",
            "placeholder": "​",
            "style": "IPY_MODEL_6acd822585a043129467657d515da7e7",
            "value": " 15/15 [07:23&lt;00:00, 30.57s/it]"
          }
        },
        "77f83080c08a49e18d3ce2d525d171af": {
          "model_module": "@jupyter-widgets/base",
          "model_name": "LayoutModel",
          "model_module_version": "1.2.0",
          "state": {
            "_model_module": "@jupyter-widgets/base",
            "_model_module_version": "1.2.0",
            "_model_name": "LayoutModel",
            "_view_count": null,
            "_view_module": "@jupyter-widgets/base",
            "_view_module_version": "1.2.0",
            "_view_name": "LayoutView",
            "align_content": null,
            "align_items": null,
            "align_self": null,
            "border": null,
            "bottom": null,
            "display": null,
            "flex": null,
            "flex_flow": null,
            "grid_area": null,
            "grid_auto_columns": null,
            "grid_auto_flow": null,
            "grid_auto_rows": null,
            "grid_column": null,
            "grid_gap": null,
            "grid_row": null,
            "grid_template_areas": null,
            "grid_template_columns": null,
            "grid_template_rows": null,
            "height": null,
            "justify_content": null,
            "justify_items": null,
            "left": null,
            "margin": null,
            "max_height": null,
            "max_width": null,
            "min_height": null,
            "min_width": null,
            "object_fit": null,
            "object_position": null,
            "order": null,
            "overflow": null,
            "overflow_x": null,
            "overflow_y": null,
            "padding": null,
            "right": null,
            "top": null,
            "visibility": null,
            "width": null
          }
        },
        "defea17b383d479a9b32534d68ccdc5b": {
          "model_module": "@jupyter-widgets/base",
          "model_name": "LayoutModel",
          "model_module_version": "1.2.0",
          "state": {
            "_model_module": "@jupyter-widgets/base",
            "_model_module_version": "1.2.0",
            "_model_name": "LayoutModel",
            "_view_count": null,
            "_view_module": "@jupyter-widgets/base",
            "_view_module_version": "1.2.0",
            "_view_name": "LayoutView",
            "align_content": null,
            "align_items": null,
            "align_self": null,
            "border": null,
            "bottom": null,
            "display": null,
            "flex": null,
            "flex_flow": null,
            "grid_area": null,
            "grid_auto_columns": null,
            "grid_auto_flow": null,
            "grid_auto_rows": null,
            "grid_column": null,
            "grid_gap": null,
            "grid_row": null,
            "grid_template_areas": null,
            "grid_template_columns": null,
            "grid_template_rows": null,
            "height": null,
            "justify_content": null,
            "justify_items": null,
            "left": null,
            "margin": null,
            "max_height": null,
            "max_width": null,
            "min_height": null,
            "min_width": null,
            "object_fit": null,
            "object_position": null,
            "order": null,
            "overflow": null,
            "overflow_x": null,
            "overflow_y": null,
            "padding": null,
            "right": null,
            "top": null,
            "visibility": null,
            "width": null
          }
        },
        "45b8ae85b468466c8106d792f5c6ea2c": {
          "model_module": "@jupyter-widgets/controls",
          "model_name": "DescriptionStyleModel",
          "model_module_version": "1.5.0",
          "state": {
            "_model_module": "@jupyter-widgets/controls",
            "_model_module_version": "1.5.0",
            "_model_name": "DescriptionStyleModel",
            "_view_count": null,
            "_view_module": "@jupyter-widgets/base",
            "_view_module_version": "1.2.0",
            "_view_name": "StyleView",
            "description_width": ""
          }
        },
        "2b6195b23aa0482d820eb8e45e8a9925": {
          "model_module": "@jupyter-widgets/base",
          "model_name": "LayoutModel",
          "model_module_version": "1.2.0",
          "state": {
            "_model_module": "@jupyter-widgets/base",
            "_model_module_version": "1.2.0",
            "_model_name": "LayoutModel",
            "_view_count": null,
            "_view_module": "@jupyter-widgets/base",
            "_view_module_version": "1.2.0",
            "_view_name": "LayoutView",
            "align_content": null,
            "align_items": null,
            "align_self": null,
            "border": null,
            "bottom": null,
            "display": null,
            "flex": null,
            "flex_flow": null,
            "grid_area": null,
            "grid_auto_columns": null,
            "grid_auto_flow": null,
            "grid_auto_rows": null,
            "grid_column": null,
            "grid_gap": null,
            "grid_row": null,
            "grid_template_areas": null,
            "grid_template_columns": null,
            "grid_template_rows": null,
            "height": null,
            "justify_content": null,
            "justify_items": null,
            "left": null,
            "margin": null,
            "max_height": null,
            "max_width": null,
            "min_height": null,
            "min_width": null,
            "object_fit": null,
            "object_position": null,
            "order": null,
            "overflow": null,
            "overflow_x": null,
            "overflow_y": null,
            "padding": null,
            "right": null,
            "top": null,
            "visibility": null,
            "width": null
          }
        },
        "f70fb10f1a4a4986b083ee68e88751c0": {
          "model_module": "@jupyter-widgets/controls",
          "model_name": "ProgressStyleModel",
          "model_module_version": "1.5.0",
          "state": {
            "_model_module": "@jupyter-widgets/controls",
            "_model_module_version": "1.5.0",
            "_model_name": "ProgressStyleModel",
            "_view_count": null,
            "_view_module": "@jupyter-widgets/base",
            "_view_module_version": "1.2.0",
            "_view_name": "StyleView",
            "bar_color": null,
            "description_width": ""
          }
        },
        "3fbf919dd81f4550bea001094ec2c4e9": {
          "model_module": "@jupyter-widgets/base",
          "model_name": "LayoutModel",
          "model_module_version": "1.2.0",
          "state": {
            "_model_module": "@jupyter-widgets/base",
            "_model_module_version": "1.2.0",
            "_model_name": "LayoutModel",
            "_view_count": null,
            "_view_module": "@jupyter-widgets/base",
            "_view_module_version": "1.2.0",
            "_view_name": "LayoutView",
            "align_content": null,
            "align_items": null,
            "align_self": null,
            "border": null,
            "bottom": null,
            "display": null,
            "flex": null,
            "flex_flow": null,
            "grid_area": null,
            "grid_auto_columns": null,
            "grid_auto_flow": null,
            "grid_auto_rows": null,
            "grid_column": null,
            "grid_gap": null,
            "grid_row": null,
            "grid_template_areas": null,
            "grid_template_columns": null,
            "grid_template_rows": null,
            "height": null,
            "justify_content": null,
            "justify_items": null,
            "left": null,
            "margin": null,
            "max_height": null,
            "max_width": null,
            "min_height": null,
            "min_width": null,
            "object_fit": null,
            "object_position": null,
            "order": null,
            "overflow": null,
            "overflow_x": null,
            "overflow_y": null,
            "padding": null,
            "right": null,
            "top": null,
            "visibility": null,
            "width": null
          }
        },
        "6acd822585a043129467657d515da7e7": {
          "model_module": "@jupyter-widgets/controls",
          "model_name": "DescriptionStyleModel",
          "model_module_version": "1.5.0",
          "state": {
            "_model_module": "@jupyter-widgets/controls",
            "_model_module_version": "1.5.0",
            "_model_name": "DescriptionStyleModel",
            "_view_count": null,
            "_view_module": "@jupyter-widgets/base",
            "_view_module_version": "1.2.0",
            "_view_name": "StyleView",
            "description_width": ""
          }
        },
        "7f0aa1fb597f4842ac3da291edb96223": {
          "model_module": "@jupyter-widgets/controls",
          "model_name": "HBoxModel",
          "model_module_version": "1.5.0",
          "state": {
            "_dom_classes": [],
            "_model_module": "@jupyter-widgets/controls",
            "_model_module_version": "1.5.0",
            "_model_name": "HBoxModel",
            "_view_count": null,
            "_view_module": "@jupyter-widgets/controls",
            "_view_module_version": "1.5.0",
            "_view_name": "HBoxView",
            "box_style": "",
            "children": [
              "IPY_MODEL_6d0c19fe5eeb40eebd70ff46a76382da",
              "IPY_MODEL_3902fbc6d34b481ab560a8c43ad70c19",
              "IPY_MODEL_87ef5b7ad1bc4de09151ee4fb959a19a"
            ],
            "layout": "IPY_MODEL_89ebfc0783454bc9b4b4503b8ecf1697"
          }
        },
        "6d0c19fe5eeb40eebd70ff46a76382da": {
          "model_module": "@jupyter-widgets/controls",
          "model_name": "HTMLModel",
          "model_module_version": "1.5.0",
          "state": {
            "_dom_classes": [],
            "_model_module": "@jupyter-widgets/controls",
            "_model_module_version": "1.5.0",
            "_model_name": "HTMLModel",
            "_view_count": null,
            "_view_module": "@jupyter-widgets/controls",
            "_view_module_version": "1.5.0",
            "_view_name": "HTMLView",
            "description": "",
            "description_tooltip": null,
            "layout": "IPY_MODEL_c0e639c6b0164b9496cf919ecaa17172",
            "placeholder": "​",
            "style": "IPY_MODEL_cd0020c77ef24c1d90db17f48b316304",
            "value": "100%"
          }
        },
        "3902fbc6d34b481ab560a8c43ad70c19": {
          "model_module": "@jupyter-widgets/controls",
          "model_name": "FloatProgressModel",
          "model_module_version": "1.5.0",
          "state": {
            "_dom_classes": [],
            "_model_module": "@jupyter-widgets/controls",
            "_model_module_version": "1.5.0",
            "_model_name": "FloatProgressModel",
            "_view_count": null,
            "_view_module": "@jupyter-widgets/controls",
            "_view_module_version": "1.5.0",
            "_view_name": "ProgressView",
            "bar_style": "success",
            "description": "",
            "description_tooltip": null,
            "layout": "IPY_MODEL_482edbc9fe614d2e897deeefbaba5f35",
            "max": 15,
            "min": 0,
            "orientation": "horizontal",
            "style": "IPY_MODEL_c209f7867f244989ba31f644c5fac7e4",
            "value": 15
          }
        },
        "87ef5b7ad1bc4de09151ee4fb959a19a": {
          "model_module": "@jupyter-widgets/controls",
          "model_name": "HTMLModel",
          "model_module_version": "1.5.0",
          "state": {
            "_dom_classes": [],
            "_model_module": "@jupyter-widgets/controls",
            "_model_module_version": "1.5.0",
            "_model_name": "HTMLModel",
            "_view_count": null,
            "_view_module": "@jupyter-widgets/controls",
            "_view_module_version": "1.5.0",
            "_view_name": "HTMLView",
            "description": "",
            "description_tooltip": null,
            "layout": "IPY_MODEL_a929d85fe27049e286793020ae63325b",
            "placeholder": "​",
            "style": "IPY_MODEL_4a7945b9db0a494a98a82e37c0f31973",
            "value": " 15/15 [07:02&lt;00:00, 27.76s/it]"
          }
        },
        "89ebfc0783454bc9b4b4503b8ecf1697": {
          "model_module": "@jupyter-widgets/base",
          "model_name": "LayoutModel",
          "model_module_version": "1.2.0",
          "state": {
            "_model_module": "@jupyter-widgets/base",
            "_model_module_version": "1.2.0",
            "_model_name": "LayoutModel",
            "_view_count": null,
            "_view_module": "@jupyter-widgets/base",
            "_view_module_version": "1.2.0",
            "_view_name": "LayoutView",
            "align_content": null,
            "align_items": null,
            "align_self": null,
            "border": null,
            "bottom": null,
            "display": null,
            "flex": null,
            "flex_flow": null,
            "grid_area": null,
            "grid_auto_columns": null,
            "grid_auto_flow": null,
            "grid_auto_rows": null,
            "grid_column": null,
            "grid_gap": null,
            "grid_row": null,
            "grid_template_areas": null,
            "grid_template_columns": null,
            "grid_template_rows": null,
            "height": null,
            "justify_content": null,
            "justify_items": null,
            "left": null,
            "margin": null,
            "max_height": null,
            "max_width": null,
            "min_height": null,
            "min_width": null,
            "object_fit": null,
            "object_position": null,
            "order": null,
            "overflow": null,
            "overflow_x": null,
            "overflow_y": null,
            "padding": null,
            "right": null,
            "top": null,
            "visibility": null,
            "width": null
          }
        },
        "c0e639c6b0164b9496cf919ecaa17172": {
          "model_module": "@jupyter-widgets/base",
          "model_name": "LayoutModel",
          "model_module_version": "1.2.0",
          "state": {
            "_model_module": "@jupyter-widgets/base",
            "_model_module_version": "1.2.0",
            "_model_name": "LayoutModel",
            "_view_count": null,
            "_view_module": "@jupyter-widgets/base",
            "_view_module_version": "1.2.0",
            "_view_name": "LayoutView",
            "align_content": null,
            "align_items": null,
            "align_self": null,
            "border": null,
            "bottom": null,
            "display": null,
            "flex": null,
            "flex_flow": null,
            "grid_area": null,
            "grid_auto_columns": null,
            "grid_auto_flow": null,
            "grid_auto_rows": null,
            "grid_column": null,
            "grid_gap": null,
            "grid_row": null,
            "grid_template_areas": null,
            "grid_template_columns": null,
            "grid_template_rows": null,
            "height": null,
            "justify_content": null,
            "justify_items": null,
            "left": null,
            "margin": null,
            "max_height": null,
            "max_width": null,
            "min_height": null,
            "min_width": null,
            "object_fit": null,
            "object_position": null,
            "order": null,
            "overflow": null,
            "overflow_x": null,
            "overflow_y": null,
            "padding": null,
            "right": null,
            "top": null,
            "visibility": null,
            "width": null
          }
        },
        "cd0020c77ef24c1d90db17f48b316304": {
          "model_module": "@jupyter-widgets/controls",
          "model_name": "DescriptionStyleModel",
          "model_module_version": "1.5.0",
          "state": {
            "_model_module": "@jupyter-widgets/controls",
            "_model_module_version": "1.5.0",
            "_model_name": "DescriptionStyleModel",
            "_view_count": null,
            "_view_module": "@jupyter-widgets/base",
            "_view_module_version": "1.2.0",
            "_view_name": "StyleView",
            "description_width": ""
          }
        },
        "482edbc9fe614d2e897deeefbaba5f35": {
          "model_module": "@jupyter-widgets/base",
          "model_name": "LayoutModel",
          "model_module_version": "1.2.0",
          "state": {
            "_model_module": "@jupyter-widgets/base",
            "_model_module_version": "1.2.0",
            "_model_name": "LayoutModel",
            "_view_count": null,
            "_view_module": "@jupyter-widgets/base",
            "_view_module_version": "1.2.0",
            "_view_name": "LayoutView",
            "align_content": null,
            "align_items": null,
            "align_self": null,
            "border": null,
            "bottom": null,
            "display": null,
            "flex": null,
            "flex_flow": null,
            "grid_area": null,
            "grid_auto_columns": null,
            "grid_auto_flow": null,
            "grid_auto_rows": null,
            "grid_column": null,
            "grid_gap": null,
            "grid_row": null,
            "grid_template_areas": null,
            "grid_template_columns": null,
            "grid_template_rows": null,
            "height": null,
            "justify_content": null,
            "justify_items": null,
            "left": null,
            "margin": null,
            "max_height": null,
            "max_width": null,
            "min_height": null,
            "min_width": null,
            "object_fit": null,
            "object_position": null,
            "order": null,
            "overflow": null,
            "overflow_x": null,
            "overflow_y": null,
            "padding": null,
            "right": null,
            "top": null,
            "visibility": null,
            "width": null
          }
        },
        "c209f7867f244989ba31f644c5fac7e4": {
          "model_module": "@jupyter-widgets/controls",
          "model_name": "ProgressStyleModel",
          "model_module_version": "1.5.0",
          "state": {
            "_model_module": "@jupyter-widgets/controls",
            "_model_module_version": "1.5.0",
            "_model_name": "ProgressStyleModel",
            "_view_count": null,
            "_view_module": "@jupyter-widgets/base",
            "_view_module_version": "1.2.0",
            "_view_name": "StyleView",
            "bar_color": null,
            "description_width": ""
          }
        },
        "a929d85fe27049e286793020ae63325b": {
          "model_module": "@jupyter-widgets/base",
          "model_name": "LayoutModel",
          "model_module_version": "1.2.0",
          "state": {
            "_model_module": "@jupyter-widgets/base",
            "_model_module_version": "1.2.0",
            "_model_name": "LayoutModel",
            "_view_count": null,
            "_view_module": "@jupyter-widgets/base",
            "_view_module_version": "1.2.0",
            "_view_name": "LayoutView",
            "align_content": null,
            "align_items": null,
            "align_self": null,
            "border": null,
            "bottom": null,
            "display": null,
            "flex": null,
            "flex_flow": null,
            "grid_area": null,
            "grid_auto_columns": null,
            "grid_auto_flow": null,
            "grid_auto_rows": null,
            "grid_column": null,
            "grid_gap": null,
            "grid_row": null,
            "grid_template_areas": null,
            "grid_template_columns": null,
            "grid_template_rows": null,
            "height": null,
            "justify_content": null,
            "justify_items": null,
            "left": null,
            "margin": null,
            "max_height": null,
            "max_width": null,
            "min_height": null,
            "min_width": null,
            "object_fit": null,
            "object_position": null,
            "order": null,
            "overflow": null,
            "overflow_x": null,
            "overflow_y": null,
            "padding": null,
            "right": null,
            "top": null,
            "visibility": null,
            "width": null
          }
        },
        "4a7945b9db0a494a98a82e37c0f31973": {
          "model_module": "@jupyter-widgets/controls",
          "model_name": "DescriptionStyleModel",
          "model_module_version": "1.5.0",
          "state": {
            "_model_module": "@jupyter-widgets/controls",
            "_model_module_version": "1.5.0",
            "_model_name": "DescriptionStyleModel",
            "_view_count": null,
            "_view_module": "@jupyter-widgets/base",
            "_view_module_version": "1.2.0",
            "_view_name": "StyleView",
            "description_width": ""
          }
        }
      }
    },
    "accelerator": "GPU"
  },
  "cells": [
    {
      "cell_type": "markdown",
      "metadata": {
        "id": "view-in-github",
        "colab_type": "text"
      },
      "source": [
        "<a href=\"https://colab.research.google.com/github/cerasole/ml4hep/blob/main/GNNs/torch_OrganicMoleculesFormationEnergy_QM9dataset.ipynb\" target=\"_parent\"><img src=\"https://colab.research.google.com/assets/colab-badge.svg\" alt=\"Open In Colab\"/></a>"
      ]
    },
    {
      "cell_type": "markdown",
      "source": [
        "# Graph Neural Networks\n",
        "\n",
        "Graphs are data structures composed of\n",
        "- nodes (or vertices)\n",
        "- edges (or archs, connections)\n",
        "\n",
        "A graph is used to model pairwise relations (edges) between objects (nodes).\n",
        "\n",
        "Examples of graphs can be\n",
        "- accounts in a social network (with friendship connections),\n",
        "- molecular shapes (the connections being the atomic/molecular bounds),\n",
        "- images with cameras with pixels non on a square grid (connections being the network of nearby pixels)\n",
        "- road networks (the connections being the roads among intersections).\n",
        "\n",
        "So, graphs can also be quite irregular data.\n",
        "\n",
        "GNNs are neural networks optimized for working with graphs.\n",
        "\n",
        "===============================================================\n",
        "\n",
        "The preliminary code on graphs is instead in https://pytorch-geometric.readthedocs.io/en/latest/notes/introduction.html\n",
        "\n",
        "The code about the preprocessing, model and training/testing is at\n",
        "https://github.com/pyg-team/pytorch_geometric/blob/master/examples/qm9_nn_conv.py\n",
        "\n",
        "==============================================================="
      ],
      "metadata": {
        "id": "rHCOACXB9-ut"
      }
    },
    {
      "cell_type": "markdown",
      "source": [
        "### Preliminaries: install pytorch-geometric (PyG), other useful packages and import all stuff (made for Colab)"
      ],
      "metadata": {
        "id": "NaRaOBouguKN"
      }
    },
    {
      "cell_type": "code",
      "execution_count": 1,
      "metadata": {
        "colab": {
          "base_uri": "https://localhost:8080/"
        },
        "id": "WC8tvLgG97Jz",
        "outputId": "5673aad6-ecc4-4434-99b1-06001f52003b"
      },
      "outputs": [
        {
          "output_type": "stream",
          "name": "stdout",
          "text": [
            "2.4.0+cu121\n",
            "\u001b[2K     \u001b[90m━━━━━━━━━━━━━━━━━━━━━━━━━━━━━━━━━━━━━━━━\u001b[0m \u001b[32m10.9/10.9 MB\u001b[0m \u001b[31m29.1 MB/s\u001b[0m eta \u001b[36m0:00:00\u001b[0m\n",
            "\u001b[?25h  Installing build dependencies ... \u001b[?25l\u001b[?25hdone\n",
            "  Getting requirements to build wheel ... \u001b[?25l\u001b[?25hdone\n",
            "  Preparing metadata (pyproject.toml) ... \u001b[?25l\u001b[?25hdone\n",
            "  Building wheel for torch-geometric (pyproject.toml) ... \u001b[?25l\u001b[?25hdone\n"
          ]
        }
      ],
      "source": [
        "import os\n",
        "import torch\n",
        "os.environ['TORCH'] = torch.__version__\n",
        "print(torch.__version__)\n",
        "!pip install -q torch-scatter -f https://data.pyg.org/whl/torch-${TORCH}.html\n",
        "!pip install -q git+https://github.com/pyg-team/pytorch_geometric.git"
      ]
    },
    {
      "cell_type": "code",
      "source": [
        "!apt install libgraphviz-dev\n",
        "!pip install pygraphviz"
      ],
      "metadata": {
        "colab": {
          "base_uri": "https://localhost:8080/"
        },
        "id": "pmeFm-yC_qS7",
        "outputId": "a57b8e86-0914-48a0-96ce-62991743be8f"
      },
      "execution_count": 2,
      "outputs": [
        {
          "output_type": "stream",
          "name": "stdout",
          "text": [
            "Reading package lists... Done\n",
            "Building dependency tree... Done\n",
            "Reading state information... Done\n",
            "The following additional packages will be installed:\n",
            "  libgail-common libgail18 libgtk2.0-0 libgtk2.0-bin libgtk2.0-common libgvc6-plugins-gtk\n",
            "  librsvg2-common libxdot4\n",
            "Suggested packages:\n",
            "  gvfs\n",
            "The following NEW packages will be installed:\n",
            "  libgail-common libgail18 libgraphviz-dev libgtk2.0-0 libgtk2.0-bin libgtk2.0-common\n",
            "  libgvc6-plugins-gtk librsvg2-common libxdot4\n",
            "0 upgraded, 9 newly installed, 0 to remove and 49 not upgraded.\n",
            "Need to get 2,434 kB of archives.\n",
            "After this operation, 7,681 kB of additional disk space will be used.\n",
            "Get:1 http://archive.ubuntu.com/ubuntu jammy-updates/main amd64 libgtk2.0-common all 2.24.33-2ubuntu2.1 [125 kB]\n",
            "Get:2 http://archive.ubuntu.com/ubuntu jammy-updates/main amd64 libgtk2.0-0 amd64 2.24.33-2ubuntu2.1 [2,038 kB]\n",
            "Get:3 http://archive.ubuntu.com/ubuntu jammy-updates/main amd64 libgail18 amd64 2.24.33-2ubuntu2.1 [15.9 kB]\n",
            "Get:4 http://archive.ubuntu.com/ubuntu jammy-updates/main amd64 libgail-common amd64 2.24.33-2ubuntu2.1 [132 kB]\n",
            "Get:5 http://archive.ubuntu.com/ubuntu jammy-updates/universe amd64 libxdot4 amd64 2.42.2-6ubuntu0.1 [16.4 kB]\n",
            "Get:6 http://archive.ubuntu.com/ubuntu jammy-updates/universe amd64 libgvc6-plugins-gtk amd64 2.42.2-6ubuntu0.1 [22.5 kB]\n",
            "Get:7 http://archive.ubuntu.com/ubuntu jammy-updates/universe amd64 libgraphviz-dev amd64 2.42.2-6ubuntu0.1 [58.5 kB]\n",
            "Get:8 http://archive.ubuntu.com/ubuntu jammy-updates/main amd64 libgtk2.0-bin amd64 2.24.33-2ubuntu2.1 [7,936 B]\n",
            "Get:9 http://archive.ubuntu.com/ubuntu jammy-updates/main amd64 librsvg2-common amd64 2.52.5+dfsg-3ubuntu0.2 [17.7 kB]\n",
            "Fetched 2,434 kB in 2s (1,590 kB/s)\n",
            "Selecting previously unselected package libgtk2.0-common.\n",
            "(Reading database ... 123595 files and directories currently installed.)\n",
            "Preparing to unpack .../0-libgtk2.0-common_2.24.33-2ubuntu2.1_all.deb ...\n",
            "Unpacking libgtk2.0-common (2.24.33-2ubuntu2.1) ...\n",
            "Selecting previously unselected package libgtk2.0-0:amd64.\n",
            "Preparing to unpack .../1-libgtk2.0-0_2.24.33-2ubuntu2.1_amd64.deb ...\n",
            "Unpacking libgtk2.0-0:amd64 (2.24.33-2ubuntu2.1) ...\n",
            "Selecting previously unselected package libgail18:amd64.\n",
            "Preparing to unpack .../2-libgail18_2.24.33-2ubuntu2.1_amd64.deb ...\n",
            "Unpacking libgail18:amd64 (2.24.33-2ubuntu2.1) ...\n",
            "Selecting previously unselected package libgail-common:amd64.\n",
            "Preparing to unpack .../3-libgail-common_2.24.33-2ubuntu2.1_amd64.deb ...\n",
            "Unpacking libgail-common:amd64 (2.24.33-2ubuntu2.1) ...\n",
            "Selecting previously unselected package libxdot4:amd64.\n",
            "Preparing to unpack .../4-libxdot4_2.42.2-6ubuntu0.1_amd64.deb ...\n",
            "Unpacking libxdot4:amd64 (2.42.2-6ubuntu0.1) ...\n",
            "Selecting previously unselected package libgvc6-plugins-gtk.\n",
            "Preparing to unpack .../5-libgvc6-plugins-gtk_2.42.2-6ubuntu0.1_amd64.deb ...\n",
            "Unpacking libgvc6-plugins-gtk (2.42.2-6ubuntu0.1) ...\n",
            "Selecting previously unselected package libgraphviz-dev:amd64.\n",
            "Preparing to unpack .../6-libgraphviz-dev_2.42.2-6ubuntu0.1_amd64.deb ...\n",
            "Unpacking libgraphviz-dev:amd64 (2.42.2-6ubuntu0.1) ...\n",
            "Selecting previously unselected package libgtk2.0-bin.\n",
            "Preparing to unpack .../7-libgtk2.0-bin_2.24.33-2ubuntu2.1_amd64.deb ...\n",
            "Unpacking libgtk2.0-bin (2.24.33-2ubuntu2.1) ...\n",
            "Selecting previously unselected package librsvg2-common:amd64.\n",
            "Preparing to unpack .../8-librsvg2-common_2.52.5+dfsg-3ubuntu0.2_amd64.deb ...\n",
            "Unpacking librsvg2-common:amd64 (2.52.5+dfsg-3ubuntu0.2) ...\n",
            "Setting up libxdot4:amd64 (2.42.2-6ubuntu0.1) ...\n",
            "Setting up librsvg2-common:amd64 (2.52.5+dfsg-3ubuntu0.2) ...\n",
            "Setting up libgtk2.0-common (2.24.33-2ubuntu2.1) ...\n",
            "Setting up libgtk2.0-0:amd64 (2.24.33-2ubuntu2.1) ...\n",
            "Setting up libgvc6-plugins-gtk (2.42.2-6ubuntu0.1) ...\n",
            "Setting up libgail18:amd64 (2.24.33-2ubuntu2.1) ...\n",
            "Setting up libgtk2.0-bin (2.24.33-2ubuntu2.1) ...\n",
            "Setting up libgail-common:amd64 (2.24.33-2ubuntu2.1) ...\n",
            "Setting up libgraphviz-dev:amd64 (2.42.2-6ubuntu0.1) ...\n",
            "Processing triggers for libc-bin (2.35-0ubuntu3.4) ...\n",
            "/sbin/ldconfig.real: /usr/local/lib/libtbb.so.12 is not a symbolic link\n",
            "\n",
            "/sbin/ldconfig.real: /usr/local/lib/libtbbmalloc.so.2 is not a symbolic link\n",
            "\n",
            "/sbin/ldconfig.real: /usr/local/lib/libtbbbind_2_0.so.3 is not a symbolic link\n",
            "\n",
            "/sbin/ldconfig.real: /usr/local/lib/libtbbmalloc_proxy.so.2 is not a symbolic link\n",
            "\n",
            "/sbin/ldconfig.real: /usr/local/lib/libur_adapter_opencl.so.0 is not a symbolic link\n",
            "\n",
            "/sbin/ldconfig.real: /usr/local/lib/libtbbbind_2_5.so.3 is not a symbolic link\n",
            "\n",
            "/sbin/ldconfig.real: /usr/local/lib/libur_adapter_level_zero.so.0 is not a symbolic link\n",
            "\n",
            "/sbin/ldconfig.real: /usr/local/lib/libur_loader.so.0 is not a symbolic link\n",
            "\n",
            "/sbin/ldconfig.real: /usr/local/lib/libtbbbind.so.3 is not a symbolic link\n",
            "\n",
            "Processing triggers for man-db (2.10.2-1) ...\n",
            "Processing triggers for libgdk-pixbuf-2.0-0:amd64 (2.42.8+dfsg-1ubuntu0.3) ...\n",
            "Collecting pygraphviz\n",
            "  Downloading pygraphviz-1.13.tar.gz (104 kB)\n",
            "\u001b[2K     \u001b[90m━━━━━━━━━━━━━━━━━━━━━━━━━━━━━━━━━━━━━━━━\u001b[0m \u001b[32m104.6/104.6 kB\u001b[0m \u001b[31m3.7 MB/s\u001b[0m eta \u001b[36m0:00:00\u001b[0m\n",
            "\u001b[?25h  Installing build dependencies ... \u001b[?25l\u001b[?25hdone\n",
            "  Getting requirements to build wheel ... \u001b[?25l\u001b[?25hdone\n",
            "  Preparing metadata (pyproject.toml) ... \u001b[?25l\u001b[?25hdone\n",
            "Building wheels for collected packages: pygraphviz\n",
            "  Building wheel for pygraphviz (pyproject.toml) ... \u001b[?25l\u001b[?25hdone\n",
            "  Created wheel for pygraphviz: filename=pygraphviz-1.13-cp310-cp310-linux_x86_64.whl size=168500 sha256=357ffd178748ddffadb474e9b14cff1a1070106d0184de42123ea4ee305bc7b9\n",
            "  Stored in directory: /root/.cache/pip/wheels/c5/96/10/6c25add1fffc368b1927252bf73b63fcb938de8f4486e23691\n",
            "Successfully built pygraphviz\n",
            "Installing collected packages: pygraphviz\n",
            "Successfully installed pygraphviz-1.13\n"
          ]
        }
      ]
    },
    {
      "cell_type": "code",
      "source": [
        "import pathlib\n",
        "\n",
        "import torch\n",
        "import torch.nn.functional as F\n",
        "from torch.nn import Linear, ReLU, Sequential\n",
        "import networkx as nx\n",
        "\n",
        "import torch_geometric\n",
        "import torch_geometric.transforms as T\n",
        "from torch_geometric.datasets import QM9\n",
        "from torch_geometric.loader import DataLoader\n",
        "from torch_geometric.nn import NNConv, Set2Set, GCNConv\n",
        "from torch_geometric.utils import remove_self_loops, to_networkx\n",
        "\n",
        "import matplotlib.pyplot as plt\n",
        "from IPython.display import Image\n",
        "from tqdm.auto import trange"
      ],
      "metadata": {
        "id": "LIJjlmkj_wrd"
      },
      "execution_count": 3,
      "outputs": []
    },
    {
      "cell_type": "markdown",
      "source": [
        "## Raw QM9 dataset download"
      ],
      "metadata": {
        "id": "PbVQgzIQinUu"
      }
    },
    {
      "cell_type": "code",
      "source": [
        "dataset_path = pathlib.Path('data', 'QM9')\n",
        "dataset_path"
      ],
      "metadata": {
        "colab": {
          "base_uri": "https://localhost:8080/"
        },
        "id": "m0ovIKDp_59x",
        "outputId": "ed766060-4819-4010-890d-339179eb3ec4"
      },
      "execution_count": 7,
      "outputs": [
        {
          "output_type": "execute_result",
          "data": {
            "text/plain": [
              "PosixPath('data/QM9')"
            ]
          },
          "metadata": {},
          "execution_count": 7
        }
      ]
    },
    {
      "cell_type": "code",
      "source": [
        "raw_dataset = QM9(dataset_path)"
      ],
      "metadata": {
        "id": "g9WGxne9AKq3"
      },
      "execution_count": null,
      "outputs": []
    },
    {
      "cell_type": "code",
      "source": [
        "raw_dataset, raw_dataset[0]"
      ],
      "metadata": {
        "colab": {
          "base_uri": "https://localhost:8080/"
        },
        "id": "oFS_lT5GArR2",
        "outputId": "86007cc3-2b78-4473-eb62-c1981ec64f2b"
      },
      "execution_count": null,
      "outputs": [
        {
          "output_type": "execute_result",
          "data": {
            "text/plain": [
              "(QM9(130831),\n",
              " Data(x=[5, 11], edge_index=[2, 8], edge_attr=[8, 4], y=[1, 19], pos=[5, 3], idx=[1], name='gdb_1', z=[5]))"
            ]
          },
          "metadata": {},
          "execution_count": 54
        }
      ]
    },
    {
      "cell_type": "code",
      "source": [
        "type(raw_dataset)"
      ],
      "metadata": {
        "colab": {
          "base_uri": "https://localhost:8080/",
          "height": 204
        },
        "id": "SArKUQ-fAylX",
        "outputId": "495dcd5c-3bf8-48ae-e1c0-2d83e43cfd4a"
      },
      "execution_count": null,
      "outputs": [
        {
          "output_type": "execute_result",
          "data": {
            "text/plain": [
              "torch_geometric.datasets.qm9.QM9"
            ],
            "text/html": [
              "<div style=\"max-width:800px; border: 1px solid var(--colab-border-color);\"><style>\n",
              "      pre.function-repr-contents {\n",
              "        overflow-x: auto;\n",
              "        padding: 8px 12px;\n",
              "        max-height: 500px;\n",
              "      }\n",
              "\n",
              "      pre.function-repr-contents.function-repr-contents-collapsed {\n",
              "        cursor: pointer;\n",
              "        max-height: 100px;\n",
              "      }\n",
              "    </style>\n",
              "    <pre style=\"white-space: initial; background:\n",
              "         var(--colab-secondary-surface-color); padding: 8px 12px;\n",
              "         border-bottom: 1px solid var(--colab-border-color);\"><b>torch_geometric.datasets.qm9.QM9</b><br/>def __init__(root: str, transform: Optional[Callable]=None, pre_transform: Optional[Callable]=None, pre_filter: Optional[Callable]=None, force_reload: bool=False) -&gt; None</pre><pre class=\"function-repr-contents function-repr-contents-collapsed\" style=\"\"><a class=\"filepath\" style=\"display:none\" href=\"#\">/usr/local/lib/python3.10/dist-packages/torch_geometric/datasets/qm9.py</a>The QM9 dataset from the `&quot;MoleculeNet: A Benchmark for Molecular\n",
              "Machine Learning&quot; &lt;https://arxiv.org/abs/1703.00564&gt;`_ paper, consisting of\n",
              "about 130,000 molecules with 19 regression targets.\n",
              "Each molecule includes complete spatial information for the single low\n",
              "energy conformation of the atoms in the molecule.\n",
              "In addition, we provide the atom features from the `&quot;Neural Message\n",
              "Passing for Quantum Chemistry&quot; &lt;https://arxiv.org/abs/1704.01212&gt;`_ paper.\n",
              "\n",
              "+--------+----------------------------------+-----------------------------------------------------------------------------------+---------------------------------------------+\n",
              "| Target | Property                         | Description                                                                       | Unit                                        |\n",
              "+========+==================================+===================================================================================+=============================================+\n",
              "| 0      | :math:`\\mu`                      | Dipole moment                                                                     | :math:`\\textrm{D}`                          |\n",
              "+--------+----------------------------------+-----------------------------------------------------------------------------------+---------------------------------------------+\n",
              "| 1      | :math:`\\alpha`                   | Isotropic polarizability                                                          | :math:`{a_0}^3`                             |\n",
              "+--------+----------------------------------+-----------------------------------------------------------------------------------+---------------------------------------------+\n",
              "| 2      | :math:`\\epsilon_{\\textrm{HOMO}}` | Highest occupied molecular orbital energy                                         | :math:`\\textrm{eV}`                         |\n",
              "+--------+----------------------------------+-----------------------------------------------------------------------------------+---------------------------------------------+\n",
              "| 3      | :math:`\\epsilon_{\\textrm{LUMO}}` | Lowest unoccupied molecular orbital energy                                        | :math:`\\textrm{eV}`                         |\n",
              "+--------+----------------------------------+-----------------------------------------------------------------------------------+---------------------------------------------+\n",
              "| 4      | :math:`\\Delta \\epsilon`          | Gap between :math:`\\epsilon_{\\textrm{HOMO}}` and :math:`\\epsilon_{\\textrm{LUMO}}` | :math:`\\textrm{eV}`                         |\n",
              "+--------+----------------------------------+-----------------------------------------------------------------------------------+---------------------------------------------+\n",
              "| 5      | :math:`\\langle R^2 \\rangle`      | Electronic spatial extent                                                         | :math:`{a_0}^2`                             |\n",
              "+--------+----------------------------------+-----------------------------------------------------------------------------------+---------------------------------------------+\n",
              "| 6      | :math:`\\textrm{ZPVE}`            | Zero point vibrational energy                                                     | :math:`\\textrm{eV}`                         |\n",
              "+--------+----------------------------------+-----------------------------------------------------------------------------------+---------------------------------------------+\n",
              "| 7      | :math:`U_0`                      | Internal energy at 0K                                                             | :math:`\\textrm{eV}`                         |\n",
              "+--------+----------------------------------+-----------------------------------------------------------------------------------+---------------------------------------------+\n",
              "| 8      | :math:`U`                        | Internal energy at 298.15K                                                        | :math:`\\textrm{eV}`                         |\n",
              "+--------+----------------------------------+-----------------------------------------------------------------------------------+---------------------------------------------+\n",
              "| 9      | :math:`H`                        | Enthalpy at 298.15K                                                               | :math:`\\textrm{eV}`                         |\n",
              "+--------+----------------------------------+-----------------------------------------------------------------------------------+---------------------------------------------+\n",
              "| 10     | :math:`G`                        | Free energy at 298.15K                                                            | :math:`\\textrm{eV}`                         |\n",
              "+--------+----------------------------------+-----------------------------------------------------------------------------------+---------------------------------------------+\n",
              "| 11     | :math:`c_{\\textrm{v}}`           | Heat capavity at 298.15K                                                          | :math:`\\frac{\\textrm{cal}}{\\textrm{mol K}}` |\n",
              "+--------+----------------------------------+-----------------------------------------------------------------------------------+---------------------------------------------+\n",
              "| 12     | :math:`U_0^{\\textrm{ATOM}}`      | Atomization energy at 0K                                                          | :math:`\\textrm{eV}`                         |\n",
              "+--------+----------------------------------+-----------------------------------------------------------------------------------+---------------------------------------------+\n",
              "| 13     | :math:`U^{\\textrm{ATOM}}`        | Atomization energy at 298.15K                                                     | :math:`\\textrm{eV}`                         |\n",
              "+--------+----------------------------------+-----------------------------------------------------------------------------------+---------------------------------------------+\n",
              "| 14     | :math:`H^{\\textrm{ATOM}}`        | Atomization enthalpy at 298.15K                                                   | :math:`\\textrm{eV}`                         |\n",
              "+--------+----------------------------------+-----------------------------------------------------------------------------------+---------------------------------------------+\n",
              "| 15     | :math:`G^{\\textrm{ATOM}}`        | Atomization free energy at 298.15K                                                | :math:`\\textrm{eV}`                         |\n",
              "+--------+----------------------------------+-----------------------------------------------------------------------------------+---------------------------------------------+\n",
              "| 16     | :math:`A`                        | Rotational constant                                                               | :math:`\\textrm{GHz}`                        |\n",
              "+--------+----------------------------------+-----------------------------------------------------------------------------------+---------------------------------------------+\n",
              "| 17     | :math:`B`                        | Rotational constant                                                               | :math:`\\textrm{GHz}`                        |\n",
              "+--------+----------------------------------+-----------------------------------------------------------------------------------+---------------------------------------------+\n",
              "| 18     | :math:`C`                        | Rotational constant                                                               | :math:`\\textrm{GHz}`                        |\n",
              "+--------+----------------------------------+-----------------------------------------------------------------------------------+---------------------------------------------+\n",
              "\n",
              ".. note::\n",
              "\n",
              "    We also provide a pre-processed version of the dataset in case\n",
              "    :class:`rdkit` is not installed. The pre-processed version matches with\n",
              "    the manually processed version as outlined in :meth:`process`.\n",
              "\n",
              "Args:\n",
              "    root (str): Root directory where the dataset should be saved.\n",
              "    transform (callable, optional): A function/transform that takes in an\n",
              "        :obj:`torch_geometric.data.Data` object and returns a transformed\n",
              "        version. The data object will be transformed before every access.\n",
              "        (default: :obj:`None`)\n",
              "    pre_transform (callable, optional): A function/transform that takes in\n",
              "        an :obj:`torch_geometric.data.Data` object and returns a\n",
              "        transformed version. The data object will be transformed before\n",
              "        being saved to disk. (default: :obj:`None`)\n",
              "    pre_filter (callable, optional): A function that takes in an\n",
              "        :obj:`torch_geometric.data.Data` object and returns a boolean\n",
              "        value, indicating whether the data object should be included in the\n",
              "        final dataset. (default: :obj:`None`)\n",
              "    force_reload (bool, optional): Whether to re-process the dataset.\n",
              "        (default: :obj:`False`)\n",
              "\n",
              "**STATS:**\n",
              "\n",
              ".. list-table::\n",
              "    :widths: 10 10 10 10 10\n",
              "    :header-rows: 1\n",
              "\n",
              "    * - #graphs\n",
              "      - #nodes\n",
              "      - #edges\n",
              "      - #features\n",
              "      - #tasks\n",
              "    * - 130,831\n",
              "      - ~18.0\n",
              "      - ~37.3\n",
              "      - 11\n",
              "      - 19</pre>\n",
              "      <script>\n",
              "      if (google.colab.kernel.accessAllowed && google.colab.files && google.colab.files.view) {\n",
              "        for (const element of document.querySelectorAll('.filepath')) {\n",
              "          element.style.display = 'block'\n",
              "          element.onclick = (event) => {\n",
              "            event.preventDefault();\n",
              "            event.stopPropagation();\n",
              "            google.colab.files.view(element.textContent, 49);\n",
              "          };\n",
              "        }\n",
              "      }\n",
              "      for (const element of document.querySelectorAll('.function-repr-contents')) {\n",
              "        element.onclick = (event) => {\n",
              "          event.preventDefault();\n",
              "          event.stopPropagation();\n",
              "          element.classList.toggle('function-repr-contents-collapsed');\n",
              "        };\n",
              "      }\n",
              "      </script>\n",
              "      </div>"
            ]
          },
          "metadata": {},
          "execution_count": 14
        }
      ]
    },
    {
      "cell_type": "markdown",
      "source": [
        "## First exploration of graphs in PyG"
      ],
      "metadata": {
        "id": "Yw0b8ELPiwwL"
      }
    },
    {
      "cell_type": "code",
      "source": [
        "def draw_graph(graph: torch_geometric.data.data.Data) -> Image:\n",
        "    \"\"\"\n",
        "    Plots a molecule from QM9 dataset. Node labels are atomic numbers.\n",
        "    Edge lengths and node positions are arbitrary.\n",
        "    \"\"\"\n",
        "    graph_nx = to_networkx(graph,\n",
        "                           to_undirected=True)\n",
        "    graph_graphviz = nx.nx_agraph.to_agraph(graph_nx)\n",
        "    for node, type_ in zip(graph_graphviz.iternodes(), graph.z.detach().numpy()):\n",
        "        node.attr['label'] = str(type_)\n",
        "    return Image(graph_graphviz.draw(format='png', prog=\"neato\"))\n",
        "\n",
        "draw_graph(raw_dataset[0])  ### The number in the graph is the atomic number!!!"
      ],
      "metadata": {
        "colab": {
          "base_uri": "https://localhost:8080/",
          "height": 253
        },
        "id": "kFjVBb6sA8iR",
        "outputId": "f9caf161-b3da-4368-9582-c36e19c8fc06"
      },
      "execution_count": null,
      "outputs": [
        {
          "output_type": "execute_result",
          "data": {
            "image/png": "[encoded data removed]",
            "text/plain": [
              "<IPython.core.display.Image object>"
            ]
          },
          "metadata": {},
          "execution_count": 17
        }
      ]
    },
    {
      "cell_type": "code",
      "source": [
        "draw_graph(raw_dataset[1]) ### The number in the graph is the atomic number!!!"
      ],
      "metadata": {
        "colab": {
          "base_uri": "https://localhost:8080/",
          "height": 251
        },
        "id": "Bycmvly5BHhz",
        "outputId": "4e85cc5a-485f-4cd9-c566-61395b114c07"
      },
      "execution_count": null,
      "outputs": [
        {
          "output_type": "execute_result",
          "data": {
            "image/png": "[encoded data removed]",
            "text/plain": [
              "<IPython.core.display.Image object>"
            ]
          },
          "metadata": {},
          "execution_count": 18
        }
      ]
    },
    {
      "cell_type": "code",
      "source": [
        "draw_graph(raw_dataset[10000])"
      ],
      "metadata": {
        "colab": {
          "base_uri": "https://localhost:8080/",
          "height": 563
        },
        "id": "Rn0Fa02eBLaL",
        "outputId": "2c5bd84d-a65e-482d-ea88-31bfe15e08d6"
      },
      "execution_count": null,
      "outputs": [
        {
          "output_type": "execute_result",
          "data": {
            "image/png": "[encoded data removed]",
            "text/plain": [
              "<IPython.core.display.Image object>"
            ]
          },
          "metadata": {},
          "execution_count": 19
        }
      ]
    },
    {
      "cell_type": "code",
      "source": [
        "raw_dataset.y  # the features!"
      ],
      "metadata": {
        "colab": {
          "base_uri": "https://localhost:8080/"
        },
        "id": "yfGqpztXBYM_",
        "outputId": "fcf61fc2-4ae8-4688-d897-fc52712f80db"
      },
      "execution_count": null,
      "outputs": [
        {
          "output_type": "execute_result",
          "data": {
            "text/plain": [
              "tensor([[  0.0000,  13.2100, -10.5499,  ..., 157.7118, 157.7100, 157.7070],\n",
              "        [  1.6256,   9.4600,  -6.9933,  ..., 293.6097, 293.5411, 191.3940],\n",
              "        [  1.8511,   6.3100,  -7.9675,  ..., 799.5881, 437.9039, 282.9455],\n",
              "        ...,\n",
              "        [  1.2480,  73.6000,  -6.0763,  ...,   3.6712,   2.1431,   1.8950],\n",
              "        [  1.9576,  77.4000,  -5.7743,  ...,   3.5285,   2.1513,   1.8658],\n",
              "        [  0.8626,  69.4800,  -6.3022,  ...,   3.6402,   2.2176,   1.9379]])"
            ]
          },
          "metadata": {},
          "execution_count": 20
        }
      ]
    },
    {
      "cell_type": "code",
      "source": [
        "raw_dataset.y[:,7]  # formation energy"
      ],
      "metadata": {
        "colab": {
          "base_uri": "https://localhost:8080/"
        },
        "id": "3FaZujvkBdkZ",
        "outputId": "94ac834f-2ba1-47d8-b1ef-72d760eb34f1"
      },
      "execution_count": null,
      "outputs": [
        {
          "output_type": "execute_result",
          "data": {
            "text/plain": [
              "tensor([ -1101.4878,  -1538.1477,  -2079.0779,  ..., -10360.8418,\n",
              "         -9924.5469, -10901.7803])"
            ]
          },
          "metadata": {},
          "execution_count": 21
        }
      ]
    },
    {
      "cell_type": "code",
      "source": [
        "draw_graph(raw_dataset[0])  ### The number in the graph is the atomic number!!!"
      ],
      "metadata": {
        "colab": {
          "base_uri": "https://localhost:8080/",
          "height": 253
        },
        "id": "wgbK8SSIB_Hs",
        "outputId": "c5c9897e-af24-423f-b0d4-911375cfbb69"
      },
      "execution_count": null,
      "outputs": [
        {
          "output_type": "execute_result",
          "data": {
            "image/png": "[encoded data removed]",
            "text/plain": [
              "<IPython.core.display.Image object>"
            ]
          },
          "metadata": {},
          "execution_count": 23
        }
      ]
    },
    {
      "cell_type": "code",
      "source": [
        "draw_graph(raw_dataset[10])"
      ],
      "metadata": {
        "colab": {
          "base_uri": "https://localhost:8080/",
          "height": 290
        },
        "id": "9ZKqUC_6iPW8",
        "outputId": "6e24c166-560d-45ff-d625-e226d1ab5634"
      },
      "execution_count": null,
      "outputs": [
        {
          "output_type": "execute_result",
          "data": {
            "image/png": "[encoded data removed]",
            "text/plain": [
              "<IPython.core.display.Image object>"
            ]
          },
          "metadata": {},
          "execution_count": 158
        }
      ]
    },
    {
      "cell_type": "code",
      "source": [
        "raw_dataset[10].edge_index   ### THIS ATTRIBUTE STATES THE CONNECTIVITY OF THE GRAPH\n",
        "\n",
        "# Nodes are ordered per decreasing number of connections:\n",
        "# - the node \"6\" on the right has 4 connections and it is labeled as 0\n",
        "# - the node \"6\" on the left has 3 connections and it is labeled as 1\n",
        "# - the three \"1\" nodes on the right connected to node 0 are labeled as 3, 4, 5\n",
        "# - the remaining 2 are labeled as 2 and 6.\n",
        "\n",
        "# In this graph, there are 7 nodes and 6*2=12 connections (they are counted in both directions)."
      ],
      "metadata": {
        "colab": {
          "base_uri": "https://localhost:8080/"
        },
        "id": "KOAADdUXhgeg",
        "outputId": "c3633b85-c538-4601-e90a-eae0b78994dc"
      },
      "execution_count": null,
      "outputs": [
        {
          "output_type": "execute_result",
          "data": {
            "text/plain": [
              "tensor([[0, 0, 0, 0, 1, 1, 1, 2, 3, 4, 5, 6],\n",
              "        [1, 3, 4, 5, 0, 2, 6, 1, 0, 0, 0, 1]])"
            ]
          },
          "metadata": {},
          "execution_count": 152
        }
      ]
    },
    {
      "cell_type": "code",
      "source": [
        "#\n",
        "raw_dataset[10].x  ### The nodes of this graph are 7 and have 11 features in total"
      ],
      "metadata": {
        "colab": {
          "base_uri": "https://localhost:8080/"
        },
        "id": "KsFgILLdCOSu",
        "outputId": "80cf0348-54d6-46c8-e845-6d3cf32c2694"
      },
      "execution_count": null,
      "outputs": [
        {
          "output_type": "execute_result",
          "data": {
            "text/plain": [
              "tensor([[0., 1., 0., 0., 0., 6., 0., 0., 0., 0., 3.],\n",
              "        [0., 1., 0., 0., 0., 6., 0., 0., 0., 0., 1.],\n",
              "        [0., 0., 0., 1., 0., 8., 0., 0., 0., 0., 0.],\n",
              "        [1., 0., 0., 0., 0., 1., 0., 0., 0., 0., 0.],\n",
              "        [1., 0., 0., 0., 0., 1., 0., 0., 0., 0., 0.],\n",
              "        [1., 0., 0., 0., 0., 1., 0., 0., 0., 0., 0.],\n",
              "        [1., 0., 0., 0., 0., 1., 0., 0., 0., 0., 0.]])"
            ]
          },
          "metadata": {},
          "execution_count": 151
        }
      ]
    },
    {
      "cell_type": "code",
      "source": [
        "#\n",
        "raw_dataset[10].edge_attr  ### The edges (connections) of this graph are 12 and have 4 features"
      ],
      "metadata": {
        "colab": {
          "base_uri": "https://localhost:8080/"
        },
        "id": "tLhOc1aFhro5",
        "outputId": "26e81f6d-535e-4a33-c261-5f1bb4d9cc67"
      },
      "execution_count": null,
      "outputs": [
        {
          "output_type": "execute_result",
          "data": {
            "text/plain": [
              "tensor([[1., 0., 0., 0.],\n",
              "        [1., 0., 0., 0.],\n",
              "        [1., 0., 0., 0.],\n",
              "        [1., 0., 0., 0.],\n",
              "        [1., 0., 0., 0.],\n",
              "        [0., 1., 0., 0.],\n",
              "        [1., 0., 0., 0.],\n",
              "        [0., 1., 0., 0.],\n",
              "        [1., 0., 0., 0.],\n",
              "        [1., 0., 0., 0.],\n",
              "        [1., 0., 0., 0.],\n",
              "        [1., 0., 0., 0.]])"
            ]
          },
          "metadata": {},
          "execution_count": 153
        }
      ]
    },
    {
      "cell_type": "code",
      "source": [
        "raw_dataset[10].y    ### Targets we want our GNN models become able to predict."
      ],
      "metadata": {
        "id": "iUUWGpSZh3m8"
      },
      "execution_count": null,
      "outputs": []
    },
    {
      "cell_type": "code",
      "source": [
        "raw_dataset[0].y  # targets to train against"
      ],
      "metadata": {
        "colab": {
          "base_uri": "https://localhost:8080/"
        },
        "id": "J7kPbu76Coh-",
        "outputId": "581d7fbd-3674-4415-b1d3-638728de57c9"
      },
      "execution_count": null,
      "outputs": [
        {
          "output_type": "execute_result",
          "data": {
            "text/plain": [
              "tensor([[    0.0000,    13.2100,   -10.5499,     3.1865,    13.7363,    35.3641,\n",
              "             1.2177, -1101.4878, -1101.4098, -1101.3840, -1102.0229,     6.4690,\n",
              "           -17.1722,   -17.2868,   -17.3897,   -16.1519,   157.7118,   157.7100,\n",
              "           157.7070]])"
            ]
          },
          "metadata": {},
          "execution_count": 26
        }
      ]
    },
    {
      "cell_type": "code",
      "source": [
        "raw_dataset[10].pos"
      ],
      "metadata": {
        "colab": {
          "base_uri": "https://localhost:8080/"
        },
        "id": "WO-uwFRiCxac",
        "outputId": "73ae30cc-8dd5-4e11-d902-106514a9fe04"
      },
      "execution_count": null,
      "outputs": [
        {
          "output_type": "execute_result",
          "data": {
            "text/plain": [
              "tensor([[-0.0029,  1.5099,  0.0087],\n",
              "        [ 0.0261,  0.0033, -0.0375],\n",
              "        [ 0.9423, -0.6551, -0.4568],\n",
              "        [ 0.9228,  1.9263, -0.3915],\n",
              "        [-0.8620,  1.8785, -0.5648],\n",
              "        [-0.1505,  1.8439,  1.0429],\n",
              "        [-0.8944, -0.4864,  0.3577]])"
            ]
          },
          "metadata": {},
          "execution_count": 155
        }
      ]
    },
    {
      "cell_type": "code",
      "source": [
        "fig = plt.figure()\n",
        "ax = plt.axes(projection='3d')\n",
        "ax.scatter(*raw_dataset[10].pos.T);"
      ],
      "metadata": {
        "colab": {
          "base_uri": "https://localhost:8080/",
          "height": 417
        },
        "id": "d5huP1b0Dfie",
        "outputId": "63a811ed-7cc7-4c41-fa2f-0fc1e33293da"
      },
      "execution_count": null,
      "outputs": [
        {
          "output_type": "display_data",
          "data": {
            "text/plain": [
              "<Figure size 640x480 with 1 Axes>"
            ],
            "image/png": "[encoded data removed]"
          },
          "metadata": {}
        }
      ]
    },
    {
      "cell_type": "code",
      "source": [
        "raw_dataset[0].z  # --> Atomic number of the atoms : this is CH4"
      ],
      "metadata": {
        "colab": {
          "base_uri": "https://localhost:8080/"
        },
        "id": "63TKBiLzDxmk",
        "outputId": "cea3cb71-0cdb-4096-ac85-f822826bd4c2"
      },
      "execution_count": null,
      "outputs": [
        {
          "output_type": "execute_result",
          "data": {
            "text/plain": [
              "tensor([6, 1, 1, 1, 1])"
            ]
          },
          "metadata": {},
          "execution_count": 29
        }
      ]
    },
    {
      "cell_type": "code",
      "source": [
        "raw_dataset[10].z  # --> Atomic number of the atoms : this is CH4"
      ],
      "metadata": {
        "colab": {
          "base_uri": "https://localhost:8080/"
        },
        "id": "gcoNH9bUiJQp",
        "outputId": "393f0164-8b86-402f-8e5c-9020294492b5"
      },
      "execution_count": null,
      "outputs": [
        {
          "output_type": "execute_result",
          "data": {
            "text/plain": [
              "tensor([6, 6, 8, 1, 1, 1, 1])"
            ]
          },
          "metadata": {},
          "execution_count": 157
        }
      ]
    },
    {
      "cell_type": "markdown",
      "source": [
        "## Processed-QM9 dataset download"
      ],
      "metadata": {
        "id": "77hFWG4rHDgm"
      }
    },
    {
      "cell_type": "markdown",
      "source": [
        "Transformation of the input data.\n",
        " - SelectTarget selects only the desider target column.\n",
        " - Distance appends Euclidean distance between pos vectors to the edge attributes."
      ],
      "metadata": {
        "id": "0tGIdiIajVaU"
      }
    },
    {
      "cell_type": "code",
      "source": [
        "TARGET_Y = 7\n",
        "\n",
        "class SelectTarget(object):\n",
        "    def __init__(self, target_column: int):\n",
        "        self.target_column = target_column\n",
        "\n",
        "    def __call__(self, data: torch.Tensor) -> torch.Tensor:\n",
        "        data.y = data.y[:, self.target_column]\n",
        "        return data\n"
      ],
      "metadata": {
        "id": "s8RU3Cu3Bm46"
      },
      "execution_count": 4,
      "outputs": []
    },
    {
      "cell_type": "code",
      "source": [
        "import torch_geometric.transforms as T\n",
        "transform = T.Compose([SelectTarget(TARGET_Y), T.Distance(norm=False)])"
      ],
      "metadata": {
        "id": "ugdiDT_WEXo8"
      },
      "execution_count": 5,
      "outputs": []
    },
    {
      "cell_type": "code",
      "source": [
        "st = SelectTarget(TARGET_Y)"
      ],
      "metadata": {
        "id": "0Q2STxCLHZGn"
      },
      "execution_count": null,
      "outputs": []
    },
    {
      "cell_type": "code",
      "source": [
        "raw_dataset.y"
      ],
      "metadata": {
        "colab": {
          "base_uri": "https://localhost:8080/"
        },
        "id": "XIa8kdcXIHDV",
        "outputId": "d691288f-9720-44d8-b8b6-ff844561a227"
      },
      "execution_count": null,
      "outputs": [
        {
          "output_type": "execute_result",
          "data": {
            "text/plain": [
              "tensor([ -1101.4878,  -1538.1477,  -2079.0779,  ..., -10360.8418,\n",
              "         -9924.5469, -10901.7803])"
            ]
          },
          "metadata": {},
          "execution_count": 160
        }
      ]
    },
    {
      "cell_type": "code",
      "source": [
        "st(raw_dataset)"
      ],
      "metadata": {
        "colab": {
          "base_uri": "https://localhost:8080/",
          "height": 263
        },
        "id": "KpaGTs1VIpul",
        "outputId": "6b3589cc-549a-4b95-9475-3b20167eea63"
      },
      "execution_count": null,
      "outputs": [
        {
          "output_type": "error",
          "ename": "IndexError",
          "evalue": "too many indices for tensor of dimension 1",
          "traceback": [
            "\u001b[0;31m---------------------------------------------------------------------------\u001b[0m",
            "\u001b[0;31mIndexError\u001b[0m                                Traceback (most recent call last)",
            "\u001b[0;32m<ipython-input-161-dc405a80ac71>\u001b[0m in \u001b[0;36m<cell line: 1>\u001b[0;34m()\u001b[0m\n\u001b[0;32m----> 1\u001b[0;31m \u001b[0mst\u001b[0m\u001b[0;34m(\u001b[0m\u001b[0mraw_dataset\u001b[0m\u001b[0;34m)\u001b[0m\u001b[0;34m\u001b[0m\u001b[0;34m\u001b[0m\u001b[0m\n\u001b[0m",
            "\u001b[0;32m<ipython-input-82-27f3e789f294>\u001b[0m in \u001b[0;36m__call__\u001b[0;34m(self, data)\u001b[0m\n\u001b[1;32m      6\u001b[0m \u001b[0;34m\u001b[0m\u001b[0m\n\u001b[1;32m      7\u001b[0m     \u001b[0;32mdef\u001b[0m \u001b[0m__call__\u001b[0m\u001b[0;34m(\u001b[0m\u001b[0mself\u001b[0m\u001b[0;34m,\u001b[0m \u001b[0mdata\u001b[0m\u001b[0;34m:\u001b[0m \u001b[0mtorch\u001b[0m\u001b[0;34m.\u001b[0m\u001b[0mTensor\u001b[0m\u001b[0;34m)\u001b[0m \u001b[0;34m->\u001b[0m \u001b[0mtorch\u001b[0m\u001b[0;34m.\u001b[0m\u001b[0mTensor\u001b[0m\u001b[0;34m:\u001b[0m\u001b[0;34m\u001b[0m\u001b[0;34m\u001b[0m\u001b[0m\n\u001b[0;32m----> 8\u001b[0;31m         \u001b[0mdata\u001b[0m\u001b[0;34m.\u001b[0m\u001b[0my\u001b[0m \u001b[0;34m=\u001b[0m \u001b[0mdata\u001b[0m\u001b[0;34m.\u001b[0m\u001b[0my\u001b[0m\u001b[0;34m[\u001b[0m\u001b[0;34m:\u001b[0m\u001b[0;34m,\u001b[0m \u001b[0mself\u001b[0m\u001b[0;34m.\u001b[0m\u001b[0mtarget_column\u001b[0m\u001b[0;34m]\u001b[0m\u001b[0;34m\u001b[0m\u001b[0;34m\u001b[0m\u001b[0m\n\u001b[0m\u001b[1;32m      9\u001b[0m         \u001b[0;32mreturn\u001b[0m \u001b[0mdata\u001b[0m\u001b[0;34m\u001b[0m\u001b[0;34m\u001b[0m\u001b[0m\n\u001b[1;32m     10\u001b[0m \u001b[0;34m\u001b[0m\u001b[0m\n",
            "\u001b[0;31mIndexError\u001b[0m: too many indices for tensor of dimension 1"
          ]
        }
      ]
    },
    {
      "cell_type": "code",
      "source": [
        "T.Distance(norm=False)(raw_dataset)"
      ],
      "metadata": {
        "colab": {
          "base_uri": "https://localhost:8080/"
        },
        "id": "_HN_VVBoI6Pb",
        "outputId": "179cdca5-cbcd-4e38-d966-9dc3a44430a0"
      },
      "execution_count": null,
      "outputs": [
        {
          "output_type": "execute_result",
          "data": {
            "text/plain": [
              "QM9(130831)"
            ]
          },
          "metadata": {},
          "execution_count": 135
        }
      ]
    },
    {
      "cell_type": "markdown",
      "source": [
        "Before, we have downloaded the raw dataset, now we download a processed one"
      ],
      "metadata": {
        "id": "W4VyuWIeJa33"
      }
    },
    {
      "cell_type": "code",
      "source": [
        "dataset_path = pathlib.Path('data', 'QM9')\n",
        "dataset_path\n",
        "\n",
        "torch.manual_seed(42)\n",
        "dataset = QM9(dataset_path, transform=transform).shuffle()"
      ],
      "metadata": {
        "id": "mMuzvuSmJWkM",
        "colab": {
          "base_uri": "https://localhost:8080/"
        },
        "outputId": "73ff2d6b-d6b6-4148-8935-5fa69d45a903"
      },
      "execution_count": 8,
      "outputs": [
        {
          "output_type": "stream",
          "name": "stderr",
          "text": [
            "Downloading https://data.pyg.org/datasets/qm9_v3.zip\n",
            "Extracting data/QM9/raw/qm9_v3.zip\n",
            "Processing...\n",
            "Using a pre-processed version of the dataset. Please install 'rdkit' to alternatively process the raw data.\n",
            "Done!\n"
          ]
        }
      ]
    },
    {
      "cell_type": "code",
      "source": [
        "dataset[0].x  # same as before"
      ],
      "metadata": {
        "colab": {
          "base_uri": "https://localhost:8080/"
        },
        "id": "IXbWx7eIjnJQ",
        "outputId": "6282773f-b9a1-4928-fc47-6ca1fc67381b"
      },
      "execution_count": null,
      "outputs": [
        {
          "output_type": "execute_result",
          "data": {
            "text/plain": [
              "tensor([[0., 1., 0., 0., 0., 6., 0., 0., 0., 0., 3.],\n",
              "        [0., 1., 0., 0., 0., 6., 0., 0., 0., 0., 0.],\n",
              "        [0., 1., 0., 0., 0., 6., 0., 0., 0., 0., 2.],\n",
              "        [0., 1., 0., 0., 0., 6., 0., 0., 0., 0., 1.],\n",
              "        [0., 1., 0., 0., 0., 6., 0., 0., 0., 0., 2.],\n",
              "        [0., 1., 0., 0., 0., 6., 0., 0., 0., 0., 1.],\n",
              "        [0., 1., 0., 0., 0., 6., 0., 0., 0., 0., 1.],\n",
              "        [0., 1., 0., 0., 0., 6., 0., 0., 0., 0., 1.],\n",
              "        [0., 1., 0., 0., 0., 6., 0., 0., 0., 0., 1.],\n",
              "        [1., 0., 0., 0., 0., 1., 0., 0., 0., 0., 0.],\n",
              "        [1., 0., 0., 0., 0., 1., 0., 0., 0., 0., 0.],\n",
              "        [1., 0., 0., 0., 0., 1., 0., 0., 0., 0., 0.],\n",
              "        [1., 0., 0., 0., 0., 1., 0., 0., 0., 0., 0.],\n",
              "        [1., 0., 0., 0., 0., 1., 0., 0., 0., 0., 0.],\n",
              "        [1., 0., 0., 0., 0., 1., 0., 0., 0., 0., 0.],\n",
              "        [1., 0., 0., 0., 0., 1., 0., 0., 0., 0., 0.],\n",
              "        [1., 0., 0., 0., 0., 1., 0., 0., 0., 0., 0.],\n",
              "        [1., 0., 0., 0., 0., 1., 0., 0., 0., 0., 0.],\n",
              "        [1., 0., 0., 0., 0., 1., 0., 0., 0., 0., 0.],\n",
              "        [1., 0., 0., 0., 0., 1., 0., 0., 0., 0., 0.],\n",
              "        [1., 0., 0., 0., 0., 1., 0., 0., 0., 0., 0.]])"
            ]
          },
          "metadata": {},
          "execution_count": 165
        }
      ]
    },
    {
      "cell_type": "code",
      "source": [
        "dataset[0].edge_attr  # DIFFERENT THAN BEFORE! NOW, WE HAVE ADDED THE EUCLIDEAN DISTANCE!"
      ],
      "metadata": {
        "colab": {
          "base_uri": "https://localhost:8080/"
        },
        "id": "NVpnHi3Wj6jo",
        "outputId": "1a19c607-6f1e-4f8b-ad86-fc51acbf04ab"
      },
      "execution_count": null,
      "outputs": [
        {
          "output_type": "execute_result",
          "data": {
            "text/plain": [
              "tensor([[1.0000, 0.0000, 0.0000, 0.0000, 1.5076],\n",
              "        [1.0000, 0.0000, 0.0000, 0.0000, 1.0968],\n",
              "        [1.0000, 0.0000, 0.0000, 0.0000, 1.0964],\n",
              "        [1.0000, 0.0000, 0.0000, 0.0000, 1.0950],\n",
              "        [1.0000, 0.0000, 0.0000, 0.0000, 1.5076],\n",
              "        [1.0000, 0.0000, 0.0000, 0.0000, 1.5220],\n",
              "        [1.0000, 0.0000, 0.0000, 0.0000, 1.5075],\n",
              "        [1.0000, 0.0000, 0.0000, 0.0000, 1.5364],\n",
              "        [1.0000, 0.0000, 0.0000, 0.0000, 1.5220],\n",
              "        [1.0000, 0.0000, 0.0000, 0.0000, 1.5561],\n",
              "        [1.0000, 0.0000, 0.0000, 0.0000, 1.0952],\n",
              "        [1.0000, 0.0000, 0.0000, 0.0000, 1.0971],\n",
              "        [1.0000, 0.0000, 0.0000, 0.0000, 1.5561],\n",
              "        [1.0000, 0.0000, 0.0000, 0.0000, 1.5592],\n",
              "        [1.0000, 0.0000, 0.0000, 0.0000, 1.5084],\n",
              "        [1.0000, 0.0000, 0.0000, 0.0000, 1.0911],\n",
              "        [1.0000, 0.0000, 0.0000, 0.0000, 1.5592],\n",
              "        [1.0000, 0.0000, 0.0000, 0.0000, 1.5171],\n",
              "        [1.0000, 0.0000, 0.0000, 0.0000, 1.0947],\n",
              "        [1.0000, 0.0000, 0.0000, 0.0000, 1.0964],\n",
              "        [1.0000, 0.0000, 0.0000, 0.0000, 1.5075],\n",
              "        [1.0000, 0.0000, 0.0000, 0.0000, 1.5171],\n",
              "        [1.0000, 0.0000, 0.0000, 0.0000, 1.5364],\n",
              "        [1.0000, 0.0000, 0.0000, 0.0000, 1.0844],\n",
              "        [1.0000, 0.0000, 0.0000, 0.0000, 1.5364],\n",
              "        [1.0000, 0.0000, 0.0000, 0.0000, 1.5364],\n",
              "        [1.0000, 0.0000, 0.0000, 0.0000, 1.4794],\n",
              "        [1.0000, 0.0000, 0.0000, 0.0000, 1.0846],\n",
              "        [1.0000, 0.0000, 0.0000, 0.0000, 1.4794],\n",
              "        [0.0000, 1.0000, 0.0000, 0.0000, 1.3369],\n",
              "        [1.0000, 0.0000, 0.0000, 0.0000, 1.0851],\n",
              "        [1.0000, 0.0000, 0.0000, 0.0000, 1.5084],\n",
              "        [0.0000, 1.0000, 0.0000, 0.0000, 1.3369],\n",
              "        [1.0000, 0.0000, 0.0000, 0.0000, 1.0843],\n",
              "        [1.0000, 0.0000, 0.0000, 0.0000, 1.0968],\n",
              "        [1.0000, 0.0000, 0.0000, 0.0000, 1.0964],\n",
              "        [1.0000, 0.0000, 0.0000, 0.0000, 1.0950],\n",
              "        [1.0000, 0.0000, 0.0000, 0.0000, 1.0952],\n",
              "        [1.0000, 0.0000, 0.0000, 0.0000, 1.0971],\n",
              "        [1.0000, 0.0000, 0.0000, 0.0000, 1.0911],\n",
              "        [1.0000, 0.0000, 0.0000, 0.0000, 1.0947],\n",
              "        [1.0000, 0.0000, 0.0000, 0.0000, 1.0964],\n",
              "        [1.0000, 0.0000, 0.0000, 0.0000, 1.0844],\n",
              "        [1.0000, 0.0000, 0.0000, 0.0000, 1.0846],\n",
              "        [1.0000, 0.0000, 0.0000, 0.0000, 1.0851],\n",
              "        [1.0000, 0.0000, 0.0000, 0.0000, 1.0843]])"
            ]
          },
          "metadata": {},
          "execution_count": 166
        }
      ]
    },
    {
      "cell_type": "code",
      "source": [
        "dataset[0].y   ### DIFFERENT THAN BEFORE, NOW WE HAVE ONLY 1 TARGET INSTEAD OF 19!"
      ],
      "metadata": {
        "colab": {
          "base_uri": "https://localhost:8080/"
        },
        "id": "laiK-uKvj6FN",
        "outputId": "d0f95b34-2089-49f2-a4f3-a366a5275e69"
      },
      "execution_count": null,
      "outputs": [
        {
          "output_type": "execute_result",
          "data": {
            "text/plain": [
              "tensor([1.5249])"
            ]
          },
          "metadata": {},
          "execution_count": 167
        }
      ]
    },
    {
      "cell_type": "code",
      "source": [
        "mean = dataset.data.y.mean(dim = 0, keepdim = True)\n",
        "std = dataset.data.y.std(dim = 0, keepdim = True)\n",
        "dataset.data.y = (dataset.data.y - mean) / std\n",
        "mean, std = mean[:, TARGET_Y].item(), std[:, TARGET_Y].item()"
      ],
      "metadata": {
        "colab": {
          "base_uri": "https://localhost:8080/"
        },
        "id": "eemh40VqJlAE",
        "outputId": "0ffa5d13-4098-4065-f46f-843516483539"
      },
      "execution_count": 9,
      "outputs": [
        {
          "output_type": "stream",
          "name": "stderr",
          "text": [
            "/usr/local/lib/python3.10/dist-packages/torch_geometric/data/in_memory_dataset.py:300: UserWarning: It is not recommended to directly access the internal storage format `data` of an 'InMemoryDataset'. The given 'InMemoryDataset' only references a subset of examples of the full dataset, but 'data' will contain information of the full dataset. If you are absolutely certain what you are doing, access the internal storage via `InMemoryDataset._data` instead to suppress this warning. Alternatively, you can access stacked individual attributes of every graph via `dataset.{attr_name}`.\n",
            "  warnings.warn(msg)\n"
          ]
        }
      ]
    },
    {
      "cell_type": "code",
      "source": [
        "len(dataset)"
      ],
      "metadata": {
        "colab": {
          "base_uri": "https://localhost:8080/"
        },
        "id": "a4HDyi8fJ1c6",
        "outputId": "5004b167-70ff-4871-d1f5-0031309a3154"
      },
      "execution_count": null,
      "outputs": [
        {
          "output_type": "execute_result",
          "data": {
            "text/plain": [
              "130831"
            ]
          },
          "metadata": {},
          "execution_count": 138
        }
      ]
    },
    {
      "cell_type": "code",
      "source": [
        "test_dataset = dataset[:10000]\n",
        "val_dataset = dataset[10000:20000]\n",
        "#train_dataset = dataset[20000:40000]\n",
        "train_dataset = dataset[20000:]"
      ],
      "metadata": {
        "id": "WWhrJamXJ_zT"
      },
      "execution_count": 11,
      "outputs": []
    },
    {
      "cell_type": "code",
      "source": [
        "# Create pytorch objects for handling the data\n",
        "test_loader = DataLoader(test_dataset, batch_size=128, shuffle=False)\n",
        "val_loader = DataLoader(val_dataset, batch_size=128, shuffle=False)\n",
        "train_loader = DataLoader(train_dataset, batch_size=128, shuffle=True)"
      ],
      "metadata": {
        "id": "EkRePWUEKFM8"
      },
      "execution_count": 12,
      "outputs": []
    },
    {
      "cell_type": "markdown",
      "source": [
        "Here we define \"SlimeNet\", a base GNN for molecules.\n",
        "\n",
        "- A fully-connected linear layer from dataset.num_fratures to hidden_dim + ReLU\n",
        "\n",
        "- A GCNConv layer from hidden_dim to hidden_dim + ReLU. A GCNConv should be similar to a convolutional layer with a kernel. It has weights and biases and computes the weighted sum of the nodes that are connected.\n",
        "\n",
        "- A Set2Set layer from hidden_dim with processing_steps = 1.\n",
        "\n",
        "- A linear layer from 2 * hidden_dim to hidden_dim + ReLU\n",
        "\n",
        "- A linear layer from hidden_dim to 1 dimension --> the output, which is the formation energy.\n",
        "\n",
        "The ReLU functions are needed to introduce non-linearity."
      ],
      "metadata": {
        "id": "J315X5VHKJ27"
      }
    },
    {
      "cell_type": "code",
      "source": [
        "class SlimeNet (torch.nn.Module):\n",
        "    def __init__ (self, hidden_dim: int):\n",
        "        super().__init__()\n",
        "        self.lin0 = torch.nn.Linear(dataset.num_features, hidden_dim)\n",
        "        self.conv = GCNConv(hidden_dim, hidden_dim)\n",
        "        self.set2set = Set2Set(hidden_dim, processing_steps = 1)\n",
        "        self.lin1 = torch.nn.Linear(2*hidden_dim, hidden_dim)\n",
        "        self.lin2 = torch.nn.Linear(hidden_dim, 1)\n",
        "        return\n",
        "\n",
        "    def forward (self, data):\n",
        "        # Nothing special, just a sequece of transformations\n",
        "        # But pay attention to the API signatures of the graph layers\n",
        "        # Apply a linear layer+ReLu to the featues of each node independenly\n",
        "        out = F.relu(self.lin0(data.x))\n",
        "        # Apply a graph convolution\n",
        "        out = F.relu(self.conv(out, data.edge_index))\n",
        "        # Apply a Set2Set pooling operation from\n",
        "        # \"Order Matters: Sequence to sequence for sets\"\n",
        "        # https://arxiv.org/abs/1511.06391 paper\n",
        "        out = self.set2set(out, data.batch)\n",
        "        # And a classic fully-connected head\n",
        "        out = F.relu(self.lin1(out))\n",
        "        out = self.lin2(out)\n",
        "        return out.view(-1)"
      ],
      "metadata": {
        "id": "WLZ4etpKKJUg"
      },
      "execution_count": 13,
      "outputs": []
    },
    {
      "cell_type": "code",
      "source": [
        "device = torch.device('cuda' if torch.cuda.is_available() else 'cpu')"
      ],
      "metadata": {
        "id": "vQeJFZffLVka"
      },
      "execution_count": 14,
      "outputs": []
    },
    {
      "cell_type": "code",
      "source": [
        "def evaluate_model (model, epochs = 15):\n",
        "  model = model.to(device)\n",
        "  optimizer = torch.optim.Adam(model.parameters(), lr = 0.001)\n",
        "  scheduler = torch.optim.lr_scheduler.ReduceLROnPlateau(optimizer,\n",
        "                                                         mode = \"min\",\n",
        "                                                         factor = 0.7,\n",
        "                                                         patience = 5,\n",
        "                                                         min_lr = 1e-5)\n",
        "\n",
        "  def train (epoch):\n",
        "    model.train()\n",
        "    loss_all = 0\n",
        "    for data in train_loader:\n",
        "      data = data.to(device)\n",
        "      optimizer.zero_grad()\n",
        "      loss = F.mse_loss(model(data), data.y)\n",
        "      loss.backward()\n",
        "      loss_all += loss.item() * data.num_graphs\n",
        "      optimizer.step()\n",
        "    return loss_all / len(train_loader.dataset)\n",
        "\n",
        "  def test (loader):\n",
        "    model.eval()\n",
        "    error = 0\n",
        "    for data in loader:\n",
        "      data = data.to(device)\n",
        "      error += (model(data)*std - data.y*std).abs().sum().item() # MAE = Mean Absolute Value\n",
        "    return error / len(loader.dataset)\n",
        "\n",
        "  best_val_error = None\n",
        "  for epoch in trange(epochs):\n",
        "        lr = scheduler.optimizer.param_groups[0]['lr']\n",
        "        loss = train(epoch)\n",
        "        val_error = test(val_loader)\n",
        "        scheduler.step(val_error)\n",
        "\n",
        "        if best_val_error is None or val_error <= best_val_error:\n",
        "            test_error = test(test_loader)\n",
        "            best_val_error = val_error\n",
        "\n",
        "        print(f'Epoch: {epoch:03d}, LR: {lr:7f}, Loss: {loss:.7f}, '\n",
        "              f'Val MAE: {val_error:.7f}, Test MAE: {test_error:.7f}')\n"
      ],
      "metadata": {
        "id": "mFZmb7T7MOjU"
      },
      "execution_count": 15,
      "outputs": []
    },
    {
      "cell_type": "code",
      "source": [
        "evaluate_model(SlimeNet(16))"
      ],
      "metadata": {
        "colab": {
          "base_uri": "https://localhost:8080/",
          "height": 309,
          "referenced_widgets": [
            "e7bb840a1f4e43908db5271c1c20f80d",
            "312535e5cf5e43d19151713bea46b78b",
            "425b0b96e4ad4b45907de8b2746c461f",
            "1978c4a12b21449f9efde74877ebdea2",
            "e1b33db1937940c99e75e59c80f6ef05",
            "1d3066c091b84fc88a273d27397507a4",
            "55442ec8768042cd9e0edfa9c3e8bee6",
            "617fe8c8ff014f6b8110ba480744f40f",
            "549840b597694f3dbf7056d85bcade40",
            "fb10b114038f460f9482d79788816bcd",
            "b5718d87a80648de83c81f9af932c3b3"
          ]
        },
        "id": "PRs2q-g6M50n",
        "outputId": "9cddb4e1-7373-4810-d826-6b5d41937f73"
      },
      "execution_count": null,
      "outputs": [
        {
          "output_type": "display_data",
          "data": {
            "text/plain": [
              "  0%|          | 0/15 [00:00<?, ?it/s]"
            ],
            "application/vnd.jupyter.widget-view+json": {
              "version_major": 2,
              "version_minor": 0,
              "model_id": "e7bb840a1f4e43908db5271c1c20f80d"
            }
          },
          "metadata": {}
        },
        {
          "output_type": "stream",
          "name": "stdout",
          "text": [
            "Epoch: 000, LR: 0.001000, Loss: 0.9360331, Val MAE: 682.2457555, Test MAE: 692.3671388\n",
            "Epoch: 001, LR: 0.001000, Loss: 0.5933710, Val MAE: 532.5896913, Test MAE: 543.4872798\n",
            "Epoch: 002, LR: 0.001000, Loss: 0.4681427, Val MAE: 453.7991430, Test MAE: 463.2675317\n",
            "Epoch: 003, LR: 0.001000, Loss: 0.4253800, Val MAE: 456.0827143, Test MAE: 463.2675317\n",
            "Epoch: 004, LR: 0.001000, Loss: 0.4050134, Val MAE: 389.3668957, Test MAE: 399.0253112\n",
            "Epoch: 005, LR: 0.001000, Loss: 0.3909459, Val MAE: 427.9929280, Test MAE: 399.0253112\n",
            "Epoch: 006, LR: 0.001000, Loss: 0.3846820, Val MAE: 444.2028717, Test MAE: 399.0253112\n",
            "Epoch: 007, LR: 0.001000, Loss: 0.3812430, Val MAE: 475.1593389, Test MAE: 399.0253112\n",
            "Epoch: 008, LR: 0.001000, Loss: 0.3811800, Val MAE: 458.9295218, Test MAE: 399.0253112\n",
            "Epoch: 009, LR: 0.001000, Loss: 0.3779068, Val MAE: 434.4780684, Test MAE: 399.0253112\n",
            "Epoch: 010, LR: 0.001000, Loss: 0.3769869, Val MAE: 508.2433061, Test MAE: 399.0253112\n",
            "Epoch: 011, LR: 0.000700, Loss: 0.3742532, Val MAE: 447.0170037, Test MAE: 399.0253112\n",
            "Epoch: 012, LR: 0.000700, Loss: 0.3763037, Val MAE: 394.0544891, Test MAE: 399.0253112\n",
            "Epoch: 013, LR: 0.000700, Loss: 0.3732632, Val MAE: 409.7756379, Test MAE: 399.0253112\n",
            "Epoch: 014, LR: 0.000700, Loss: 0.3713012, Val MAE: 424.9233340, Test MAE: 399.0253112\n"
          ]
        }
      ]
    },
    {
      "cell_type": "code",
      "source": [
        "evaluate_model(SlimeNet(32))"
      ],
      "metadata": {
        "colab": {
          "base_uri": "https://localhost:8080/",
          "height": 309,
          "referenced_widgets": [
            "ab051e9f83dd485492413c5d1178c40d",
            "a5b24f90a580480595b16b7f64fd9da2",
            "2b4109bca5fd48f49242df4b0f7f5622",
            "27db9f6b4390480aad0407b6b84d3963",
            "54ef405a0019454cab64174e0e0930c9",
            "8c37a07e95c84acc9a656a1e54dc3bfa",
            "90f1e852f7814fd088b8136668402d64",
            "8b5954ab5eb94ce58f4cf34cc17eacf7",
            "4925dc6cacf34488b6c76544a8039816",
            "e1d2387b6da54ede8391f3647fc2c8bf",
            "2a718423c6ce4f55808d0b2555c9332c"
          ]
        },
        "id": "S6P9xnTBSfT4",
        "outputId": "acea34d6-c359-42e4-eae8-d6fd99c997b2"
      },
      "execution_count": null,
      "outputs": [
        {
          "output_type": "display_data",
          "data": {
            "text/plain": [
              "  0%|          | 0/15 [00:00<?, ?it/s]"
            ],
            "application/vnd.jupyter.widget-view+json": {
              "version_major": 2,
              "version_minor": 0,
              "model_id": "ab051e9f83dd485492413c5d1178c40d"
            }
          },
          "metadata": {}
        },
        {
          "output_type": "stream",
          "name": "stdout",
          "text": [
            "Epoch: 000, LR: 0.001000, Loss: 0.8836458, Val MAE: 668.8567674, Test MAE: 677.7750961\n",
            "Epoch: 001, LR: 0.001000, Loss: 0.5294055, Val MAE: 475.4350585, Test MAE: 486.9262510\n",
            "Epoch: 002, LR: 0.001000, Loss: 0.4270985, Val MAE: 456.2156684, Test MAE: 467.1971671\n",
            "Epoch: 003, LR: 0.001000, Loss: 0.3952709, Val MAE: 385.4468011, Test MAE: 396.9561031\n",
            "Epoch: 004, LR: 0.001000, Loss: 0.3841560, Val MAE: 394.7426786, Test MAE: 396.9561031\n",
            "Epoch: 005, LR: 0.001000, Loss: 0.3777942, Val MAE: 419.6859521, Test MAE: 396.9561031\n",
            "Epoch: 006, LR: 0.001000, Loss: 0.3744634, Val MAE: 514.0045986, Test MAE: 396.9561031\n",
            "Epoch: 007, LR: 0.001000, Loss: 0.3775749, Val MAE: 358.8073724, Test MAE: 370.2840534\n",
            "Epoch: 008, LR: 0.001000, Loss: 0.3739850, Val MAE: 407.7393865, Test MAE: 370.2840534\n",
            "Epoch: 009, LR: 0.001000, Loss: 0.3700027, Val MAE: 495.6620143, Test MAE: 370.2840534\n",
            "Epoch: 010, LR: 0.001000, Loss: 0.3727975, Val MAE: 357.4901332, Test MAE: 368.3193978\n",
            "Epoch: 011, LR: 0.001000, Loss: 0.3697926, Val MAE: 353.2721828, Test MAE: 364.2409150\n",
            "Epoch: 012, LR: 0.001000, Loss: 0.3684034, Val MAE: 437.3257916, Test MAE: 364.2409150\n",
            "Epoch: 013, LR: 0.001000, Loss: 0.3698612, Val MAE: 450.0280181, Test MAE: 364.2409150\n",
            "Epoch: 014, LR: 0.001000, Loss: 0.3687700, Val MAE: 368.7663018, Test MAE: 364.2409150\n"
          ]
        }
      ]
    },
    {
      "cell_type": "code",
      "source": [
        "evaluate_model(SlimeNet(16))    # now I trained over the whole training dataset, but it did not improve the situation"
      ],
      "metadata": {
        "colab": {
          "base_uri": "https://localhost:8080/",
          "height": 321,
          "referenced_widgets": [
            "a9edfc194af340469d862c9a7d7db609",
            "9283f9d0733046c38fb73a30b162b28a",
            "402323bee94c4339b223501d517723a3",
            "e3ac32693cab4548be0a1f9b46e7198b",
            "2d4bdba2940c4c05ad50a7397c38e744",
            "230270f30f044a42bd053b0eaebe95a0",
            "c490e5af1bee40a98c824cf6238dac3e",
            "1009d6c670c74e0b977b167100a00404",
            "cf7b9e12bdba4f7282c622e019c76d5d",
            "d094e3f57b0c4e4a8a171e0c46f83023",
            "8d1d49386a304bceab5f239f2c0027ec"
          ]
        },
        "id": "Xt_dtbgir3up",
        "outputId": "f9339a1d-4035-4f04-c885-ce3944cb39ee"
      },
      "execution_count": 16,
      "outputs": [
        {
          "output_type": "display_data",
          "data": {
            "text/plain": [
              "  0%|          | 0/15 [00:00<?, ?it/s]"
            ],
            "application/vnd.jupyter.widget-view+json": {
              "version_major": 2,
              "version_minor": 0,
              "model_id": "a9edfc194af340469d862c9a7d7db609"
            }
          },
          "metadata": {}
        },
        {
          "output_type": "stream",
          "name": "stdout",
          "text": [
            "Epoch: 000, LR: 0.001000, Loss: 0.5492907, Val MAE: 458.3443070, Test MAE: 467.9994939\n",
            "Epoch: 001, LR: 0.001000, Loss: 0.3804831, Val MAE: 413.5321781, Test MAE: 424.1209260\n",
            "Epoch: 002, LR: 0.001000, Loss: 0.3735572, Val MAE: 470.7731718, Test MAE: 424.1209260\n",
            "Epoch: 003, LR: 0.001000, Loss: 0.3716354, Val MAE: 360.0547035, Test MAE: 371.8423251\n",
            "Epoch: 004, LR: 0.001000, Loss: 0.3700227, Val MAE: 472.3903448, Test MAE: 371.8423251\n",
            "Epoch: 005, LR: 0.001000, Loss: 0.3697451, Val MAE: 408.0780770, Test MAE: 371.8423251\n",
            "Epoch: 006, LR: 0.001000, Loss: 0.3689559, Val MAE: 370.1749675, Test MAE: 371.8423251\n",
            "Epoch: 007, LR: 0.001000, Loss: 0.3681621, Val MAE: 436.2009010, Test MAE: 371.8423251\n",
            "Epoch: 008, LR: 0.001000, Loss: 0.3675304, Val MAE: 402.5895682, Test MAE: 371.8423251\n",
            "Epoch: 009, LR: 0.001000, Loss: 0.3664409, Val MAE: 400.2735556, Test MAE: 371.8423251\n",
            "Epoch: 010, LR: 0.000700, Loss: 0.3652922, Val MAE: 457.6825167, Test MAE: 371.8423251\n",
            "Epoch: 011, LR: 0.000700, Loss: 0.3646596, Val MAE: 356.6599555, Test MAE: 365.8133665\n",
            "Epoch: 012, LR: 0.000700, Loss: 0.3650207, Val MAE: 428.4998238, Test MAE: 365.8133665\n",
            "Epoch: 013, LR: 0.000700, Loss: 0.3645487, Val MAE: 472.6691579, Test MAE: 365.8133665\n",
            "Epoch: 014, LR: 0.000700, Loss: 0.3644860, Val MAE: 492.2135425, Test MAE: 365.8133665\n"
          ]
        }
      ]
    },
    {
      "cell_type": "code",
      "source": [],
      "metadata": {
        "id": "ovb5oJqdtyMT"
      },
      "execution_count": null,
      "outputs": []
    },
    {
      "cell_type": "markdown",
      "source": [
        "Task 1. Now is the time for upgrading the model! Build and test a network like SlimeNet, but with 2 and 3 applications of the same convolutional layer. [1 point]"
      ],
      "metadata": {
        "id": "1RA58Erjv_Av"
      }
    },
    {
      "cell_type": "code",
      "source": [
        "class ConvNetSame (torch.nn.Module):\n",
        "    def __init__ (self, hidden_dim: int, n_convs: int):\n",
        "        super().__init__()\n",
        "        self.n_convs = n_convs\n",
        "        self.lin0 = torch.nn.Linear(dataset.num_features, hidden_dim)\n",
        "        self.conv = GCNConv(hidden_dim, hidden_dim)\n",
        "        self.set2set = Set2Set(hidden_dim, processing_steps = 1)\n",
        "        self.lin1 = torch.nn.Linear(2*hidden_dim, hidden_dim)\n",
        "        self.lin2 = torch.nn.Linear(hidden_dim, 1)\n",
        "        return\n",
        "\n",
        "    def forward (self, data):\n",
        "        # Nothing special, just a sequece of transformations\n",
        "        # But pay attention to the API signatures of the graph layers\n",
        "        # Apply a linear layer+ReLu to the featues of each node independenly\n",
        "        out = F.relu(self.lin0(data.x))\n",
        "        # Apply n_convs graph convolutions\n",
        "        for i in range(self.n_convs):\n",
        "            out = F.relu(self.conv(out, data.edge_index))\n",
        "\n",
        "        # Apply a Set2Set pooling operation from\n",
        "        # \"Order Matters: Sequence to sequence for sets\"\n",
        "        # https://arxiv.org/abs/1511.06391 paper\n",
        "        out = self.set2set(out, data.batch)\n",
        "        # And a classic fully-connected head\n",
        "        out = F.relu(self.lin1(out))\n",
        "        out = self.lin2(out)\n",
        "        return out.view(-1)"
      ],
      "metadata": {
        "id": "7FZuY7ZbwAhF"
      },
      "execution_count": 20,
      "outputs": []
    },
    {
      "cell_type": "code",
      "source": [
        "evaluate_model(ConvNetSame(16, 2))"
      ],
      "metadata": {
        "colab": {
          "base_uri": "https://localhost:8080/",
          "height": 321,
          "referenced_widgets": [
            "1cfc58a1e19c4187b59d09e76551e24e",
            "139407f9205d41af969f393b12844433",
            "4f8414a02baa42908c5f01befee94923",
            "8b9564e4319e4a7497dc3d2ddd50040c",
            "77f83080c08a49e18d3ce2d525d171af",
            "defea17b383d479a9b32534d68ccdc5b",
            "45b8ae85b468466c8106d792f5c6ea2c",
            "2b6195b23aa0482d820eb8e45e8a9925",
            "f70fb10f1a4a4986b083ee68e88751c0",
            "3fbf919dd81f4550bea001094ec2c4e9",
            "6acd822585a043129467657d515da7e7"
          ]
        },
        "id": "KaQ6nk6owvr3",
        "outputId": "ee90dcd1-eb88-4131-b13f-76e864bd1b0e"
      },
      "execution_count": 21,
      "outputs": [
        {
          "output_type": "display_data",
          "data": {
            "text/plain": [
              "  0%|          | 0/15 [00:00<?, ?it/s]"
            ],
            "application/vnd.jupyter.widget-view+json": {
              "version_major": 2,
              "version_minor": 0,
              "model_id": "1cfc58a1e19c4187b59d09e76551e24e"
            }
          },
          "metadata": {}
        },
        {
          "output_type": "stream",
          "name": "stdout",
          "text": [
            "Epoch: 000, LR: 0.001000, Loss: 0.5318682, Val MAE: 419.7026970, Test MAE: 428.6525383\n",
            "Epoch: 001, LR: 0.001000, Loss: 0.3843563, Val MAE: 387.1060414, Test MAE: 397.4703542\n",
            "Epoch: 002, LR: 0.001000, Loss: 0.3769033, Val MAE: 382.5678538, Test MAE: 392.5980915\n",
            "Epoch: 003, LR: 0.001000, Loss: 0.3728536, Val MAE: 388.2534412, Test MAE: 392.5980915\n",
            "Epoch: 004, LR: 0.001000, Loss: 0.3708254, Val MAE: 377.3207956, Test MAE: 387.2037024\n",
            "Epoch: 005, LR: 0.001000, Loss: 0.3695754, Val MAE: 432.8953869, Test MAE: 387.2037024\n",
            "Epoch: 006, LR: 0.001000, Loss: 0.3695784, Val MAE: 433.4043450, Test MAE: 387.2037024\n",
            "Epoch: 007, LR: 0.001000, Loss: 0.3695388, Val MAE: 349.7201000, Test MAE: 360.1762046\n",
            "Epoch: 008, LR: 0.001000, Loss: 0.3687683, Val MAE: 376.5624400, Test MAE: 360.1762046\n",
            "Epoch: 009, LR: 0.001000, Loss: 0.3672843, Val MAE: 465.2222582, Test MAE: 360.1762046\n",
            "Epoch: 010, LR: 0.001000, Loss: 0.3675180, Val MAE: 513.2412947, Test MAE: 360.1762046\n",
            "Epoch: 011, LR: 0.001000, Loss: 0.3665754, Val MAE: 420.7088961, Test MAE: 360.1762046\n",
            "Epoch: 012, LR: 0.001000, Loss: 0.3661581, Val MAE: 523.3571749, Test MAE: 360.1762046\n",
            "Epoch: 013, LR: 0.001000, Loss: 0.3659920, Val MAE: 421.7974909, Test MAE: 360.1762046\n",
            "Epoch: 014, LR: 0.000700, Loss: 0.3647349, Val MAE: 399.2942483, Test MAE: 360.1762046\n"
          ]
        }
      ]
    },
    {
      "cell_type": "code",
      "source": [
        "class Conv2Net(torch.nn.Module):\n",
        "    def __init__(self, hidden_dim: int):\n",
        "        \"\"\"\n",
        "        Args:\n",
        "            hidden_dim: the number of units used in the hidden layers\n",
        "        \"\"\"\n",
        "        super().__init__()\n",
        "        self.lin0 = torch.nn.Linear(dataset.num_features, hidden_dim)\n",
        "\n",
        "        # Define two layers. Remember, to have two layers with\n",
        "        # different\n",
        "        ### YOUR CODE HERE\n",
        "        self.conv1 = GCNConv(hidden_dim, hidden_dim)\n",
        "        self.conv2 = GCNConv(hidden_dim, hidden_dim)\n",
        "\n",
        "        self.set2set = Set2Set(hidden_dim, processing_steps=1)\n",
        "        self.lin1 = torch.nn.Linear(2 * hidden_dim, hidden_dim)\n",
        "        self.lin2 = torch.nn.Linear(hidden_dim, 1)\n",
        "\n",
        "    def forward(self, data: torch_geometric.data.Data) -> torch_geometric.data.Data:\n",
        "        out = F.relu(self.lin0(data.x))\n",
        "\n",
        "        # Apply the GCNN layers. Don't forget ReLu\n",
        "        ### YOUR CODE HERE\n",
        "        out = F.relu(self.conv1(out, data.edge_index))\n",
        "        out = F.relu(self.conv2(out, data.edge_index))\n",
        "\n",
        "        out = self.set2set(out, data.batch)\n",
        "        out = F.relu(self.lin1(out))\n",
        "        out = self.lin2(out)\n",
        "        return out.view(-1)"
      ],
      "metadata": {
        "id": "0sHpxJ9GyBiE"
      },
      "execution_count": 22,
      "outputs": []
    },
    {
      "cell_type": "code",
      "source": [
        "evaluate_model(Conv2Net(16))"
      ],
      "metadata": {
        "colab": {
          "base_uri": "https://localhost:8080/",
          "height": 321,
          "referenced_widgets": [
            "7f0aa1fb597f4842ac3da291edb96223",
            "6d0c19fe5eeb40eebd70ff46a76382da",
            "3902fbc6d34b481ab560a8c43ad70c19",
            "87ef5b7ad1bc4de09151ee4fb959a19a",
            "89ebfc0783454bc9b4b4503b8ecf1697",
            "c0e639c6b0164b9496cf919ecaa17172",
            "cd0020c77ef24c1d90db17f48b316304",
            "482edbc9fe614d2e897deeefbaba5f35",
            "c209f7867f244989ba31f644c5fac7e4",
            "a929d85fe27049e286793020ae63325b",
            "4a7945b9db0a494a98a82e37c0f31973"
          ]
        },
        "id": "66vvGjr9ysvi",
        "outputId": "36b00842-eb6f-42d6-e583-0a68abc952b3"
      },
      "execution_count": 23,
      "outputs": [
        {
          "output_type": "display_data",
          "data": {
            "text/plain": [
              "  0%|          | 0/15 [00:00<?, ?it/s]"
            ],
            "application/vnd.jupyter.widget-view+json": {
              "version_major": 2,
              "version_minor": 0,
              "model_id": "7f0aa1fb597f4842ac3da291edb96223"
            }
          },
          "metadata": {}
        },
        {
          "output_type": "stream",
          "name": "stdout",
          "text": [
            "Epoch: 000, LR: 0.001000, Loss: 0.5303071, Val MAE: 408.4991687, Test MAE: 419.2015938\n",
            "Epoch: 001, LR: 0.001000, Loss: 0.3806113, Val MAE: 577.7569228, Test MAE: 419.2015938\n",
            "Epoch: 002, LR: 0.001000, Loss: 0.3741392, Val MAE: 427.0288890, Test MAE: 419.2015938\n",
            "Epoch: 003, LR: 0.001000, Loss: 0.3731201, Val MAE: 384.8419610, Test MAE: 394.4946549\n",
            "Epoch: 004, LR: 0.001000, Loss: 0.3715707, Val MAE: 351.5361040, Test MAE: 362.0350834\n",
            "Epoch: 005, LR: 0.001000, Loss: 0.3701581, Val MAE: 402.5200680, Test MAE: 362.0350834\n",
            "Epoch: 006, LR: 0.001000, Loss: 0.3697839, Val MAE: 460.8788662, Test MAE: 362.0350834\n",
            "Epoch: 007, LR: 0.001000, Loss: 0.3684894, Val MAE: 448.5200636, Test MAE: 362.0350834\n",
            "Epoch: 008, LR: 0.001000, Loss: 0.3680146, Val MAE: 515.5593354, Test MAE: 362.0350834\n",
            "Epoch: 009, LR: 0.001000, Loss: 0.3675835, Val MAE: 386.7120936, Test MAE: 362.0350834\n",
            "Epoch: 010, LR: 0.001000, Loss: 0.3672710, Val MAE: 392.9649771, Test MAE: 362.0350834\n",
            "Epoch: 011, LR: 0.000700, Loss: 0.3650226, Val MAE: 391.6266840, Test MAE: 362.0350834\n",
            "Epoch: 012, LR: 0.000700, Loss: 0.3649864, Val MAE: 403.6650592, Test MAE: 362.0350834\n",
            "Epoch: 013, LR: 0.000700, Loss: 0.3648115, Val MAE: 467.2389216, Test MAE: 362.0350834\n",
            "Epoch: 014, LR: 0.000700, Loss: 0.3640219, Val MAE: 410.0426437, Test MAE: 362.0350834\n"
          ]
        }
      ]
    }
  ]
}